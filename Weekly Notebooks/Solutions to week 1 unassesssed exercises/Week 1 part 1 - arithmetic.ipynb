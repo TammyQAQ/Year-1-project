{
 "cells": [
  {
   "cell_type": "markdown",
   "metadata": {
    "collapsed": false
   },
   "source": [
    "# MATH0011 Python: week 1 notebooks\n",
    "\n",
    "Welcome to week 1! In this week's notebooks you will learn about\n",
    "- arithmetic,\n",
    "- variables,\n",
    "- functions,\n",
    "- boolean logic, and\n",
    "- conditionals.\n",
    "\n",
    "This is part 1 of the week 1 notebooks, on arithmetic.\n",
    "\n",
    "During your assigned computer class time you can get help by [using the Cocalc chat function](https://doc.cocalc.com/teaching-students.html#contacting-your-lecturer-or-ta).  Click the link to learn more, or just click the \"Chat\" button at the top on the right.\n",
    "\n",
    "There are also unassessed exercises in this folder which don't count toward your module mark, but will help you understand the course material.  They won't be marked. Solutions will be published after the week is over.\n",
    "\n",
    "## Jupyter notebooks\n",
    "\n",
    "The file you are looking at is called a [Jupyter Notebook](https://jupyter.org/).  It's a convenient place to experiment with Python code, as well as a very popular environment for doing data analysis.  You can save any changes you make to this notebook with the green Save button at the top left of the screen.\n",
    "\n",
    "A *code cell* in a Jupyter notebook is one of the boxes with `In `[` `]`:` to its left.  If you \n",
    "type Python code into one of these and press shift and enter, the code gets executed by a Python interpreter and the result of the last line of code is printed. **Try clicking in the next two cells and then pressing shift and enter.**"
   ]
  },
  {
   "cell_type": "code",
   "execution_count": 0,
   "metadata": {
    "collapsed": false
   },
   "outputs": [
   ],
   "source": [
    "2 + 2"
   ]
  },
  {
   "cell_type": "code",
   "execution_count": 0,
   "metadata": {
    "collapsed": false
   },
   "outputs": [
   ],
   "source": [
    "print(\"Hello.\")"
   ]
  },
  {
   "cell_type": "markdown",
   "metadata": {
    "collapsed": false
   },
   "source": [
    "## Arithmetic in Python\n",
    "\n",
    "The simplest kind of computations you can do are basic arithmetic: addition `+`, subtraction `-`, multiplication, `*`, and division `/`.  We also use round brackets `(` `)` to make it clear what we mean, just like in ordinary mathematics.\n",
    "\n",
    "These work in Python exactly how you would expect if you were using a calculator: run the following cells with shift-enter:"
   ]
  },
  {
   "cell_type": "code",
   "execution_count": 0,
   "metadata": {
    "collapsed": false
   },
   "outputs": [
   ],
   "source": [
    "1 + (2 - 3)"
   ]
  },
  {
   "cell_type": "code",
   "execution_count": 0,
   "metadata": {
    "collapsed": false
   },
   "outputs": [
   ],
   "source": [
    "3 / (4 * 5)"
   ]
  },
  {
   "cell_type": "code",
   "execution_count": 0,
   "metadata": {
    "collapsed": false
   },
   "outputs": [
   ],
   "source": [
    "3 / 4 * 5"
   ]
  },
  {
   "cell_type": "markdown",
   "metadata": {
    "collapsed": false
   },
   "source": [
    "Exponentiation is done with `**`.  To get $x^y$, you must type `x ** y` (and **not** `x ^ y` - that means something different). Run the next cell with shift-enter to compute $2^{10}$."
   ]
  },
  {
   "cell_type": "code",
   "execution_count": 0,
   "metadata": {
    "collapsed": false
   },
   "outputs": [
   ],
   "source": [
    "2 ** 10"
   ]
  },
  {
   "cell_type": "markdown",
   "metadata": {
    "collapsed": false
   },
   "source": [
    "You can use exponentiation to compute $n$th roots, since $\\sqrt{x} = x^{1/2}, \\sqrt[3]{x} = x^{1/3}$ and so on:"
   ]
  },
  {
   "cell_type": "code",
   "execution_count": 0,
   "metadata": {
    "collapsed": false
   },
   "outputs": [
   ],
   "source": [
    "2 ** 0.5"
   ]
  },
  {
   "cell_type": "code",
   "execution_count": 0,
   "metadata": {
    "collapsed": false
   },
   "outputs": [
   ],
   "source": [
    "8 ** (1/3)"
   ]
  },
  {
   "cell_type": "markdown",
   "metadata": {
    "collapsed": false
   },
   "source": [
    "Python does division with remainder using the `%` and `//` operators.  Given two integers $a$ and $b \\neq 0$ there exist integers $q$ and $r$ (the *quotient* and *remainder* when you divide $a$ by $b$) such that\n",
    "$$ a = q b + r $$\n",
    "and $0 \\leq r < |b|$.\n",
    "\n",
    "In Python the **quotient** $q$ is `a // b` and the **remainder** $r$ is ` a % b`.\n",
    "\n",
    "This can be useful if you want to know if an integer is a multiple of another integer, because $a$ is a multiple of $b$ if and only if the remainder `a % b` is `0`."
   ]
  },
  {
   "cell_type": "code",
   "execution_count": 0,
   "metadata": {
    "collapsed": false
   },
   "outputs": [
   ],
   "source": [
    "16 // 3"
   ]
  },
  {
   "cell_type": "code",
   "execution_count": 0,
   "metadata": {
    "collapsed": false
   },
   "outputs": [
   ],
   "source": [
    "16 % 3"
   ]
  },
  {
   "cell_type": "code",
   "execution_count": 0,
   "metadata": {
    "collapsed": false
   },
   "outputs": [
   ],
   "source": [
   ]
  },
  {
   "cell_type": "markdown",
   "metadata": {
    "collapsed": false
   },
   "source": [
    "How many days and weeks is 49857485937 days? Work it out using `//` and `%` in the next two code cells."
   ]
  },
  {
   "cell_type": "code",
   "execution_count": 1,
   "metadata": {
    "collapsed": false
   },
   "outputs": [
    {
     "data": {
      "text/plain": [
       "7122497991"
      ]
     },
     "execution_count": 1,
     "metadata": {
     },
     "output_type": "execute_result"
    }
   ],
   "source": [
    "49857485937 // 7 # weeks"
   ]
  },
  {
   "cell_type": "code",
   "execution_count": 2,
   "metadata": {
    "collapsed": false
   },
   "outputs": [
    {
     "data": {
      "text/plain": [
       "0"
      ]
     },
     "execution_count": 2,
     "metadata": {
     },
     "output_type": "execute_result"
    }
   ],
   "source": [
    "49857485937 % 7 # days"
   ]
  },
  {
   "cell_type": "markdown",
   "metadata": {
    "collapsed": false
   },
   "source": [
    "When you run a code cell, the value of the *last* line gets printed out. Try running the next cell:"
   ]
  },
  {
   "cell_type": "code",
   "execution_count": 0,
   "metadata": {
    "collapsed": false
   },
   "outputs": [
   ],
   "source": [
    "2 + 2\n",
    "3 + 3"
   ]
  },
  {
   "cell_type": "markdown",
   "metadata": {
    "collapsed": false
   },
   "source": [
    "You only see the result of the second computation `3 + 3`.  If you want to see the result of earlier lines as well, use `print`:"
   ]
  },
  {
   "cell_type": "code",
   "execution_count": 0,
   "metadata": {
    "collapsed": false
   },
   "outputs": [
   ],
   "source": [
    "print(2 + 2)\n",
    "3 + 3"
   ]
  },
  {
   "cell_type": "markdown",
   "metadata": {
    "collapsed": false
   },
   "source": [
    "### Scientific notation\n",
    "\n",
    "You might occasionally see really small or large numbers written in [scientific notation](https://python-reference.readthedocs.io/en/latest/docs/float/scientific.html), for example\n",
    "```\n",
    "1.4e+20\n",
    "```\n",
    "(or just `1.4e20`) means $1.4 \\times 10^{20}$ and\n",
    "```\n",
    "5.551e-17\n",
    "```\n",
    "means $5.551 \\times 10 ^{-17}$.  We won't use this much, but you might come across it if you do calculations with very small or large answers, e.g."
   ]
  },
  {
   "cell_type": "code",
   "execution_count": 0,
   "metadata": {
    "collapsed": false
   },
   "outputs": [
   ],
   "source": [
    "2 ** -100"
   ]
  },
  {
   "cell_type": "code",
   "execution_count": 0,
   "metadata": {
    "collapsed": false
   },
   "outputs": [
   ],
   "source": [
    "4.0 ** (4.0 ** 4.0)"
   ]
  },
  {
   "cell_type": "markdown",
   "metadata": {
    "collapsed": false
   },
   "source": [
    "## Arithmetic - summary\n",
    "\n",
    "- $a^b$ in Python is `a ** b`, **not** `a ^ b`\n",
    "- Use parentheses to make it clear what you mean. `a / b * c` $\\neq$ `a / (b * c)`\n",
    "- `a // b` is the quotient and `a % b` is the remainder when you divide an integer `a` by an integer `b`."
   ]
  },
  {
   "cell_type": "markdown",
   "metadata": {
    "collapsed": false
   },
   "source": [
    "# Unassessed exercises\n",
    "\n",
    "**Exercise 1.** Which of these \"equations\" are really true?  Check by computing both sides.\n",
    "\n",
    "1. $\\frac{16}{64} = \\frac{1}{4}$\n",
    "2. $\\sqrt{2025} = 20 + 25$\n",
    "6. $32768 = \\left(\\frac{3 + 2 + 7}{6}\\right)^{3 \\times 2 + 7 - 6 + 8}$\n",
    "3. $2592 = 2^5 9^2$\n",
    "5. $3^3 + 4^4 + 3^3 + 5^5 = 3435$\n",
    "9. $\\sqrt[ \\sqrt{2} ]{2} = \\sqrt{2}^\\sqrt{2}$"
   ]
  },
  {
   "cell_type": "code",
   "execution_count": 3,
   "metadata": {
    "collapsed": false
   },
   "outputs": [
    {
     "data": {
      "text/plain": [
       "0.25"
      ]
     },
     "execution_count": 3,
     "metadata": {
     },
     "output_type": "execute_result"
    }
   ],
   "source": [
    "16/64"
   ]
  },
  {
   "cell_type": "code",
   "execution_count": 4,
   "metadata": {
    "collapsed": false
   },
   "outputs": [
    {
     "data": {
      "text/plain": [
       "0.25"
      ]
     },
     "execution_count": 4,
     "metadata": {
     },
     "output_type": "execute_result"
    }
   ],
   "source": [
    "1/4 # they're equal"
   ]
  },
  {
   "cell_type": "code",
   "execution_count": 5,
   "metadata": {
    "collapsed": false
   },
   "outputs": [
    {
     "data": {
      "text/plain": [
       "45.0"
      ]
     },
     "execution_count": 5,
     "metadata": {
     },
     "output_type": "execute_result"
    }
   ],
   "source": [
    "# part 2\n",
    "2025 ** 0.5"
   ]
  },
  {
   "cell_type": "code",
   "execution_count": 6,
   "metadata": {
    "collapsed": false
   },
   "outputs": [
    {
     "data": {
      "text/plain": [
       "45"
      ]
     },
     "execution_count": 6,
     "metadata": {
     },
     "output_type": "execute_result"
    }
   ],
   "source": [
    "20 + 25 # they're equal"
   ]
  },
  {
   "cell_type": "code",
   "execution_count": 7,
   "metadata": {
    "collapsed": false
   },
   "outputs": [
    {
     "data": {
      "text/plain": [
       "32768.0"
      ]
     },
     "execution_count": 7,
     "metadata": {
     },
     "output_type": "execute_result"
    }
   ],
   "source": [
    "# part 3\n",
    "((3 + 2 + 7)/6) ** (3*2 + 7 - 6 + 8) # they're equal"
   ]
  },
  {
   "cell_type": "code",
   "execution_count": 8,
   "metadata": {
    "collapsed": false
   },
   "outputs": [
    {
     "data": {
      "text/plain": [
       "2592"
      ]
     },
     "execution_count": 8,
     "metadata": {
     },
     "output_type": "execute_result"
    }
   ],
   "source": [
    "# part 4\n",
    "2 ** 5 * 9 ** 2 # they'r eequal"
   ]
  },
  {
   "cell_type": "code",
   "execution_count": 9,
   "metadata": {
    "collapsed": false
   },
   "outputs": [
    {
     "data": {
      "text/plain": [
       "3435"
      ]
     },
     "execution_count": 9,
     "metadata": {
     },
     "output_type": "execute_result"
    }
   ],
   "source": [
    "# part 5\n",
    "3**3 + 4**4 + 3**3 + 5**5 # they're equal"
   ]
  },
  {
   "cell_type": "code",
   "execution_count": 11,
   "metadata": {
    "collapsed": false
   },
   "outputs": [
   ],
   "source": [
    "# part 6. To make this easier, try creating a variable s equal to the square root of 2\n",
    "s = 2 ** 0.5"
   ]
  },
  {
   "cell_type": "markdown",
   "metadata": {
    "collapsed": false
   },
   "source": [
    "$\\sqrt[a]{b} = b ^{1/a}$, so $\\sqrt[\\sqrt 2]{2}$ is..."
   ]
  },
  {
   "cell_type": "code",
   "execution_count": 12,
   "metadata": {
    "collapsed": false
   },
   "outputs": [
    {
     "data": {
      "text/plain": [
       "1.6325269194381529"
      ]
     },
     "execution_count": 12,
     "metadata": {
     },
     "output_type": "execute_result"
    }
   ],
   "source": [
    "2 ** (1/s)"
   ]
  },
  {
   "cell_type": "markdown",
   "metadata": {
    "collapsed": false
   },
   "source": [
    "which is the same as $\\sqrt{2} ^ \\sqrt{2}$:"
   ]
  },
  {
   "cell_type": "code",
   "execution_count": 13,
   "metadata": {
    "collapsed": false
   },
   "outputs": [
    {
     "data": {
      "text/plain": [
       "1.632526919438153"
      ]
     },
     "execution_count": 13,
     "metadata": {
     },
     "output_type": "execute_result"
    }
   ],
   "source": [
    "s ** s"
   ]
  },
  {
   "cell_type": "markdown",
   "metadata": {
    "collapsed": false
   },
   "source": [
    "**Exercise 2.** To use $\\log(x)$, $\\sin(x)$, $e^x$, and $\\pi$ in Python, you must include `import math` somewhere in your code. You can then do\n",
    "\n",
    "```\n",
    "math.log(x) # this is log to the base e, or ln\n",
    "math.sin(x)\n",
    "math.exp(x)\n",
    "math.pi\n",
    "```\n",
    "\n",
    "Which of these \"equations\" are really true?  Check by computing both sides.\n",
    "\n",
    "1. $\\frac{1}{\\sin(\\pi / 7)} = \\frac{1}{\\sin(2\\pi/7)} + \\frac{1}{\\sin(3\\pi / 7)}$\n",
    "7. $\\log(1 + 2 + 3) = \\log(1) + \\log(2) + \\log(3)$\n",
    "4. $e^\\pi - \\pi = 20$\n",
    "\n",
    "I've done the first one for you to show how to use `import math`.  Once you've executed a code cell with `import math` in it, you don't have to type again `import math` to use math functions in other cells."
   ]
  },
  {
   "cell_type": "code",
   "execution_count": 14,
   "metadata": {
    "collapsed": false
   },
   "outputs": [
    {
     "data": {
      "text/plain": [
       "2.3047648709624866"
      ]
     },
     "execution_count": 14,
     "metadata": {
     },
     "output_type": "execute_result"
    }
   ],
   "source": [
    "import math\n",
    "1/math.sin(math.pi / 7)"
   ]
  },
  {
   "cell_type": "code",
   "execution_count": 15,
   "metadata": {
    "collapsed": false
   },
   "outputs": [
    {
     "data": {
      "text/plain": [
       "2.3047648709624866"
      ]
     },
     "execution_count": 15,
     "metadata": {
     },
     "output_type": "execute_result"
    }
   ],
   "source": [
    "1/(math.sin(2 * math.pi / 7)) + 1 / (math.sin(3 * math.pi / 7))"
   ]
  },
  {
   "cell_type": "code",
   "execution_count": 16,
   "metadata": {
    "collapsed": false
   },
   "outputs": [
    {
     "data": {
      "text/plain": [
       "1.791759469228055"
      ]
     },
     "execution_count": 16,
     "metadata": {
     },
     "output_type": "execute_result"
    }
   ],
   "source": [
    "# part 2\n",
    "math.log(1 + 2 + 3)"
   ]
  },
  {
   "cell_type": "code",
   "execution_count": 17,
   "metadata": {
    "collapsed": false
   },
   "outputs": [
    {
     "data": {
      "text/plain": [
       "1.791759469228055"
      ]
     },
     "execution_count": 17,
     "metadata": {
     },
     "output_type": "execute_result"
    }
   ],
   "source": [
    "math.log(1) + math.log(2) + math.log(3)"
   ]
  },
  {
   "cell_type": "code",
   "execution_count": 19,
   "metadata": {
    "collapsed": false
   },
   "outputs": [
    {
     "data": {
      "text/plain": [
       "19.999099979189474"
      ]
     },
     "execution_count": 19,
     "metadata": {
     },
     "output_type": "execute_result"
    }
   ],
   "source": [
    "# part 3\n",
    "math.exp(math.pi) - math.pi # not 20, but very close"
   ]
  },
  {
   "cell_type": "code",
   "execution_count": 0,
   "metadata": {
    "collapsed": false
   },
   "outputs": [
   ],
   "source": [
   ]
  }
 ],
 "metadata": {
  "kernelspec": {
   "display_name": "Python 3 (system-wide)",
   "language": "python",
   "metadata": {
    "cocalc": {
     "description": "Python 3 programming language",
     "priority": 100,
     "url": "https://www.python.org/"
    }
   },
   "name": "python3",
   "resource_dir": "/ext/jupyter/kernels/python3"
  },
  "language_info": {
   "codemirror_mode": {
    "name": "ipython",
    "version": 3
   },
   "file_extension": ".py",
   "mimetype": "text/x-python",
   "name": "python",
   "nbconvert_exporter": "python",
   "pygments_lexer": "ipython3",
   "version": "3.8.5"
  }
 },
 "nbformat": 4,
 "nbformat_minor": 4
}