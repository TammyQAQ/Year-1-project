{
 "cells": [
  {
   "cell_type": "markdown",
   "metadata": {
    "collapsed": false
   },
   "source": [
    "# Week 4 part 2 - numpy 2\n",
    "\n",
    "## Matrix multiplication\n",
    "\n",
    "When two arrays have appropriate shapes we can matrix multiply them with `np.matmul` or with the `@` symbol (not `*` which does something else).  Why must the second code cell below cause an error?"
   ]
  },
  {
   "cell_type": "code",
   "execution_count": 0,
   "metadata": {
    "collapsed": false
   },
   "outputs": [
   ],
   "source": [
    "import numpy as np\n",
    "\n",
    "A = np.array([[1, 2, 3],[4, 5, 6],[7, 8, 9]]) # 3x3 matrix\n",
    "w = np.array([[1], [-1], [1]]) # 3x1 column vector\n",
    "v = np.array([[1, -1, 1]]) # 1x3 row vector\n",
    "print(np.matmul(A, w), \" is Aw.\\n\")\n",
    "print(A @ w, \" is another way to compute Aw.\\n\")\n",
    "print(\"vA is\", v @ A)"
   ]
  },
  {
   "cell_type": "code",
   "execution_count": 0,
   "metadata": {
    "collapsed": false
   },
   "outputs": [
   ],
   "source": [
    "print(np.matmul(w, A))"
   ]
  },
  {
   "cell_type": "markdown",
   "metadata": {
    "collapsed": false
   },
   "source": [
    "If `A` is a square array, you must use `np.linalg.matrix_power(A, n)` to compute $A^n$. You can't use `A ** n`.\n",
    "\n",
    "In the following example, $A = \\begin{pmatrix} 1 & 1 \\\\ 0 & 1\\end{pmatrix}$, so that $A^n = \\begin{pmatrix} 1 & n \\\\ 0 & 1\\end{pmatrix}$."
   ]
  },
  {
   "cell_type": "code",
   "execution_count": 0,
   "metadata": {
    "collapsed": false
   },
   "outputs": [
   ],
   "source": [
    "A = np.array([[1, 1], [0, 1]])\n",
    "print(A ** 5)\n",
    "print()\n",
    "print(np.linalg.matrix_power(A, 5))"
   ]
  },
  {
   "cell_type": "markdown",
   "metadata": {
    "collapsed": false
   },
   "source": [
    "What is happening here is that `A ** n` just takes the nth power of each element of `A`. For example:"
   ]
  },
  {
   "cell_type": "code",
   "execution_count": 0,
   "metadata": {
    "collapsed": false
   },
   "outputs": [
   ],
   "source": [
    "A = np.array([[1, 2], [2, 3]])\n",
    "A ** 10 # 2^10 is 1024, 3^10 is 59049"
   ]
  },
  {
   "cell_type": "markdown",
   "metadata": {
    "collapsed": false
   },
   "source": [
    "## NumPy linear algebra\n",
    "\n",
    "You can calculate the determinant of a square matrix with `np.linalg.det`:"
   ]
  },
  {
   "cell_type": "code",
   "execution_count": 0,
   "metadata": {
    "collapsed": false
   },
   "outputs": [
   ],
   "source": [
    "A = np.array([[2, 2, 1],[2, 2, 2],[1, 2, 2]])\n",
    "np.linalg.det(A)"
   ]
  },
  {
   "cell_type": "markdown",
   "metadata": {
    "collapsed": false
   },
   "source": [
    "... and the inverse of an invertible square matrix with `np.linalg.inv`:"
   ]
  },
  {
   "cell_type": "code",
   "execution_count": 0,
   "metadata": {
    "collapsed": false
   },
   "outputs": [
   ],
   "source": [
    "np.linalg.inv(A)"
   ]
  },
  {
   "cell_type": "markdown",
   "metadata": {
    "collapsed": false
   },
   "source": [
    "or alternatively by using `np.linalg.matrix_power`"
   ]
  },
  {
   "cell_type": "code",
   "execution_count": 0,
   "metadata": {
    "collapsed": false
   },
   "outputs": [
   ],
   "source": [
    "np.linalg.matrix_power(A, -1)"
   ]
  },
  {
   "cell_type": "markdown",
   "metadata": {
    "collapsed": false
   },
   "source": [
    "You can also make an $n\\times n$ identity matrix with `np.eye(n)` and a $m\\times n$ zero matrix with `np.zeros((m, n))` (**not** `np.zeros(m,n)`!)"
   ]
  },
  {
   "cell_type": "code",
   "execution_count": 0,
   "metadata": {
    "collapsed": false
   },
   "outputs": [
   ],
   "source": [
    "print(np.eye(4))      # 4x4 identity matrix\n",
    "np.zeros((3, 2))      # 3x2 zero matrix. Notice the two pairs of ()s"
   ]
  },
  {
   "cell_type": "code",
   "execution_count": 0,
   "metadata": {
    "collapsed": false
   },
   "outputs": [
   ],
   "source": [
    "A = np.array([[1, 2, 3], [4, 5, 6]])\n",
    "I2 = np.eye(2)\n",
    "I3 = np.eye(3)\n",
    "print(np.array_equal(I2 @ A, A), np.array_equal(A @ I3, A))"
   ]
  },
  {
   "cell_type": "markdown",
   "metadata": {
    "collapsed": false
   },
   "source": [
    "NumPy will calculate eigenvectors and eigenvalues with [`np.linalg.eig`](https://docs.scipy.org/doc/numpy/reference/generated/numpy.linalg.eig.html):"
   ]
  },
  {
   "cell_type": "code",
   "execution_count": 0,
   "metadata": {
    "collapsed": false
   },
   "outputs": [
   ],
   "source": [
    "A = np.array([[1, 1], [1, 1]])\n",
    "e = np.linalg.eig(A)\n",
    "print(e[0]) # a 1-dimensional array containing eigenvalues\n",
    "print(e[1]) # a 2-dimensional array whose columns are eigenvectors"
   ]
  },
  {
   "cell_type": "markdown",
   "metadata": {
    "collapsed": false
   },
   "source": [
    "The eigenvectors are scaled so that they have length 1, hence the `0.707...` that you see in the output of the previous cell."
   ]
  },
  {
   "cell_type": "markdown",
   "metadata": {
    "collapsed": false
   },
   "source": [
    "## NumPy randomisation functions\n",
    "\n",
    "NumPy has some functions similar to those in the `random` module we met last week.  The basic functions are similar to the `random` module which you worked with last week, so we won't spend much time on it."
   ]
  },
  {
   "cell_type": "code",
   "execution_count": 0,
   "metadata": {
    "collapsed": false
   },
   "outputs": [
   ],
   "source": [
    "np.random.randint(1, 5) # a random integer x with 1 <= x < 5"
   ]
  },
  {
   "cell_type": "code",
   "execution_count": 0,
   "metadata": {
    "collapsed": false
   },
   "outputs": [
   ],
   "source": [
    "np.random.randn() # an observation from a standard normal random variable"
   ]
  },
  {
   "cell_type": "code",
   "execution_count": 0,
   "metadata": {
    "collapsed": false
   },
   "outputs": [
   ],
   "source": [
    "np.random.choice(np.array([2, 4, 6, 8, 10])) # random element from a 1D array"
   ]
  },
  {
   "cell_type": "code",
   "execution_count": 0,
   "metadata": {
    "collapsed": false
   },
   "outputs": [
   ],
   "source": [
    "np.random.rand() # uniform random number between 0 and 1"
   ]
  },
  {
   "cell_type": "code",
   "execution_count": 0,
   "metadata": {
    "collapsed": false
   },
   "outputs": [
   ],
   "source": [
    "np.random.rand(2, 2) # 2x2 array of uniformly distributed random numbers between 0 and 1"
   ]
  },
  {
   "cell_type": "markdown",
   "metadata": {
    "collapsed": false
   },
   "source": [
    "## Unassessed exercises\n",
    "\n",
    "### Exercise 1 - practise matrix multiplication\n",
    "\n",
    "Copy your code that created the vectors $\\mathbf{x}, \\mathbf{y}$, and the matrix $B$ from exercise 1 of the last notebook into the next cell."
   ]
  },
  {
   "cell_type": "code",
   "execution_count": 0,
   "metadata": {
    "collapsed": false
   },
   "outputs": [
   ],
   "source": [
   ]
  },
  {
   "cell_type": "markdown",
   "metadata": {
    "collapsed": false
   },
   "source": [
    "**Compute $\\mathbf{y}B$ and $B\\mathbf{x}$ using `np.matmul` or `@`.**"
   ]
  },
  {
   "cell_type": "code",
   "execution_count": 0,
   "metadata": {
    "collapsed": false
   },
   "outputs": [
   ],
   "source": [
   ]
  },
  {
   "cell_type": "code",
   "execution_count": 0,
   "metadata": {
    "collapsed": false
   },
   "outputs": [
   ],
   "source": [
   ]
  },
  {
   "cell_type": "markdown",
   "metadata": {
    "collapsed": false
   },
   "source": [
    "### Exercise 2: Fibonacci numbers using matrix powers\n",
    "\n",
    "The Fibonacci numbers $f_n$ are defined by $f_0=0, f_1=1$, and $f_n = f_{n-1}+f_{n-2}$ for $n \\geq 2$.  Therefore for any $n$,\n",
    "\n",
    "$$ \\begin{pmatrix} 1&1\\\\1&0\\end{pmatrix} \\begin{pmatrix}f_{n-1} \\\\ f_{n-2} \\end{pmatrix} = \\begin{pmatrix}f_{n} \\\\ f_{n-1}\\end{pmatrix}$$\n",
    "\n",
    "It follows that if $F = \\begin{pmatrix}1&1\\\\1&0\\end{pmatrix}$ then\n",
    "\n",
    "$$ F^n \\begin{pmatrix} 1 \\\\ 0\\end{pmatrix} = \\begin{pmatrix}f_{n+1}\\\\f_n\\end{pmatrix}$$\n",
    "\n",
    "so that the $n$th Fibonacci number $f_n$ is the row 1, column 0 entry of $F^n \\begin{pmatrix}1\\\\0\\end{pmatrix}$.\n",
    "\n",
    "**Create $F$ and $\\begin{pmatrix}1 \\\\ 0\\end{pmatrix}$ as NumPy arrays of shapes `(2,2)` and `(2,1)`:**"
   ]
  },
  {
   "cell_type": "code",
   "execution_count": 0,
   "metadata": {
    "collapsed": false
   },
   "outputs": [
   ],
   "source": [
   ]
  },
  {
   "cell_type": "markdown",
   "metadata": {
    "collapsed": false
   },
   "source": [
    "**Compute the 10th Fibonacci number by finding $F^{10}$ using `np.linalg.matrix_power` then using `@` to work out $F^{10} \\begin{pmatrix}1\\\\0\\end{pmatrix}$.**"
   ]
  },
  {
   "cell_type": "code",
   "execution_count": 0,
   "metadata": {
    "collapsed": false
   },
   "outputs": [
   ],
   "source": [
   ]
  },
  {
   "cell_type": "markdown",
   "metadata": {
    "collapsed": false
   },
   "source": [
    "Now **write a function `fib(n)` which computes the `n`th Fibonacci number** by\n",
    " - computing $F^n$, then\n",
    " - finding $F^n \\begin{pmatrix} 1 \\\\ 0 \\end{pmatrix}$, then finally\n",
    " - returning the entry in position 1, 0"
   ]
  },
  {
   "cell_type": "code",
   "execution_count": 0,
   "metadata": {
    "collapsed": false
   },
   "outputs": [
   ],
   "source": [
    "def fib(n):\n",
    "    # your code here"
   ]
  }
 ],
 "metadata": {
  "kernelspec": {
   "display_name": "Python 3 (system-wide)",
   "language": "python",
   "metadata": {
    "cocalc": {
     "description": "Python 3 programming language",
     "priority": 100,
     "url": "https://www.python.org/"
    }
   },
   "name": "python3",
   "resource_dir": "/ext/jupyter/kernels/python3"
  },
  "language_info": {
   "codemirror_mode": {
    "name": "ipython",
    "version": 3
   },
   "file_extension": ".py",
   "mimetype": "text/x-python",
   "name": "python",
   "nbconvert_exporter": "python",
   "pygments_lexer": "ipython3",
   "version": "3.8.5"
  }
 },
 "nbformat": 4,
 "nbformat_minor": 4
}