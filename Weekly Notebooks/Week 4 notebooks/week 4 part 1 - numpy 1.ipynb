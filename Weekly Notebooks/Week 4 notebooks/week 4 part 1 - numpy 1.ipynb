{
 "cells": [
  {
   "cell_type": "markdown",
   "metadata": {
    "collapsed": false
   },
   "source": [
    "# Week 4 part 1 - NumPy\n",
    "\n",
    "In this notebook you will learn about one of the most widely used mathematical Python modules: NumPy.  You can read more about NumPy [on their homepage](https://numpy.org/).\n",
    "\n",
    "NumPy is a Python module which has functions for working with vectors and matrices (and higher-dimensional arrays) and for working with random numbers.  [Here is a link to the documentation](https://numpy.org/doc/stable/).\n",
    "\n",
    "Of course, if we wanted we could represent matrices and vectors using lists in plain Python and write functions to do matrix multiplication, vector addition, and so on. The advantage of NumPy  is that all this code has been written and tested for us by experts in numerical linear algebra.  The big number of high-quality, popular, and freely available modules for mathematical computing is one reason you're learning Python instead of another computer language.\n",
    "\n",
    "You often see NumPy imported using `import numpy as np`.  As you saw in the previous notebook this just saves a bit of typing: after doing this you can use `np.functionName` instead of `numpy.functionName`.\n",
    "\n",
    "## NumPy arrays\n",
    "\n",
    "The most important object NumPy provides is the `array`.  These are rectangular grids of numbers which you can use to represent matrices and vectors.  The easiest way to create arrays is by using `np.array()` with the argument being a list of the rows of the matrix or vector you want to create, each row being a list of its entries."
   ]
  },
  {
   "cell_type": "code",
   "execution_count": 1,
   "metadata": {
    "collapsed": false
   },
   "outputs": [
    {
     "name": "stdout",
     "output_type": "stream",
     "text": [
      "[[1 2]]  is a 1x2 row vector\n",
      "\n",
      "[[1]\n",
      " [2]]  is a 2x1 column vector \n",
      "\n",
      "[[1 2]\n",
      " [3 4]]  is a 2x2 matrix\n"
     ]
    }
   ],
   "source": [
    "import numpy as np\n",
    "v = np.array([[1, 2]])         # 1x2 row vector - a list containing one row, [1, 2]\n",
    "w = np.array([[1], [2]])       # 2x1 column vector - a list of two rows, [1] and [2]\n",
    "A = np.array([[1, 2],[3, 4]])  # 2x2 matrix - a list containing two rows, [1,2] and [3,4]\n",
    "\n",
    "print(v, \" is a 1x2 row vector\\n\")\n",
    "print(w, \" is a 2x1 column vector \\n\")\n",
    "print(A, \" is a 2x2 matrix\")"
   ]
  },
  {
   "cell_type": "markdown",
   "metadata": {
    "collapsed": false
   },
   "source": [
    "You can get the shape of an array `a` with `a.shape`"
   ]
  },
  {
   "cell_type": "code",
   "execution_count": 2,
   "metadata": {
    "collapsed": false
   },
   "outputs": [
    {
     "name": "stdout",
     "output_type": "stream",
     "text": [
      "(1, 2)\n",
      "(2, 1)\n",
      "(2, 2)\n"
     ]
    }
   ],
   "source": [
    "print(v.shape)  # v is a row vector, so it is 1x2\n",
    "print(w.shape)  # w is a 2x1 column vector\n",
    "print(A.shape)  # A is a 2x2 matrix"
   ]
  },
  {
   "cell_type": "markdown",
   "metadata": {
    "collapsed": false
   },
   "source": [
    "and you can transpose an array with the `.transpose()` method"
   ]
  },
  {
   "cell_type": "code",
   "execution_count": 3,
   "metadata": {
    "collapsed": false
   },
   "outputs": [
    {
     "data": {
      "text/plain": [
       "array([[1, 3],\n",
       "       [2, 4]])"
      ]
     },
     "execution_count": 3,
     "metadata": {
     },
     "output_type": "execute_result"
    }
   ],
   "source": [
    "A.transpose()"
   ]
  },
  {
   "cell_type": "markdown",
   "metadata": {
    "collapsed": false
   },
   "source": [
    "`A.transpose()` returns a new array which is the transpose of `A`. It doesn't modify `A` itself, as you can see by running the next cell:"
   ]
  },
  {
   "cell_type": "code",
   "execution_count": 4,
   "metadata": {
    "collapsed": false
   },
   "outputs": [
    {
     "data": {
      "text/plain": [
       "array([[1, 2],\n",
       "       [3, 4]])"
      ]
     },
     "execution_count": 4,
     "metadata": {
     },
     "output_type": "execute_result"
    }
   ],
   "source": [
    "A"
   ]
  },
  {
   "cell_type": "markdown",
   "metadata": {
    "collapsed": false
   },
   "source": [
    "The `np.linspace` function will be very useful later when we want to plot graphs of functions.  To create a one-dimensional array of `n` equally spaced points starting at `a` and ending at `b`, use `np.linspace(a, b, n)`:"
   ]
  },
  {
   "cell_type": "code",
   "execution_count": 5,
   "metadata": {
    "collapsed": false
   },
   "outputs": [
    {
     "data": {
      "text/plain": [
       "array([0. , 0.1, 0.2, 0.3, 0.4, 0.5, 0.6, 0.7, 0.8, 0.9, 1. ])"
      ]
     },
     "execution_count": 5,
     "metadata": {
     },
     "output_type": "execute_result"
    }
   ],
   "source": [
    "np.linspace(0, 1, 11) # 11 equally spaced points starting at 0, ending at 1"
   ]
  },
  {
   "cell_type": "code",
   "execution_count": 6,
   "metadata": {
    "collapsed": false
   },
   "outputs": [
    {
     "data": {
      "text/plain": [
       "array([1.  , 1.25, 1.5 , 1.75, 2.  , 2.25, 2.5 , 2.75, 3.  ])"
      ]
     },
     "execution_count": 6,
     "metadata": {
     },
     "output_type": "execute_result"
    }
   ],
   "source": [
    "np.linspace(1, 3, 9) # 9 equally spaced points starting at 1, ending at 3"
   ]
  },
  {
   "cell_type": "markdown",
   "metadata": {
    "collapsed": false
   },
   "source": [
    "You can use a for loop to do something for each element of a 1-dimensional array in turn:"
   ]
  },
  {
   "cell_type": "markdown",
   "metadata": {
    "collapsed": false
   },
   "source": [
    "## Accessing array elements\n",
    "\n",
    "To access the entries of an array you can use the square-bracket index notation just like for lists, remembering that Python uses indices starting at 0, not 1.  If `A` is a two-dimensional array then either `A[i, j]` or `A[i][j]` can be used to get the entry in row `i`, column `j`.\n",
    "\n",
    "What will the following commands print?"
   ]
  },
  {
   "cell_type": "code",
   "execution_count": 7,
   "metadata": {
    "collapsed": false
   },
   "outputs": [
    {
     "data": {
      "text/plain": [
       "4"
      ]
     },
     "execution_count": 7,
     "metadata": {
     },
     "output_type": "execute_result"
    }
   ],
   "source": [
    "A[1][1]"
   ]
  },
  {
   "cell_type": "code",
   "execution_count": 8,
   "metadata": {
    "collapsed": false
   },
   "outputs": [
    {
     "data": {
      "text/plain": [
       "2"
      ]
     },
     "execution_count": 8,
     "metadata": {
     },
     "output_type": "execute_result"
    }
   ],
   "source": [
    "A[0, 1]"
   ]
  },
  {
   "cell_type": "code",
   "execution_count": 9,
   "metadata": {
    "collapsed": false
   },
   "outputs": [
    {
     "data": {
      "text/plain": [
       "3"
      ]
     },
     "execution_count": 9,
     "metadata": {
     },
     "output_type": "execute_result"
    }
   ],
   "source": [
    "A[1][0]"
   ]
  },
  {
   "cell_type": "markdown",
   "metadata": {
    "collapsed": false
   },
   "source": [
    "You have to be careful when accessing elements of row and column vectors defined as $1\\times n$ and $n\\times 1$ numpy arrays.  Since numpy sees these as two-dimensional arrays, you have to use two pairs of square brackets:\n",
    " - the $j$th element of the row vector `v` is `v[0][j]` or `v[0, j]`\n",
    " - the $i$th element of the column vector `w` is `w[i][0]` or `w[i, 0]`"
   ]
  },
  {
   "cell_type": "code",
   "execution_count": 10,
   "metadata": {
    "collapsed": false
   },
   "outputs": [
    {
     "name": "stdout",
     "output_type": "stream",
     "text": [
      "2\n",
      "2\n"
     ]
    }
   ],
   "source": [
    "v = np.array([[1,2,3]]) # 1x3 row vector\n",
    "w = np.array([[1], [2], [3]]) # 3x1 column vector\n",
    "print(v[0][1]) # entry in column 1 of the row vector v\n",
    "print(w[1, 0]) # entry on row 1 of the column vector w"
   ]
  },
  {
   "cell_type": "markdown",
   "metadata": {
    "collapsed": false
   },
   "source": [
    "NumPy distinguishes between one-dimensional arrays, which have shape `(n,)` (a size-one tuple with `n` elements), and two-dimensional arrays with shape `(1,n)`, even though these are both essentially lists of `n` numbers.  This can be confusing - be careful!"
   ]
  },
  {
   "cell_type": "code",
   "execution_count": 11,
   "metadata": {
    "collapsed": false
   },
   "outputs": [
    {
     "name": "stdout",
     "output_type": "stream",
     "text": [
      "v1 has shape (3,) and v2 has shape (1, 3)\n"
     ]
    }
   ],
   "source": [
    "v1 = np.array([1,2,3])    # a 1-D array with length 3\n",
    "v2 = np.array([[1,2,3]])  # a 2-D array with shape (1,3)\n",
    "print(\"v1 has shape\", v1.shape, \"and v2 has shape\", v2.shape)"
   ]
  },
  {
   "cell_type": "markdown",
   "metadata": {
    "collapsed": false
   },
   "source": [
    "You can extract rows or columns from a 2-dimensional array with a kind of slice notation similar to that we used for lists and strings. Here's how to get rows:"
   ]
  },
  {
   "cell_type": "code",
   "execution_count": 12,
   "metadata": {
    "collapsed": false
   },
   "outputs": [
    {
     "name": "stdout",
     "output_type": "stream",
     "text": [
      "[3 4]\n"
     ]
    }
   ],
   "source": [
    "A = np.array([[1, 2], [3, 4]])\n",
    "print(A[1, :]) # row 1 of A, as a 1 dimensional array - the : is shorthand for \"all entries\""
   ]
  },
  {
   "cell_type": "code",
   "execution_count": 13,
   "metadata": {
    "collapsed": false
   },
   "outputs": [
    {
     "data": {
      "text/plain": [
       "array([1, 3])"
      ]
     },
     "execution_count": 13,
     "metadata": {
     },
     "output_type": "execute_result"
    }
   ],
   "source": [
    "A[:, 0] # column 0 of A, as a 1D array"
   ]
  },
  {
   "cell_type": "markdown",
   "metadata": {
    "collapsed": false
   },
   "source": [
    "If you need to reshape these into 2D arrays you can use `np.reshape` - for example:"
   ]
  },
  {
   "cell_type": "code",
   "execution_count": 0,
   "metadata": {
    "collapsed": false
   },
   "outputs": [
   ],
   "source": [
    "A[:, 0].reshape(2,1) # the 0th column as a 2x1 column vector"
   ]
  },
  {
   "cell_type": "code",
   "execution_count": 0,
   "metadata": {
    "collapsed": false
   },
   "outputs": [
   ],
   "source": [
    "A[0, :].reshape(1, 2) # the 0th row as a 1x2 row vector"
   ]
  },
  {
   "cell_type": "markdown",
   "metadata": {
    "collapsed": false
   },
   "source": [
    "## Equality of arrays\n",
    "\n",
    "You **cannot** use `==` to check if two NumPy arrays are equal! NumPy overrides the `==` operator so that if `v` and `w` are arrays, `v == w` is an array with `True` in the positions where `v` and `w` are equal and `False` in the positions where they are different."
   ]
  },
  {
   "cell_type": "code",
   "execution_count": 0,
   "metadata": {
    "collapsed": false
   },
   "outputs": [
   ],
   "source": [
    "v = np.array([[1, 2, 3]])\n",
    "w = np.array([[3, 2, 1]])\n",
    "v == w"
   ]
  },
  {
   "cell_type": "markdown",
   "metadata": {
    "collapsed": false
   },
   "source": [
    "If you want to check if two arrays are equal you need to use `np.array_equal(x, y)`, which is `True` if and only if `x` and `y` are arrays with the same shape and the same entries."
   ]
  },
  {
   "cell_type": "code",
   "execution_count": 0,
   "metadata": {
    "collapsed": false
   },
   "outputs": [
   ],
   "source": [
    "np.array_equal(v, w)"
   ]
  },
  {
   "cell_type": "code",
   "execution_count": 0,
   "metadata": {
    "collapsed": false
   },
   "outputs": [
   ],
   "source": [
    "np.array_equal(v, v)"
   ]
  },
  {
   "cell_type": "markdown",
   "metadata": {
    "collapsed": false
   },
   "source": [
    "## Unassessed exercises\n",
    "\n",
    "### Exercise 1 - creating arrays\n",
    "\n",
    "It's very important to remember that the input of the `np.array` function must be a list whose elements are lists which represent the rows of the matrix or vector you're trying to create.  In particular, if you want to create a row vector the argument of `np.array` should be a list containing another list whose elements are the entries of your row vector.\n",
    "\n",
    "**Create the vectors $\\mathbf{x} = \\begin{pmatrix} 0 \\\\ 0 \\\\ 1 \\end{pmatrix}, \\mathbf{y} = \\begin{pmatrix}3&2&1\\end{pmatrix}$ and the matrix $B = \\begin{pmatrix} 1 & 2 & 3 \\\\ 3 & 2 & 1 \\\\ 1 & 2 & 3 \\end{pmatrix}$ as numpy arrays.**"
   ]
  },
  {
   "cell_type": "code",
   "execution_count": 0,
   "metadata": {
    "collapsed": false
   },
   "outputs": [
   ],
   "source": [
    "x = \n",
    "y = \n",
    "B = "
   ]
  },
  {
   "cell_type": "markdown",
   "metadata": {
    "collapsed": false
   },
   "source": [
    "**Check their shapes.**"
   ]
  },
  {
   "cell_type": "code",
   "execution_count": 0,
   "metadata": {
    "collapsed": false
   },
   "outputs": [
   ],
   "source": [
    "x.shape # should be (3, 1)"
   ]
  },
  {
   "cell_type": "code",
   "execution_count": 0,
   "metadata": {
    "collapsed": false
   },
   "outputs": [
   ],
   "source": [
    "y.shape # should be (1, 3)"
   ]
  },
  {
   "cell_type": "code",
   "execution_count": 0,
   "metadata": {
    "collapsed": false
   },
   "outputs": [
   ],
   "source": [
    "B.shape # should be (3, 3)"
   ]
  },
  {
   "cell_type": "markdown",
   "metadata": {
    "collapsed": false
   },
   "source": [
    "## Exercise 2 - write your own dot product\n",
    "\n",
    "Write a function that returns the dot product of two $n\\times 1$ NumPy arrays. Your function should work for any $n$ - but if you are unsure how to start, try making a function that works only for $n=2$.\n",
    "\n",
    "The dot product of $\\begin{pmatrix} x_1\\\\x_2\\end{pmatrix}$ and $\\begin{pmatrix} y_1\\\\ y_2\\end{pmatrix}$ is defined to be the number $x_1y_1+x_2y_2$, and it is defined similarly for larger vectors."
   ]
  },
  {
   "cell_type": "code",
   "execution_count": 0,
   "metadata": {
    "collapsed": false
   },
   "outputs": [
   ],
   "source": [
    "def dotproduct(x, y):\n",
    "    \"\"\"\n",
    "    input: numpy arrays x and y, both with shape (n, 1) for some n\n",
    "    output: the dot product of x and y\n",
    "    \"\"\"\n",
    "    # your code here"
   ]
  },
  {
   "cell_type": "markdown",
   "metadata": {
    "collapsed": false
   },
   "source": [
    "## Exercise 3 - sum of array entries\n",
    "\n",
    "If you want to write a for loop that where the index variable takes every value in a NumPy array `A` in turn, `for x in A:` won't work if the array is 2-dimensional (remember that our row and column vectors are 2-dimensional). Instead you can use `for x in np.nditer(A):` which will make `x` have the value of each of the entries of `A` in turn.\n",
    "\n",
    "**Write a function that returns the sum of the entries of a numpy array of any shape.**"
   ]
  },
  {
   "cell_type": "code",
   "execution_count": 0,
   "metadata": {
    "collapsed": false
   },
   "outputs": [
   ],
   "source": [
    "def arraysum(A):\n",
    "    \"\"\"\n",
    "    input:  a numpy array A of any shape\n",
    "    output: the sum of the entries of A\n",
    "    \"\"\"\n",
    "    # your code here"
   ]
  },
  {
   "cell_type": "markdown",
   "metadata": {
    "collapsed": false
   },
   "source": [
    "Here are some test cases for your function."
   ]
  },
  {
   "cell_type": "code",
   "execution_count": 0,
   "metadata": {
    "collapsed": false
   },
   "outputs": [
   ],
   "source": [
    "print(arraysum(np.array([1,2,3]))) # should be 6\n",
    "print(arraysum(np.array([[1,2,3]]))) # should be 6\n",
    "print(arraysum(np.array([[1],[2],[3]]))) # should be 6\n",
    "print(arraysum(np.array([[1,2],[3,4]]))) # should be 10"
   ]
  }
 ],
 "metadata": {
  "kernelspec": {
   "display_name": "Python 3 (system-wide)",
   "language": "python",
   "metadata": {
    "cocalc": {
     "description": "Python 3 programming language",
     "priority": 100,
     "url": "https://www.python.org/"
    }
   },
   "name": "python3",
   "resource_dir": "/ext/jupyter/kernels/python3"
  },
  "language_info": {
   "codemirror_mode": {
    "name": "ipython",
    "version": 3
   },
   "file_extension": ".py",
   "mimetype": "text/x-python",
   "name": "python",
   "nbconvert_exporter": "python",
   "pygments_lexer": "ipython3",
   "version": "3.8.5"
  }
 },
 "nbformat": 4,
 "nbformat_minor": 4
}