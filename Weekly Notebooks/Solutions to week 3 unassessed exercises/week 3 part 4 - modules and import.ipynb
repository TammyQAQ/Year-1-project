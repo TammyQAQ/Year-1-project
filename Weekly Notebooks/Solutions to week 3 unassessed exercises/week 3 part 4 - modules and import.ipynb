{
 "cells": [
  {
   "cell_type": "markdown",
   "metadata": {
    "collapsed": false
   },
   "source": [
    "# Week 3 mart 4 - modules and `import`\n",
    "\n",
    "A *module* is a collection of Python functions and objects which you can use your own code with the help of the `import` command.\n",
    "\n",
    "To import a module, `math` for example, you add the line `import math` to your code - usually at the top.  The `math` module is included with any Python installation.\n",
    "\n",
    "Once you've `import`ed your module, you access its code using dot notation just like for class methods and instance variables.  You only need to import the module once per notebook.\n",
    "\n",
    "You can get a list of the attributes and methods provided by a module with `dir(modulename)` but it will only tell you their names, not what they do. To find out what functions and objects a module provides, search for its documentation on the internet - [here is the documentation for `math`](https://docs.python.org/3/library/math.html) for example."
   ]
  },
  {
   "cell_type": "code",
   "execution_count": 1,
   "metadata": {
    "collapsed": false
   },
   "outputs": [
    {
     "name": "stdout",
     "output_type": "stream",
     "text": [
      "1.570786326694896\n",
      "3.141592653589793\n",
      "1.0\n"
     ]
    }
   ],
   "source": [
    "import math\n",
    "print(math.atan(99999))  # math.atan is the tan^(-1) function\n",
    "print(math.pi)           # math.pi = 3.141592...\n",
    "print(math.sin(math.pi / 2))        # math.sin is the sin function, in radians"
   ]
  },
  {
   "cell_type": "markdown",
   "metadata": {
    "collapsed": false
   },
   "source": [
    "There are several different ways to use `import`.  You can do `from math import functionname` to import only the function `functionname`, which can then be used like a normal function, without the dot:"
   ]
  },
  {
   "cell_type": "code",
   "execution_count": 2,
   "metadata": {
    "collapsed": false
   },
   "outputs": [
    {
     "data": {
      "text/plain": [
       "0.8414709848078965"
      ]
     },
     "execution_count": 2,
     "metadata": {
     },
     "output_type": "execute_result"
    }
   ],
   "source": [
    "from math import sin\n",
    "sin(1)"
   ]
  },
  {
   "cell_type": "markdown",
   "metadata": {
    "collapsed": false
   },
   "source": [
    "You can import several functions or objects by lising them separated by commas:"
   ]
  },
  {
   "cell_type": "code",
   "execution_count": 3,
   "metadata": {
    "collapsed": false
   },
   "outputs": [
    {
     "data": {
      "text/plain": [
       "6.123233995736766e-17"
      ]
     },
     "execution_count": 3,
     "metadata": {
     },
     "output_type": "execute_result"
    }
   ],
   "source": [
    "from math import cos, pi, tan\n",
    "cos(pi / 2)"
   ]
  },
  {
   "cell_type": "markdown",
   "metadata": {
    "collapsed": false
   },
   "source": [
    "(`math.pi` is only an approximation to $\\pi$ and `math.cos` is only an approximation to the \"true\" cosine function, so you shouldn't be surprised that the output of the last cell is not precisely zero.  Remember from the week 1 notebooks that `6.1e-17` means $6.1 \\times 10^{-17}$, an extremely small number)\n",
    "\n",
    "You can even import all functions from math by using `*`"
   ]
  },
  {
   "cell_type": "code",
   "execution_count": 0,
   "metadata": {
    "collapsed": false
   },
   "outputs": [
   ],
   "source": [
    "from math import *\n",
    "exp(-8) + tan(pi / 2 - 0.001)"
   ]
  },
  {
   "cell_type": "markdown",
   "metadata": {
    "collapsed": false
   },
   "source": [
    "This makes using the functions from `math` more convenient, because you can type `sin` instead of `math.sin`, but you need to be careful: if your own program has a function with the same name as one in a module that you import this way, or if you import two modules and they contain functions with the same names, you could have problems.\n",
    "\n",
    "Finally, you can import a module and give it a different name. After doing `import math as maths` you can refer to the `sin` function with `maths.sin`, for example"
   ]
  },
  {
   "cell_type": "code",
   "execution_count": 4,
   "metadata": {
    "collapsed": false
   },
   "outputs": [
    {
     "data": {
      "text/plain": [
       "2.718281828459045"
      ]
     },
     "execution_count": 4,
     "metadata": {
     },
     "output_type": "execute_result"
    }
   ],
   "source": [
    "import math as maths\n",
    "maths.e"
   ]
  },
  {
   "cell_type": "markdown",
   "metadata": {
    "collapsed": false
   },
   "source": [
    "Usually this is done when modules have a name which you want to shorten to save typing. For example, the `numpy` module which we meet next week is usually imported with `import numpy as np`"
   ]
  },
  {
   "cell_type": "markdown",
   "metadata": {
    "collapsed": false
   },
   "source": [
    "## Unassessed exercises\n",
    "\n",
    "### Exercise 1: a polar form for the complex class\n",
    "\n",
    "Add `absolute_value` and `argument` methods to the `Complex` class.  The absolute value $|z|$ of a complex number $z=x+iy$ is $\\sqrt{x^2 + y^2}$. The argument of $z=x+iy$ is the angle in radians between the positive real axis and the line through the origin and $z$.  This can be slightly tricky to calculate as there are several cases (you will sometimes see people claim it is $\\tan^{-1}(y/x)$ - that's wrong!) - luckily the function `math.atan2(x, y)` will compute it for you."
   ]
  },
  {
   "cell_type": "code",
   "execution_count": 2,
   "metadata": {
    "collapsed": false
   },
   "outputs": [
   ],
   "source": [
    "import math\n",
    "\n",
    "class Complex:\n",
    "    def __init__(self, real, imag):\n",
    "        self.real_part = real\n",
    "        self.imaginary_part = imag\n",
    "\n",
    "    def __mul__(self, other):\n",
    "        new_real_part = self.real_part * other.real_part - self.imaginary_part * other.imaginary_part\n",
    "        new_imaginary_part = self.real_part * other.imaginary_part + self.imaginary_part * other.real_part\n",
    "        return Complex(new_real_part, new_imaginary_part)\n",
    "\n",
    "    def __str__(self):\n",
    "        return str(self.real_part) + \" + \" + str(self.imaginary_part) + \"i\"\n",
    "\n",
    "    def __eq__(self, other):\n",
    "        return (self.real_part == other.real_part) and (self.imaginary_part == other.imaginary_part)\n",
    "\n",
    "    def argument(self):\n",
    "        return math.atan2(self.real_part, self.imaginary_part)\n",
    "\n",
    "    def absolute_value(self):\n",
    "        return (self.real_part ** 2 + self.imaginary_part ** 2) ** 0.5"
   ]
  },
  {
   "cell_type": "markdown",
   "metadata": {
    "collapsed": false
   },
   "source": [
    "Now test your answer by computing the absolute value and argument for some complex numbers and checking they are correct."
   ]
  },
  {
   "cell_type": "code",
   "execution_count": 5,
   "metadata": {
    "collapsed": false
   },
   "outputs": [
    {
     "name": "stdout",
     "output_type": "stream",
     "text": [
      "1.4142135623730951 1.4142135623730951\n",
      "The argument of z is  0.7853981633974483\n",
      "The argument of w is  -2.356194490192345\n"
     ]
    }
   ],
   "source": [
    "z = Complex(1, 1)                          # z is 1+i\n",
    "w = Complex(-1, -1)                        # w is -1-i\n",
    "print(z.absolute_value(), w.absolute_value()) # both should be sqrt(2)\n",
    "print(\"The argument of z is \", z.argument()) # should be about 0.785\n",
    "print(\"The argument of w is \", w.argument()) # should be about -2.356"
   ]
  },
  {
   "cell_type": "markdown",
   "metadata": {
    "collapsed": false
   },
   "source": [
    "### Exercise 2: polar form to Cartesian form\n",
    "\n",
    "Write a function `cartesian(r, theta)` which returns an object of our `Complex` class that represents $re^{i\\theta}$.  You will need to use `math.cos` and `math.sin` to help you compute the real and imaginary parts of $re^{i\\theta}$."
   ]
  },
  {
   "cell_type": "code",
   "execution_count": 7,
   "metadata": {
    "collapsed": false
   },
   "outputs": [
    {
     "name": "stdout",
     "output_type": "stream",
     "text": [
      "-1.0 + 1.2246467991473532e-16i\n"
     ]
    }
   ],
   "source": [
    "def cartesian(r, theta):\n",
    "    x = r * math.cos(theta)\n",
    "    y = r * math.sin(theta) # Euler's formula: re^{i theta} = r cos(theta) + i r sin(theta)\n",
    "    return Complex(x, y)\n",
    "\n",
    "print(cartesian(1, math.pi)) # not quite -1 because we only have a finite number of decimals, but very close"
   ]
  }
 ],
 "metadata": {
  "kernelspec": {
   "display_name": "Python 3 (system-wide)",
   "language": "python",
   "metadata": {
    "cocalc": {
     "description": "Python 3 programming language",
     "priority": 100,
     "url": "https://www.python.org/"
    }
   },
   "name": "python3",
   "resource_dir": "/ext/jupyter/kernels/python3"
  },
  "language_info": {
   "codemirror_mode": {
    "name": "ipython",
    "version": 3
   },
   "file_extension": ".py",
   "mimetype": "text/x-python",
   "name": "python",
   "nbconvert_exporter": "python",
   "pygments_lexer": "ipython3",
   "version": "3.8.5"
  }
 },
 "nbformat": 4,
 "nbformat_minor": 4
}