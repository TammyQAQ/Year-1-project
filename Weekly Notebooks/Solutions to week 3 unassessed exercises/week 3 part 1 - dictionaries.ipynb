{
 "cells": [
  {
   "cell_type": "markdown",
   "metadata": {
    "collapsed": false
   },
   "source": [
    "# Week 3 part 1 - dictionaries\n",
    "\n",
    "A list `l` has entries `l[0], l[1], ..., l[len(l)-1]`, so the data in the list are indexed by the numbers `0, 1, ..., len(l)-1`.  Sometimes it is more natural to index data with something other than 0, 1, 2,...\n",
    "\n",
    "As an example, suppose we are writing a program and want to store people's telelphone numbers.  Given someone's name, we will want to access their number.  A natural and easy-to-use way to do this would be to create an object `phoneNumbers` such that `phoneNumbers[\"UCL Security\"]` is UCL Security's phone number.\n",
    "\n",
    "The `dict` type, short for dictionary, allows us to do exactly this.  A dictionary has *keys* (in our example, people's names), and associated to each key is a *value* (in our example, the person's phone number).  The value in a dictionary `myDict` associated to the key `k` is accessed with `myDict[k]`.\n",
    "\n",
    "You can create an empty dictionary using `{}`"
   ]
  },
  {
   "cell_type": "code",
   "execution_count": 0,
   "metadata": {
    "collapsed": false
   },
   "outputs": [
   ],
   "source": [
    "phoneNumbers = {}"
   ]
  },
  {
   "cell_type": "markdown",
   "metadata": {
    "collapsed": false
   },
   "source": [
    "Once you've created a dictionary `d` you can add a key `k` with value `v` by assigning `d[k] = v`"
   ]
  },
  {
   "cell_type": "code",
   "execution_count": 0,
   "metadata": {
    "collapsed": false
   },
   "outputs": [
   ],
   "source": [
    "phoneNumbers[\"UCL Admissions\"] = \"020 3370 1215\"\n",
    "phoneNumbers[\"UCL Security\"] = \"222\""
   ]
  },
  {
   "cell_type": "markdown",
   "metadata": {
    "collapsed": false
   },
   "source": [
    "Now `phoneNumbers` is a dictionary with two keys, whose values you can access as follows:"
   ]
  },
  {
   "cell_type": "code",
   "execution_count": 0,
   "metadata": {
    "collapsed": false
   },
   "outputs": [
   ],
   "source": [
    "phoneNumbers[\"UCL Admissions\"]"
   ]
  },
  {
   "cell_type": "code",
   "execution_count": 0,
   "metadata": {
    "collapsed": false
   },
   "outputs": [
   ],
   "source": [
    "phoneNumbers[\"UCL Security\"]"
   ]
  },
  {
   "cell_type": "markdown",
   "metadata": {
    "collapsed": false
   },
   "source": [
    "You can check if a dictionary has a value for a certain key using `in`..."
   ]
  },
  {
   "cell_type": "code",
   "execution_count": 0,
   "metadata": {
    "collapsed": false
   },
   "outputs": [
   ],
   "source": [
    "\"UCL Admissions\" in phoneNumbers"
   ]
  },
  {
   "cell_type": "code",
   "execution_count": 0,
   "metadata": {
    "collapsed": false
   },
   "outputs": [
   ],
   "source": [
    "\"UCL Maths\" in phoneNumbers"
   ]
  },
  {
   "cell_type": "markdown",
   "metadata": {
    "collapsed": false
   },
   "source": [
    "...which is useful because asking for a key for which no value is set raises a `KeyError`:"
   ]
  },
  {
   "cell_type": "code",
   "execution_count": 0,
   "metadata": {
    "collapsed": false
   },
   "outputs": [
   ],
   "source": [
    "phoneNumbers[\"UCL Maths\"]"
   ]
  },
  {
   "cell_type": "markdown",
   "metadata": {
    "collapsed": false
   },
   "source": [
    "We've already seen how to add a key, but we can also remove one using `del`:"
   ]
  },
  {
   "cell_type": "code",
   "execution_count": 0,
   "metadata": {
    "collapsed": false
   },
   "outputs": [
   ],
   "source": [
    "del phoneNumbers[\"UCL Admissions\"]"
   ]
  },
  {
   "cell_type": "markdown",
   "metadata": {
    "collapsed": false
   },
   "source": [
    "Now that it's removed, asking for `phoneNumbers[\"UCL Admissions\"]` raises a `KeyError`"
   ]
  },
  {
   "cell_type": "code",
   "execution_count": 0,
   "metadata": {
    "collapsed": false
   },
   "outputs": [
   ],
   "source": [
    "phoneNumbers[\"UCL Admissions\"]"
   ]
  },
  {
   "cell_type": "markdown",
   "metadata": {
    "collapsed": false
   },
   "source": [
    "## Other ways to create dictionaries\n",
    "\n",
    "Instead of starting with an empty dictionary and adding entries like we did above, you can create a new dictionary with some entries already specified like this:"
   ]
  },
  {
   "cell_type": "code",
   "execution_count": 0,
   "metadata": {
    "collapsed": false
   },
   "outputs": [
   ],
   "source": [
    "phoneNumbers = {\"UCL Security\" : \"222\", \"UCL Admissions\" : \"020 3370 1215\"}"
   ]
  },
  {
   "cell_type": "markdown",
   "metadata": {
    "collapsed": false
   },
   "source": [
    "You can even do a \"dictionary comprehension\", like the list comprehensions we met last week."
   ]
  },
  {
   "cell_type": "code",
   "execution_count": 0,
   "metadata": {
    "collapsed": false
   },
   "outputs": [
   ],
   "source": [
    "counter = {i : 0 for i in range(10)}"
   ]
  },
  {
   "cell_type": "markdown",
   "metadata": {
    "collapsed": false
   },
   "source": [
    "What do you think the keys and values are in `counter`?  You can find out by calling `counter.keys()` and `counter.values()`"
   ]
  },
  {
   "cell_type": "code",
   "execution_count": 0,
   "metadata": {
    "collapsed": false
   },
   "outputs": [
   ],
   "source": [
    "counter.keys()"
   ]
  },
  {
   "cell_type": "code",
   "execution_count": 0,
   "metadata": {
    "collapsed": false
   },
   "outputs": [
   ],
   "source": [
    "counter.values()"
   ]
  },
  {
   "cell_type": "markdown",
   "metadata": {
    "collapsed": false
   },
   "source": [
    "## Iterating over a dictionary\n",
    "\n",
    "It's common to want to do something for every entry in a dictionary. You can use for loops: if `d` is a dictionary then\n",
    "\n",
    "```python\n",
    "for k in d:\n",
    "    # loop body\n",
    "```\n",
    "will run the loop body with `k` set to each of the keys of the dictionary `d`. For example:"
   ]
  },
  {
   "cell_type": "code",
   "execution_count": 0,
   "metadata": {
    "collapsed": false
   },
   "outputs": [
   ],
   "source": [
    "for name in phoneNumbers:\n",
    "    print(\"the number for\", name, \"is\", phoneNumbers[name])"
   ]
  },
  {
   "cell_type": "markdown",
   "metadata": {
    "collapsed": false
   },
   "source": [
    "## Unassessed exercises\n",
    "\n",
    "### Exercise 1\n",
    "\n",
    "In this exercise you are going to teach Python how to say certain numbers in English.\n",
    "\n",
    "Create a dictionary `unit_words` whose keys are 1, 2, ..., 9 such that `unit_words[1] = \"one\"`, `unit_words[2] = \"two\"`, and so on."
   ]
  },
  {
   "cell_type": "code",
   "execution_count": 1,
   "metadata": {
    "collapsed": false
   },
   "outputs": [
   ],
   "source": [
    "unit_words = {1 : \"one\", 2 : \"two\", 3 : \"three\", 4 : \"four\", 5 : \"five\", 6 : \"six\", 7 : \"seven\", 8 : \"eight\", 9 : \"nine\"}"
   ]
  },
  {
   "cell_type": "markdown",
   "metadata": {
    "collapsed": false
   },
   "source": [
    "Now create a dictionary `tens_words` whose keys are 2, 3, ..., 9 such that `tens_words[2] = \"twenty\"`, `tens_words[3] = \"thirty\"`, and so on."
   ]
  },
  {
   "cell_type": "code",
   "execution_count": 2,
   "metadata": {
    "collapsed": false
   },
   "outputs": [
   ],
   "source": [
    "tens_words = {2 : \"twenty\", 3 : \"thirty\", 4 : \"forty\", 5 : \"fifty\", 6 : \"sixty\", 7 : \"seventy\", 8 : \"eighty\", 9 : \"ninety\"}"
   ]
  },
  {
   "cell_type": "markdown",
   "metadata": {
    "collapsed": false
   },
   "source": [
    "Now use your dictionaries to write a function `say(tens, units)` which returns a string representing how the number `10 * tens + units` is spoken in English. For example, `say(4, 2)` should be `\"forty-two\"`, and `say(2, 5)` should be `\"twenty-five\"`.  **You can assume `tens >= 2`**"
   ]
  },
  {
   "cell_type": "code",
   "execution_count": 3,
   "metadata": {
    "collapsed": false
   },
   "outputs": [
    {
     "name": "stdout",
     "output_type": "stream",
     "text": [
      "forty-two\n",
      "ninety\n"
     ]
    }
   ],
   "source": [
    "def say(tens, units):\n",
    "    if units != 0:\n",
    "        print(tens_words[tens] + \"-\" + unit_words[units])\n",
    "    else:\n",
    "        print(tens_words[tens])\n",
    "\n",
    "say(4,2)\n",
    "say(9,0)"
   ]
  },
  {
   "cell_type": "markdown",
   "metadata": {
    "collapsed": false
   },
   "source": [
    "Further suggestions:\n",
    "\n",
    "- modify `say` so that it can deal with the numbers 10, 11, ..., 19 as well\n",
    "- modify `say` so that it can deal with all numbers between 0 and 99\n",
    "- modify `say` so that instead of calling `say(4, 2)`, for example, I can instead call `say(42)`\n"
   ]
  },
  {
   "cell_type": "code",
   "execution_count": 0,
   "metadata": {
    "collapsed": false
   },
   "outputs": [
   ],
   "source": [
   ]
  }
 ],
 "metadata": {
  "kernelspec": {
   "display_name": "Python 3 (system-wide)",
   "language": "python",
   "metadata": {
    "cocalc": {
     "description": "Python 3 programming language",
     "priority": 100,
     "url": "https://www.python.org/"
    }
   },
   "name": "python3",
   "resource_dir": "/ext/jupyter/kernels/python3"
  },
  "language_info": {
   "codemirror_mode": {
    "name": "ipython",
    "version": 3
   },
   "file_extension": ".py",
   "mimetype": "text/x-python",
   "name": "python",
   "nbconvert_exporter": "python",
   "pygments_lexer": "ipython3",
   "version": "3.8.5"
  }
 },
 "nbformat": 4,
 "nbformat_minor": 4
}