{
 "cells": [
  {
   "cell_type": "markdown",
   "metadata": {
    "collapsed": false
   },
   "source": [
    "# Week 3 part 3 -  Classes\n",
    "\n",
    "So far in 0011 we've met several types of Python object: ints, floats, strings, lists, tuples, and dicts.  We will now see how to create our own types.\n",
    "\n",
    "This is done in Python using [*classes*](https://docs.python.org/3/tutorial/classes.html). Making a new class can be useful for two main reasons.\n",
    "\n",
    "First, sometimes the data you want to represent doesn't fit well into one of the types built in to Python. This often happens when your data is complicated or made up of lots of different parts.\n",
    "\n",
    "Second, suppose for example you want to write a program that works with vectors.  The obvious thing to do seems to be to use a list to represent your vectors.  This is fine, but not exactly convenient: if `v1 = [1, 2]` and `v2 = [3, 4]` then `v1 + v2` is **not** `[1 + 3, 2 + 4]` as you would want for vectors, so you would have to write your own function `add(vec1, vec2)`.  Creating a `Vector` class would allow us to tell Python how to use the symbol `+` on vectors (and `==`, and `-`, and many other things), making code easier to write and to read.  Giving a new meaning to an operator like `+` when its arguments are `Vectors` is called *overloading*.\n",
    "\n",
    "## Class example 1: complex numbers\n",
    "\n",
    "Let's say we want to build a class  in Python to represent complex numbers (actually it already has one, but we will do it anyway as an example).  A complex number is built out of a real part and imaginary part, so it's an example of the kind of composite data that classes are useful for representing.\n",
    "\n",
    "Here is how you define a new class called `Complex`.  An object of this class will consist of two numbers `real_part` and `imaginary_part`, which are called the *instance variables* for that object."
   ]
  },
  {
   "cell_type": "code",
   "execution_count": 2,
   "metadata": {
    "collapsed": false
   },
   "outputs": [
   ],
   "source": [
    "class Complex:\n",
    "    def __init__(self, real, imag):\n",
    "        self.real_part = real\n",
    "        self.imaginary_part = imag"
   ]
  },
  {
   "cell_type": "markdown",
   "metadata": {
    "collapsed": false
   },
   "source": [
    "What this means is that there is now a new class called `Complex`.  People who want to use it can create *instances* of the class using\n",
    "```\n",
    "z = Complex(x, y)\n",
    "```\n",
    "(where `x` and `y` are intended to be numbers).  \n",
    "\n",
    "`init` is short for initialize.  The `__init__` function, which every class should have, is called every time someone creates a new instance.  Our `__init__` function just sets the *instance variables* `real_part` and `imaginary_part` to `x` and `y` respectively.\n",
    "\n",
    "The instance variables can be accessed using dot notation: if `z = Complex(x,y)` then `z.real_part` is `x` and `z.imaginary_part` is `y`.\n",
    " \n",
    "As usual we use indentation to show Python what is part of the definition of the `Complex` class, and another layer of indentation to show what is part of the defintion of `__init__`.\n",
    "\n",
    "`self` refers to the new `Complex` object being created.\n",
    "\n",
    "Here's an example of creating a new `Complex` object, representing the complex number $i$, and examining its real and imaginary parts:"
   ]
  },
  {
   "cell_type": "code",
   "execution_count": 3,
   "metadata": {
    "collapsed": false
   },
   "outputs": [
    {
     "name": "stdout",
     "output_type": "stream",
     "text": [
      "0\n",
      "1\n"
     ]
    }
   ],
   "source": [
    "z = Complex(0,1)  # real part zero, imaginary part 1\n",
    "print(z.real_part)\n",
    "print(z.imaginary_part)"
   ]
  },
  {
   "cell_type": "markdown",
   "metadata": {
    "collapsed": false
   },
   "source": [
    "So far our `Complex` class isn't very interesting - it's really no better than just storing the two numbers `x` and `y` in a list or a tuple.  We can improve it by adding *class methods*, which are functions that operate on an object of our class (possibly taking other arguments as well).\n",
    "\n",
    "If we multiply $z = x+iy$ and $w = u + iv$ we get $$xu-yv + (xv+yu)i$$ so the result of multiplying `Complex(x, y)` and `Complex(u, v)` should be a new `Complex` object with real part \n",
    "```\n",
    "z.real_part * w.real_part - z.imaginary_part * w.imaginary_part\n",
    "```\n",
    "and imaginary part\n",
    "```\n",
    "z.real_part * w.imaginary_part + z.imaginary_part * w.real_part\n",
    "```\n",
    "Here's how to implement that:"
   ]
  },
  {
   "cell_type": "code",
   "execution_count": 4,
   "metadata": {
    "collapsed": false
   },
   "outputs": [
   ],
   "source": [
    "class Complex:\n",
    "    def __init__(self, real, imag):\n",
    "        self.real_part = real\n",
    "        self.imaginary_part = imag\n",
    "    def multiply(self, other):\n",
    "        new_real_part = self.real_part * other.real_part - self.imaginary_part * other.imaginary_part\n",
    "        new_imaginary_part = self.real_part * other.imaginary_part + self.imaginary_part * other.real_part\n",
    "        return Complex(new_real_part, new_imaginary_part)"
   ]
  },
  {
   "cell_type": "markdown",
   "metadata": {
    "collapsed": false
   },
   "source": [
    "Class methods differ from ordinary functions in the way they are called: we *define* the function using `multiply(self, other)` but to use it on two objects `z` and `w` we must type `z.multiply(w)` - the dot notation syntax here is like that for instance variables. \n",
    "\n",
    "The first argument `self` in the definition `def multiply(self, other)` represents the object `z` whose `multiply` method is being called, so `z.multiply(w)` is effectively `multiply(z, w)`.  There's nothing special about `self` - it's not a Python keyword, and you could replace it with any other legitimate variable name if you wanted.  But don't.\n",
    "\n",
    "Let's multiply two complex number objects.  We will define `z = Complex(0,1)` so that `z` represents $i$ and `w = Complex(1, 1)` so that `w` represents `1 + i`. Their product is $i(1+i) = -1 + i$, so if our functions are working correctly `z.multiply(w)` should have real part $-1$ and imaginary part $1$."
   ]
  },
  {
   "cell_type": "code",
   "execution_count": 6,
   "metadata": {
    "collapsed": false
   },
   "outputs": [
    {
     "name": "stdout",
     "output_type": "stream",
     "text": [
      "-1 1\n"
     ]
    }
   ],
   "source": [
    "z = Complex(0, 1)\n",
    "w = Complex(1, 1)\n",
    "p = z.multiply(w)\n",
    "print(p.real_part, p.imaginary_part)  # should be -1 and 1"
   ]
  },
  {
   "cell_type": "markdown",
   "metadata": {
    "collapsed": false
   },
   "source": [
    "We could work with our new `Complex` class much more easily if we could use the ordinary notation `z * w` to multiply two complex numbers instead of `z.mulitply(w)`. This can be done by defining a class method with the special name `__mul__` instead of our `multiply` method:"
   ]
  },
  {
   "cell_type": "code",
   "execution_count": 8,
   "metadata": {
    "collapsed": false
   },
   "outputs": [
   ],
   "source": [
    "class Complex:\n",
    "    def __init__(self, real, imag):\n",
    "        self.real_part = real\n",
    "        self.imaginary_part = imag\n",
    "    def __mul__(self, other):\n",
    "        new_real_part = self.real_part * other.real_part - self.imaginary_part * other.imaginary_part\n",
    "        new_imaginary_part = self.real_part * other.imaginary_part + self.imaginary_part * other.real_part\n",
    "        return Complex(new_real_part, new_imaginary_part)"
   ]
  },
  {
   "cell_type": "code",
   "execution_count": 9,
   "metadata": {
    "collapsed": false
   },
   "outputs": [
    {
     "name": "stdout",
     "output_type": "stream",
     "text": [
      "-1 1\n"
     ]
    }
   ],
   "source": [
    "z = Complex(0, 1)\n",
    "w = Complex(1, 1)\n",
    "p = z * w\n",
    "print(p.real_part, p.imaginary_part)  # should be -1 and 1"
   ]
  },
  {
   "cell_type": "markdown",
   "metadata": {
    "collapsed": false
   },
   "source": [
    "Our complex numbers are still inconvenient to work with because we keep having to use `print(p.real_part, p.imaginary_part)` to display them.  To make a new class work nicely with the Python `print` function you need to define a class method called `__str__` that returns a string representing the `Complex` object:"
   ]
  },
  {
   "cell_type": "code",
   "execution_count": 2,
   "metadata": {
    "collapsed": false
   },
   "outputs": [
   ],
   "source": [
    "class Complex:\n",
    "    def __init__(self, real, imag):\n",
    "        self.real_part = real\n",
    "        self.imaginary_part = imag\n",
    "\n",
    "    def __mul__(self, other):\n",
    "        new_real_part = self.real_part * other.real_part - self.imaginary_part * other.imaginary_part\n",
    "        new_imaginary_part = self.real_part * other.imaginary_part + self.imaginary_part * other.real_part\n",
    "        return Complex(new_real_part, new_imaginary_part)\n",
    "\n",
    "    def __str__(self):\n",
    "        return str(self.real_part) + \" + \" + str(self.imaginary_part) + \" i\""
   ]
  },
  {
   "cell_type": "code",
   "execution_count": 13,
   "metadata": {
    "collapsed": false
   },
   "outputs": [
    {
     "name": "stdout",
     "output_type": "stream",
     "text": [
      "-1 + 1 i\n"
     ]
    }
   ],
   "source": [
    "z = Complex(0, 1)\n",
    "w = Complex(1, 1)\n",
    "p = z * w\n",
    "print(p)"
   ]
  },
  {
   "cell_type": "markdown",
   "metadata": {
    "collapsed": false
   },
   "source": [
    "Let's try seeing whether two `Complex` objects are equal or not."
   ]
  },
  {
   "cell_type": "code",
   "execution_count": 3,
   "metadata": {
    "collapsed": false
   },
   "outputs": [
    {
     "data": {
      "text/plain": [
       "False"
      ]
     },
     "execution_count": 3,
     "metadata": {
     },
     "output_type": "execute_result"
    }
   ],
   "source": [
    "z = Complex(0, 1)\n",
    "zz = Complex(0, 1)\n",
    "z == zz"
   ]
  },
  {
   "cell_type": "markdown",
   "metadata": {
    "collapsed": false
   },
   "source": [
    "This is not good.  What Python is doing is to check whether `z` and `zz` are literally the same object in the computer memory, and they are not - even though they represent the same complex number. To fix this we must implement a `__eq__(self, other)` class method which returns `True` if self and other represent the same `Complex` object and `False` otherwise."
   ]
  },
  {
   "cell_type": "code",
   "execution_count": 4,
   "metadata": {
    "collapsed": false
   },
   "outputs": [
   ],
   "source": [
    "class Complex:\n",
    "    def __init__(self, real, imag):\n",
    "        self.real_part = real\n",
    "        self.imaginary_part = imag\n",
    "\n",
    "    def __mul__(self, other):\n",
    "        new_real_part = self.real_part * other.real_part - self.imaginary_part * other.imaginary_part\n",
    "        new_imaginary_part = self.real_part * other.imaginary_part + self.imaginary_part * other.real_part\n",
    "        return Complex(new_real_part, new_imaginary_part)\n",
    "\n",
    "    def __str__(self):\n",
    "        return str(self.real_part) + \" + \" + str(self.imaginary_part) + \" i\"\n",
    "\n",
    "    def __eq__(self, other):\n",
    "        return (self.real_part == other.real_part) and (self.imaginary_part == other.imaginary_part)"
   ]
  },
  {
   "cell_type": "markdown",
   "metadata": {
    "collapsed": false
   },
   "source": [
    "Now `==` will behave as expected for `Complex` objects:"
   ]
  },
  {
   "cell_type": "code",
   "execution_count": 7,
   "metadata": {
    "collapsed": false
   },
   "outputs": [
    {
     "data": {
      "text/plain": [
       "True"
      ]
     },
     "execution_count": 7,
     "metadata": {
     },
     "output_type": "execute_result"
    }
   ],
   "source": [
    "z = Complex(0, 1)\n",
    "zz = Complex(0, 1)\n",
    "z == zz"
   ]
  },
  {
   "cell_type": "markdown",
   "metadata": {
    "collapsed": false
   },
   "source": [
    "## Unassesssed exercises\n",
    "\n",
    "### Exercise 1\n",
    "\n",
    "Modify the `Complex` class in the code cell below by writing a method `__add__(self, other)` which returns a new `Complex` object which represents the sum of the complex numbers represented by `self` and `other`.  Your code will look similar to the `multiply` method, but simpler."
   ]
  },
  {
   "cell_type": "code",
   "execution_count": 2,
   "metadata": {
    "collapsed": false
   },
   "outputs": [
   ],
   "source": [
    "class Complex:\n",
    "    def __init__(self, real, imag):\n",
    "        self.real_part = real\n",
    "        self.imaginary_part = imag\n",
    "\n",
    "    def __mul__(self, other):\n",
    "        new_real_part = self.real_part * other.real_part - self.imaginary_part * other.imaginary_part\n",
    "        new_imaginary_part = self.real_part * other.imaginary_part + self.imaginary_part * other.real_part\n",
    "        return Complex(new_real_part, new_imaginary_part)\n",
    "\n",
    "    def __add__(self, other):\n",
    "        return Complex(self.real_part + other.real_part, self.imaginary_part + other.imaginary_part)\n",
    "\n",
    "    def __str__(self):\n",
    "        return str(self.real_part) + \" + \" + str(self.imaginary_part) + \"i\"\n",
    "\n",
    "    def __eq__(self, other):\n",
    "        return (self.real_part == other.real_part) and (self.imaginary_part == other.imaginary_part)"
   ]
  },
  {
   "cell_type": "markdown",
   "metadata": {
    "collapsed": false
   },
   "source": [
    "Test your code by checking whether `Complex(0, 1) + Complex(1, 0) == Complex(1, 1)` in the next cell."
   ]
  },
  {
   "cell_type": "code",
   "execution_count": 3,
   "metadata": {
    "collapsed": false
   },
   "outputs": [
    {
     "data": {
      "text/plain": [
       "True"
      ]
     },
     "execution_count": 3,
     "metadata": {
     },
     "output_type": "execute_result"
    }
   ],
   "source": [
    "Complex(0, 1) + Complex(1, 0) == Complex(1, 1)"
   ]
  },
  {
   "cell_type": "markdown",
   "metadata": {
    "collapsed": false
   },
   "source": [
    "### Exercise 2\n",
    "\n",
    "Write a class `Vector` to represent vectors of any size, including appropriate definitions of `__add__`, `__sub__` (for subtraction), `__eq__`, and `__str__`. Think about what class methods would be useful in working with vectors (dot products? Scalar multiplication?) and implement them.\n",
    "\n",
    "I have written `__init__` for you - vectors will be represented as lists of their entries, so you create a `Vector` object representing $\\begin{pmatrix}1\\\\2\\end{pmatrix}$ with `Vector([1, 2])` for example."
   ]
  },
  {
   "cell_type": "code",
   "execution_count": 0,
   "metadata": {
    "collapsed": false
   },
   "outputs": [
   ],
   "source": [
    "class Vector:\n",
    "    def __init__(self, entries): # takes a list argument \"entries\"\n",
    "        self.entries = entries\n",
    "        self.length = len(entries)\n",
    "\n",
    "    def __add__(self, other):\n",
    "        if self.length != other.length:\n",
    "            raise Exception('mismatched sizes, cannot add')\n",
    "        return Vector([self.entries[i] + other.entries[i] for i in range(self.length)])\n",
    "\n",
    "    def __sub__(self, other):\n",
    "        if self.length != other.length:\n",
    "            raise Exception('mismatched sizes, cannot subtract')\n",
    "        return Vector([self.entries[i] - other.entries[i] for i in range(self.length)])\n",
    "\n",
    "    def __eq__(self, other):\n",
    "        if self.length != other.length:\n",
    "            return False\n",
    "        return all(self.entries[i] == other.entries[i] for i in range(self.length))\n",
    "    # we haven't seen \"all\" before - there are other ways to do this but all is fastest\n",
    "\n",
    "    def __str__(self):\n",
    "        return \"(\" + \", \".join(map(str, self.entries)) + \")\"\n",
    "        # map applies a function to every element of a list\n",
    "        # \",\".join([\"a\", \"b\", ])\n",
    "\n",
    "    def __mul__(self, other):\n",
    "        if self.length != other.length:\n",
    "            raise Exception('mismatched sizes, cannot find dot product')\n",
    "        return sum([self.entries[i] * other.entries[i] for i in range(self.length)])\n",
    "    \n",
    "v = Vector([0,1])\n",
    "w = Vector([1,0])\n",
    "\n",
    "print(\"v is the vector\", v)\n",
    "print(\"v + w is\", v + w)\n",
    "print(\"v - w is\", v - w)\n",
    "print(\"v.w is\", v * w)\n",
    "print(\"Is v == w?\", v == w)"
   ]
  }
 ],
 "metadata": {
  "kernelspec": {
   "display_name": "Python 3 (system-wide)",
   "language": "python",
   "metadata": {
    "cocalc": {
     "description": "Python 3 programming language",
     "priority": 100,
     "url": "https://www.python.org/"
    }
   },
   "name": "python3",
   "resource_dir": "/ext/jupyter/kernels/python3"
  },
  "language_info": {
   "codemirror_mode": {
    "name": "ipython",
    "version": 3
   },
   "file_extension": ".py",
   "mimetype": "text/x-python",
   "name": "python",
   "nbconvert_exporter": "python",
   "pygments_lexer": "ipython3",
   "version": "3.8.5"
  }
 },
 "nbformat": 4,
 "nbformat_minor": 4
}