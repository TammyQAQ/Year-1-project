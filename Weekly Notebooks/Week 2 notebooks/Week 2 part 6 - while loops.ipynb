{
 "cells": [
  {
   "cell_type": "markdown",
   "metadata": {
    "collapsed": false
   },
   "source": [
    "# While loops\n",
    "\n",
    "A while loop is like a for loop - the same piece of code gets executed again and again - but instead of stopping after a fixed number of times, a while loop keeps going until a certain condition is no longer met.  (In other words, it keeps going *while* the condition is true - hence the name).  After that execution continues with the next line indented the same as the `while` statement.\n",
    "\n",
    "What do you think $x$ and $y$ will be after these while loops run?"
   ]
  },
  {
   "cell_type": "code",
   "execution_count": 1,
   "metadata": {
    "collapsed": false
   },
   "outputs": [
    {
     "name": "stdout",
     "output_type": "stream",
     "text": [
      "final value of x:  1000\n",
      "final value of y:  13\n"
     ]
    }
   ],
   "source": [
    "x = 0\n",
    "while x < 1000:\n",
    "    x = x + 1\n",
    "\n",
    "print(\"final value of x: \", x)\n",
    "\n",
    "y = 0\n",
    "while y ** 2 < 150:\n",
    "    y = y + 1\n",
    "\n",
    "print(\"final value of y: \", y)"
   ]
  },
  {
   "cell_type": "markdown",
   "metadata": {
    "collapsed": false
   },
   "source": [
    "In the first loop the code that gets run again and again is `x = x + 1`, and this keeps running until the condition `x < 1000` is no longer true.  So it stops the first time `x >= 1000`, which is when `x` is equal to 1000.\n",
    "\n",
    "In the second loop the code that gets run again and again is `y = y + 1`, and this keeps running until `y ** 2 < 150` is no longer true.  So when it stops, `y` is the smallest whole number whose square is greater than or equal to 150.\n",
    "\n",
    "The fact that a while loop can run an unbounded amount of times means that while loops are \"more powerful\" than for loops.  This comes with a drawback: it's easy to write a while loop that will run forever.  For example, if your while loop started `while True:` then the condition would always be true and it seems as if the loop would never stop.\n",
    "There is a way around this: in while loop (or a for loop) you can use the `break` keyword to get out of the loop.  When Python sees `break` it jumps to the next piece of code after the loop.\n",
    "\n",
    "If you accidentally make a while loop that will never stop you can use the **Stop** button in the toolbar (next to a black square, between Run and Tab) to stop the computer looping forever."
   ]
  },
  {
   "cell_type": "code",
   "execution_count": 2,
   "metadata": {
    "collapsed": false
   },
   "outputs": [
    {
     "name": "stdout",
     "output_type": "stream",
     "text": [
      "352  is the smallest number whose square is greater than or equal to 123456\n"
     ]
    }
   ],
   "source": [
    "x = 0\n",
    "while True:\n",
    "    if x ** 2 >= 123456:  # if this condition is true...\n",
    "        break             # ...then Python will jump out of the while loop, to the print statement below\n",
    "    x = x + 1\n",
    "\n",
    "print(x, \" is the smallest number whose square is greater than or equal to 123456\")"
   ]
  },
  {
   "cell_type": "markdown",
   "metadata": {
    "collapsed": false
   },
   "source": [
    "Here are the rules for writing Python while loops: they must look like this.\n",
    "\n",
    "```\n",
    "while <condition>:\n",
    "    <code to be executed if condition is True>\n",
    "```\n",
    "`<condition>` must be an expression with a boolean value - true or false. When Python reaches the line beginning `while`, it does the following:\n",
    "\n",
    "1. it checks if `<condition>` is true or false.  If it is false, it continues with whatever comes after the while loop.\n",
    "2. If `<condition>` is true, it executes the indented code which follows the `while` line, called the **body** of the while loop.  Then it goes back to step 1."
   ]
  },
  {
   "cell_type": "markdown",
   "metadata": {
    "collapsed": false
   },
   "source": [
    "## Unassessed exercises\n",
    "\n",
    "### Exercise 1\n",
    "\n",
    "This short piece of code checks if a particular whole number `n` (assumed to be larger than 1) is prime or not.  It uses a for loop to test if `n` is divisible by `i` for `i = 2, 3, 4, ..., n-1`.  **Rewrite it so that it uses a while loop instead.**"
   ]
  },
  {
   "cell_type": "code",
   "execution_count": 2,
   "metadata": {
    "collapsed": false
   },
   "outputs": [
    {
     "name": "stdout",
     "output_type": "stream",
     "text": [
      "True\n"
     ]
    }
   ],
   "source": [
    "n = 198733\n",
    "isPrime = True\n",
    "for i in range(2, n):\n",
    "    if n % i == 0:        # if n is divisible by i...\n",
    "        isPrime = False   # ...then n isn't prime, so set isPrime to False.\n",
    "print(isPrime)"
   ]
  },
  {
   "cell_type": "code",
   "execution_count": 3,
   "metadata": {
    "collapsed": false
   },
   "outputs": [
   ],
   "source": [
    "n=198733\n",
    "is_prime=True\n",
    "while i<=198733:\n",
    "    if n%i==0:\n",
    "        is_prime=False\n",
    "print(is_prime)"
   ]
  },
  {
   "cell_type": "markdown",
   "metadata": {
    "collapsed": false
   },
   "source": [
    "### Exercise 2\n",
    "\n",
    "The sequence $(x_n)$ defined by $x_0=1$ and\n",
    "\n",
    "$$x_{n+1}=\\frac{2x_n^3+a}{3x_n^2}$$\n",
    "\n",
    "usually converges to $\\sqrt[3]{a}$.\n",
    "\n",
    "Write a function `approx_cube_root(a)` which uses a while loop and returns the first term of the sequence $(x_n)$ such that $| x_n^3- a| < 0.001$. The absolute value function in Python is `abs`.\n",
    "\n",
    "Test your function by checking that `approx_cube_root(a) ** 3` is within 0.001 of `a` for `a=2, 3, 4`"
   ]
  },
  {
   "cell_type": "code",
   "execution_count": 0,
   "metadata": {
    "collapsed": false
   },
   "outputs": [
   ],
   "source": [
    "def approx_cube_root(a):\n",
    "    x = 1\n",
    "    # your code here"
   ]
  }
 ],
 "metadata": {
  "kernelspec": {
   "display_name": "Python 3 (system-wide)",
   "language": "python",
   "metadata": {
    "cocalc": {
     "description": "Python 3 programming language",
     "priority": 100,
     "url": "https://www.python.org/"
    }
   },
   "name": "python3",
   "resource_dir": "/ext/jupyter/kernels/python3"
  },
  "language_info": {
   "codemirror_mode": {
    "name": "ipython",
    "version": 3
   },
   "file_extension": ".py",
   "mimetype": "text/x-python",
   "name": "python",
   "nbconvert_exporter": "python",
   "pygments_lexer": "ipython3",
   "version": "3.8.5"
  }
 },
 "nbformat": 4,
 "nbformat_minor": 4
}