{
 "cells": [
  {
   "cell_type": "markdown",
   "metadata": {
    "collapsed": false
   },
   "source": [
    "# For loops\n",
    "\n",
    "Consider an expression like\n",
    "\n",
    "$$ \\sum_{i=0}^5 (2i+1).$$\n",
    "\n",
    "If you were going to evaluate this by hand you do it by adding the terms one-by-one, keeping a running total.  In other words you'd start with a running total of 0, then add on $2\\times 0 + 1$ to get 1, then add on $2\\times 1 + 1$ to get 4, and so on.\n",
    "\n",
    "You could do the same thing in Python with the following code:\n",
    "```\n",
    "running_total = 0\n",
    "running_total = running_total + 2 * 0 + 1\n",
    "running_total = running_total + 2 * 1 + 1\n",
    "running_total = running_total + 2 * 2 + 1\n",
    "running_total = running_total + 2 * 3 + 1\n",
    "running_total = running_total + 2 * 4 + 1\n",
    "running_total = running_total + 2 * 5 + 1\n",
    "```\n",
    "\n",
    "...after which `running_total` will hold the answer we want, which is 36.  But typing out all those lines isn't a good use of your time, especially if you wanted the sum from $i=0$ to $50$ or $500000$ instead.  There should be a more efficient way.\n",
    "\n",
    "What we want to do is to run the code\n",
    "```\n",
    "running_total = running_total + 2 * i + 1\n",
    "```\n",
    "several times, substituting a different value for the **index variable** $i$ each time.  You can do this in Python with a **for loop**. Here's what the syntax looks like:"
   ]
  },
  {
   "cell_type": "code",
   "execution_count": 1,
   "metadata": {
    "collapsed": false
   },
   "outputs": [
    {
     "name": "stdout",
     "output_type": "stream",
     "text": [
      "36\n"
     ]
    }
   ],
   "source": [
    "running_total = 0\n",
    "\n",
    "for i in range(6):    # why 6, not 5??\n",
    "    running_total = running_total + 2*i + 1\n",
    "\n",
    "print(running_total)"
   ]
  },
  {
   "cell_type": "markdown",
   "metadata": {
    "collapsed": false
   },
   "source": [
    "For loops in Python let us run the same code repeatedly for a range of values of some index variable.  The Python code\n",
    "\n",
    "```\n",
    "for x in range(a, b):\n",
    "    <code to be executed for x=a, a+1, ..., b-1>\n",
    "```\n",
    "will run the indented code following the line beginning `for x in range(a, b)` first with `x` equal to `a`, then `a+1`, and so on up to `b-1`.  This indented code is called the **body** of the for loop.\n",
    "\n",
    "Here is another example for loop. Before you run it, think what it will do."
   ]
  },
  {
   "cell_type": "code",
   "execution_count": 5,
   "metadata": {
    "collapsed": false
   },
   "outputs": [
    {
     "name": "stdout",
     "output_type": "stream",
     "text": [
      "45\n"
     ]
    }
   ],
   "source": [
    "for i in range(50):\n",
    "    if i ** 2 == 2025:\n",
    "        print(i)"
   ]
  },
  {
   "cell_type": "markdown",
   "metadata": {
    "collapsed": false
   },
   "source": [
    "Notice that on line 3 we need *two* levels of indentation - 8 spaces - because we are inside a conditional inside a for loop.  What would have happened if I forgot the second level of indentation on line 3, so that `print(i)` started in the same place as `if...`?   Change the cell above and find out.\n",
    "\n",
    "For loops don't have to use range commands - you can use a list to specify the values the index variable will take:"
   ]
  },
  {
   "cell_type": "code",
   "execution_count": 3,
   "metadata": {
    "collapsed": false
   },
   "outputs": [
    {
     "name": "stdout",
     "output_type": "stream",
     "text": [
      "2\n",
      "3\n",
      "5\n",
      "7\n"
     ]
    }
   ],
   "source": [
    "for p in [2, 3, 5, 7]:\n",
    "    print(p)"
   ]
  },
  {
   "cell_type": "markdown",
   "metadata": {
    "collapsed": false
   },
   "source": [
    "## Unassessed exercises\n",
    "\n",
    "### Exercise 1\n",
    "\n",
    "The cell below contains a copy of the code we used to compute $\\sum_{i=0}^5 2i+1$.  \n",
    "\n",
    "Modify the code so that it computes the following:\n",
    " - $\\sum_{i=3}^{3000} 2i+1$ (you should get the answer 9005992)\n",
    " - $\\sum_{i=0}^{50} \\frac{1}{i!}$.  (To get the factorial function, add the line `import math` at the top of the code cell then use `math.factorial(i)`)\n",
    " - $\\prod_{i=0}^{10} (2i+1)$.  (What should the initial value for `running_total` be now?)\n"
   ]
  },
  {
   "cell_type": "code",
   "execution_count": 12,
   "metadata": {
    "collapsed": false
   },
   "outputs": [
    {
     "name": "stdout",
     "output_type": "stream",
     "text": [
      "13749310575\n"
     ]
    }
   ],
   "source": [
    "running_total = 1\n",
    "\n",
    "import math\n",
    "for i in range(11):\n",
    "    running_total = running_total * (2 * i + 1)\n",
    "\n",
    "print(running_total)"
   ]
  },
  {
   "attachments": {
   },
   "cell_type": "markdown",
   "metadata": {
    "collapsed": false
   },
   "source": [
    "### Exercise 2\n",
    "\n",
    "To approximate the integral from $a$ to $b$ of a function $f$ we can pick a large number $N$ and numbers \n",
    "\n",
    "$$a=x_0 < x_1 < \\cdots < x_N = b$$\n",
    "\n",
    "then add up the areas of the rectangles with base $[x_i, x_{i+1}]$ and height $f(x_i)$.  Here's a picture showing these rectangles for $f(x)=x^2, a=0, b=2, N=4, x_1=0.5, x_2 = 1, x_3 = 1.5$:\n",
    "\n",
    "![leftriemann2.svg](attachment:leftriemann2.svg)\n",
    "\n",
    "(if you can't see the image, click [this link](https://upload.wikimedia.org/wikipedia/commons/thumb/c/c9/LeftRiemann2.svg/600px-LeftRiemann2.svg.png))\n",
    "\n",
    "This method of approximating an integral is called the rectangle rule.\n",
    "\n",
    "The simplest way to choose the $x_i$s is to take $x_i = a + i\\frac{(b-a)}{N}$, so that each rectangle has width $\\frac{(b-a)}{N}$.  This gives the following approximation:\n",
    "\n",
    "$$ \\int_a ^b f(x)\\, \\mathrm{d}x \\approx \\frac{b-a}{N} \\sum_{i=0}^{N-1} f\\left(a + \\frac{(b-a)i}{N}\\right) $$\n",
    "\n",
    "**Complete the definition of the function `rectangle_rule(f, a, b, N)` below.**"
   ]
  },
  {
   "cell_type": "code",
   "execution_count": 0,
   "metadata": {
    "collapsed": false
   },
   "outputs": [
   ],
   "source": [
    "def rectangle_rule(a, b, N):\n",
    "    total = 0\n",
    "    for i in range(N):\n",
    "        total = # your code goes here\n",
    "    return ((b-a) / N) * sum"
   ]
  },
  {
   "cell_type": "markdown",
   "metadata": {
    "collapsed": false
   },
   "source": [
    "Test your answer by running the following cell to define the function $g(x) = x^2$:"
   ]
  },
  {
   "cell_type": "code",
   "execution_count": 0,
   "metadata": {
    "collapsed": false
   },
   "outputs": [
   ],
   "source": [
    "def g(x):\n",
    "    return x ** 2"
   ]
  },
  {
   "cell_type": "markdown",
   "metadata": {
    "collapsed": false
   },
   "source": [
    "and then running `rectangle_rule(g, 0, 1, 100)`. What should the output be, approximately?"
   ]
  },
  {
   "cell_type": "code",
   "execution_count": 0,
   "metadata": {
    "collapsed": false
   },
   "outputs": [
   ],
   "source": [
    "rectangle_rule(g, 0, 1, 100)"
   ]
  },
  {
   "cell_type": "markdown",
   "metadata": {
    "collapsed": false
   },
   "source": [
    "### Exercise 3\n",
    "\n",
    "The simplest way to check whether a number `n` is prime is to go through all the numbers $2, 3, \\ldots, n-1$ and see if any of them divide `n`. If not, `n` is prime.\n",
    "\n",
    "In fact, you only need to check the numbers between 2 and $\\sqrt{n}$.  In the code below we'll use `round(n ** 0.5)` to round $\\sqrt{n}$ to the nearest integer.\n",
    "\n",
    "This kind of procedure is exactly what for loops are useful for.  Here is a first attempt at writing a function that uses a for loop to check if a number is prime."
   ]
  },
  {
   "cell_type": "code",
   "execution_count": 29,
   "metadata": {
    "collapsed": false
   },
   "outputs": [
   ],
   "source": [
    "def is_prime(n):\n",
    "    if n==1:\n",
    "        return False\n",
    "    for i in range(2, round(n ** 0.5)+1):\n",
    "        if n % i == 0:\n",
    "            return False\n",
    "    return True"
   ]
  },
  {
   "cell_type": "markdown",
   "metadata": {
    "collapsed": false
   },
   "source": [
    "Unfortunately there are some problems.  In the next cell, try `is_prime(1)` - you'll get the wrong answer: 1 is not a prime number, but `is_prime(1)` will output `True`. "
   ]
  },
  {
   "cell_type": "code",
   "execution_count": 0,
   "metadata": {
    "collapsed": false
   },
   "outputs": [
   ],
   "source": [
   ]
  },
  {
   "cell_type": "code",
   "execution_count": 27,
   "metadata": {
    "collapsed": false
   },
   "outputs": [
    {
     "data": {
      "text/plain": [
       "False"
      ]
     },
     "execution_count": 27,
     "metadata": {
     },
     "output_type": "execute_result"
    }
   ],
   "source": [
    "is_prime(1)"
   ]
  },
  {
   "cell_type": "markdown",
   "metadata": {
    "collapsed": false
   },
   "source": [
    " **Change the code above so that it gives the correct output when `n` is `1`.**\n",
    "\n",
    "You could do this with a conditional before the `for` loop, for example.\n",
    "\n",
    "Even once you've done this there are still problems.  In the next cell, try `is_prime(4)` and `is_prime(25)`:"
   ]
  },
  {
   "cell_type": "code",
   "execution_count": 31,
   "metadata": {
    "collapsed": false
   },
   "outputs": [
    {
     "data": {
      "text/plain": [
       "False"
      ]
     },
     "execution_count": 31,
     "metadata": {
     },
     "output_type": "execute_result"
    }
   ],
   "source": [
    "is_prime(25)"
   ]
  },
  {
   "cell_type": "markdown",
   "metadata": {
    "collapsed": false
   },
   "source": [
    "You still get the wrong answer.  **Fix the code so that it gives the right answer for `4` and `25`.**  \n",
    "\n",
    "HINT: what would `range(2, round(n ** 0.5))` be if `n` was 4 or 25?  You will need to change this `range` to make the function work properly."
   ]
  },
  {
   "cell_type": "code",
   "execution_count": 0,
   "metadata": {
    "collapsed": false
   },
   "outputs": [
   ],
   "source": [
   ]
  },
  {
   "cell_type": "markdown",
   "metadata": {
    "collapsed": false
   },
   "source": [
    "### Exercise 4\n",
    "\n",
    "It's perfectly find to have one for loop inside another - these are called *nested* for loops.  What will the following nested for loops print?"
   ]
  },
  {
   "cell_type": "code",
   "execution_count": 32,
   "metadata": {
    "collapsed": false
   },
   "outputs": [
    {
     "name": "stdout",
     "output_type": "stream",
     "text": [
      "0 0\n",
      "0 1\n",
      "0 2\n",
      "0 3\n",
      "1 1\n",
      "1 2\n",
      "1 3\n",
      "2 2\n",
      "2 3\n",
      "3 3\n"
     ]
    }
   ],
   "source": [
    "for i in range(4):\n",
    "    for j in range(4):\n",
    "        if j >= i:\n",
    "            print(i, j)"
   ]
  },
  {
   "cell_type": "markdown",
   "metadata": {
    "collapsed": false
   },
   "source": [
    "### Exercise 5\n",
    "\n",
    "A *perfect cube* is a number of the form $n^3$ for a whole number $n$, so 0, 1, 8, and 27 are perfect cubes but 2, 4, and 6 are not.  **Use a for loop to find all the perfect cubes between 0 and 1000.**"
   ]
  },
  {
   "cell_type": "code",
   "execution_count": 36,
   "metadata": {
    "collapsed": false
   },
   "outputs": [
    {
     "name": "stdout",
     "output_type": "stream",
     "text": [
      "0\n",
      "1\n",
      "8\n",
      "27\n",
      "64\n",
      "125\n",
      "216\n",
      "343\n",
      "512\n",
      "729\n"
     ]
    },
    {
     "name": "stdout",
     "output_type": "stream",
     "text": [
      "1000\n"
     ]
    }
   ],
   "source": [
    "for x in range (1001):\n",
    "    for i in range (1001):\n",
    "        if x==i**3:\n",
    "            print(x)"
   ]
  },
  {
   "cell_type": "code",
   "execution_count": 0,
   "metadata": {
    "collapsed": false
   },
   "outputs": [
   ],
   "source": [
   ]
  }
 ],
 "metadata": {
  "kernelspec": {
   "display_name": "Python 3 (system-wide)",
   "language": "python",
   "metadata": {
    "cocalc": {
     "description": "Python 3 programming language",
     "priority": 100,
     "url": "https://www.python.org/"
    }
   },
   "name": "python3",
   "resource_dir": "/ext/jupyter/kernels/python3"
  },
  "language_info": {
   "codemirror_mode": {
    "name": "ipython",
    "version": 3
   },
   "file_extension": ".py",
   "mimetype": "text/x-python",
   "name": "python",
   "nbconvert_exporter": "python",
   "pygments_lexer": "ipython3",
   "version": "3.8.5"
  }
 },
 "nbformat": 4,
 "nbformat_minor": 4
}