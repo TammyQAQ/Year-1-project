{
 "cells": [
  {
   "cell_type": "markdown",
   "metadata": {
    "collapsed": false
   },
   "source": [
    "# Week 2\n",
    "\n",
    "**Reminder:** click in the code cells below and use shift-enter to make Python run the code there.\n",
    "\n",
    "This week we cover\n",
    " - **data types:**  strings and input, lists, and converting between types (\"casting\")\n",
    " - **loops:** for loops and while loops.\n",
    "\n",
    "This first notebook is about the idea of types and the string type.\n",
    "\n",
    "## Types\n",
    "\n",
    "Every object in Python has a type. We use different types to represent different kinds of data, for example numbers can be `int`s or `floats`s, text is represented by `str` (short for *string*), truth or falsity is represented by the `bool` (boolean) type, and there are many more.\n",
    "\n",
    "You can find out what the type of an object is using the `type` function:"
   ]
  },
  {
   "cell_type": "code",
   "execution_count": 1,
   "metadata": {
    "collapsed": false
   },
   "outputs": [
    {
     "data": {
      "text/plain": [
       "int"
      ]
     },
     "execution_count": 1,
     "metadata": {
     },
     "output_type": "execute_result"
    }
   ],
   "source": [
    "type(1024)"
   ]
  },
  {
   "cell_type": "code",
   "execution_count": 2,
   "metadata": {
    "collapsed": false
   },
   "outputs": [
    {
     "data": {
      "text/plain": [
       "float"
      ]
     },
     "execution_count": 2,
     "metadata": {
     },
     "output_type": "execute_result"
    }
   ],
   "source": [
    "type(3.141592)"
   ]
  },
  {
   "cell_type": "code",
   "execution_count": 3,
   "metadata": {
    "collapsed": false
   },
   "outputs": [
    {
     "data": {
      "text/plain": [
       "str"
      ]
     },
     "execution_count": 3,
     "metadata": {
     },
     "output_type": "execute_result"
    }
   ],
   "source": [
    "type(\"hello\")"
   ]
  },
  {
   "cell_type": "code",
   "execution_count": 4,
   "metadata": {
    "collapsed": false
   },
   "outputs": [
    {
     "data": {
      "text/plain": [
       "bool"
      ]
     },
     "execution_count": 4,
     "metadata": {
     },
     "output_type": "execute_result"
    }
   ],
   "source": [
    "type(True)"
   ]
  },
  {
   "cell_type": "markdown",
   "metadata": {
    "collapsed": false
   },
   "source": [
    "## [Strings](https://docs.python.org/3/library/stdtypes.html#str)\n",
    "\n",
    "A string (or `str` for short) is a sequence of characters, including spaces, digits, and punctuation.  You can define a string variable using `\"double quotes\"` or `'single quotes'` - either is OK.\n",
    "\n",
    "Let's create some string variables:"
   ]
  },
  {
   "cell_type": "code",
   "execution_count": 5,
   "metadata": {
    "collapsed": false
   },
   "outputs": [
   ],
   "source": [
    "x = \"this is a string\"  # you can use double quotes..."
   ]
  },
  {
   "cell_type": "code",
   "execution_count": 6,
   "metadata": {
    "collapsed": false
   },
   "outputs": [
   ],
   "source": [
    "y = ' and so is this!'  # ...or single quotes to create strings"
   ]
  },
  {
   "cell_type": "markdown",
   "metadata": {
    "collapsed": false
   },
   "source": [
    "You can join two strings with `+` - this is called **concatenating** them."
   ]
  },
  {
   "cell_type": "code",
   "execution_count": 7,
   "metadata": {
    "collapsed": false
   },
   "outputs": [
    {
     "data": {
      "text/plain": [
       "'this is a string and so is this!'"
      ]
     },
     "execution_count": 7,
     "metadata": {
     },
     "output_type": "execute_result"
    }
   ],
   "source": [
    "x + y"
   ]
  },
  {
   "cell_type": "markdown",
   "metadata": {
    "collapsed": false
   },
   "source": [
    " You can find the length of a string with `len`:"
   ]
  },
  {
   "cell_type": "code",
   "execution_count": 8,
   "metadata": {
    "collapsed": false
   },
   "outputs": [
    {
     "data": {
      "text/plain": [
       "16"
      ]
     },
     "execution_count": 8,
     "metadata": {
     },
     "output_type": "execute_result"
    }
   ],
   "source": [
    "len(x)"
   ]
  },
  {
   "cell_type": "markdown",
   "metadata": {
    "collapsed": false
   },
   "source": [
    "If you want to get the `i`th character in a string `x` you can do `x[i]`. But there is a catch: **strings start at position zero**.  That means `x[0]` will be `'t'` and `x[1]` will be `'h'`"
   ]
  },
  {
   "cell_type": "code",
   "execution_count": 9,
   "metadata": {
    "collapsed": false
   },
   "outputs": [
    {
     "data": {
      "text/plain": [
       "'t'"
      ]
     },
     "execution_count": 9,
     "metadata": {
     },
     "output_type": "execute_result"
    }
   ],
   "source": [
    "x[0]"
   ]
  },
  {
   "cell_type": "code",
   "execution_count": 10,
   "metadata": {
    "collapsed": false
   },
   "outputs": [
    {
     "data": {
      "text/plain": [
       "'h'"
      ]
     },
     "execution_count": 10,
     "metadata": {
     },
     "output_type": "execute_result"
    }
   ],
   "source": [
    "x[1]"
   ]
  },
  {
   "cell_type": "markdown",
   "metadata": {
    "collapsed": false
   },
   "source": [
    "### [String methods](https://docs.python.org/3/library/stdtypes.html#string-methods)\n",
    "\n",
    "A **method** is a special kind of function that can only be applied to one type.  Strings have a method called `upper()` which returns an upper case version of the string.  The syntax for using methods is slightly different to normal functions: instead of `upper(x)` you must do this:"
   ]
  },
  {
   "cell_type": "code",
   "execution_count": 11,
   "metadata": {
    "collapsed": false
   },
   "outputs": [
    {
     "data": {
      "text/plain": [
       "'THIS IS A STRING'"
      ]
     },
     "execution_count": 11,
     "metadata": {
     },
     "output_type": "execute_result"
    }
   ],
   "source": [
    "x.upper()"
   ]
  },
  {
   "cell_type": "markdown",
   "metadata": {
    "collapsed": false
   },
   "source": [
    "You can think of `x.upper()` as being like `upper(x)`.  Note that calling `x.upper()` returns a *new* string which is an upper case version of `x`. It doesn't modify the variable `x`. If you print out `x`, you'll find that it has not changed."
   ]
  },
  {
   "cell_type": "code",
   "execution_count": 12,
   "metadata": {
    "collapsed": false
   },
   "outputs": [
    {
     "name": "stdout",
     "output_type": "stream",
     "text": [
      "this is a string\n"
     ]
    }
   ],
   "source": [
    "print(x) # x is still a lower case string"
   ]
  },
  {
   "cell_type": "markdown",
   "metadata": {
    "collapsed": false
   },
   "source": [
    "Python has many built-in methods for working with strings - we will not cover them in MATH0011, but if you want you can read about them in the [online manual](https://docs.python.org/3/library/stdtypes.html#string-methods).\n",
    "\n",
    "## Input\n",
    "\n",
    "So far we have no way of making programs that people can interact with.  The `input` function lets us do that.\n",
    "\n",
    "`input` takes a single string argument and prints that out, then waits for the user to type something in and press enter.  It returns what the user typed **as a string**.  This means that `a = input(\"hello\")`, for example, will print out the message `hello`, wait for the user to type something and press enter, then assign what they typed to the variable `a` which will have type `str`.\n",
    "\n",
    "Read the code in the next cell and before you run it, try to work out what it will do.  When you've decided, run the code cell, type your name at the prompt, and then press enter."
   ]
  },
  {
   "cell_type": "code",
   "execution_count": 13,
   "metadata": {
    "cocalc": {
     "outputs": {
      "0": {
       "name": "input",
       "opts": {
        "password": false,
        "prompt": "What is your name? "
       },
       "output_type": "stream",
       "value": "tammy"
      }
     }
    },
    "collapsed": false
   },
   "outputs": [
    {
     "name": "stdout",
     "output_type": "stream",
     "text": "What is your name?  tammy"
    },
    {
     "name": "stdout",
     "output_type": "stream",
     "text": [
      "Hi, tammy!\n"
     ]
    }
   ],
   "source": [
    "name = input(\"What is your name? \")\n",
    "message = \"Hi, \" + name + \"!\"\n",
    "print(message)"
   ]
  },
  {
   "cell_type": "markdown",
   "metadata": {
    "collapsed": false
   },
   "source": [
    "**Warning**: if you have an input box waiting for you to type something in it, you won't be able to run any other code cells until you click into the input box and press enter. This can make it seem as if the notebook is frozen or not working.\n",
    "\n",
    "Another thing you can do if the notebook becomes stuck for some reason is to click on the \"Restart Kernel\" button (to the right of Tab in the menu bar). "
   ]
  },
  {
   "cell_type": "markdown",
   "metadata": {
    "collapsed": false
   },
   "source": [
    "## Unassessed exercises\n",
    "\n",
    "### Exercise 1\n",
    "\n",
    "Write a function `nth_letter(n)` which returns the `n`th letter of the alphabet. For example, `nth_letter(1)` should be `a` and `nth_letter(8)` should be `h`. You can assume that the input to `nth_letter` is always a whole number between 1 and 26.\n",
    "\n",
    "Hints:\n",
    "\n",
    "- It may be helpful to define a string `alphabet = 'abcdefghijklmnopqrstuvwxyz'` (or something similar)\n",
    "- Remember that Python strings start at index 0"
   ]
  },
  {
   "cell_type": "code",
   "execution_count": 14,
   "metadata": {
    "collapsed": false
   },
   "outputs": [
   ],
   "source": [
    "alphabet= 'abcdefghijklmnopqrstuvwxyz'"
   ]
  },
  {
   "cell_type": "code",
   "execution_count": 31,
   "metadata": {
    "cocalc": {
     "outputs": {
      "0": {
       "name": "input",
       "opts": {
        "password": false,
        "prompt": "Enter a whole number: "
       },
       "output_type": "stream",
       "value": "1"
      }
     }
    },
    "collapsed": false
   },
   "outputs": [
   ],
   "source": [
    "def nth_letter(n):\n",
    "    # your code goes here\n",
    "    return alphabet[n-1]"
   ]
  },
  {
   "cell_type": "code",
   "execution_count": 32,
   "metadata": {
    "collapsed": false
   },
   "outputs": [
    {
     "ename": "NameError",
     "evalue": "name 'n' is not defined",
     "output_type": "error",
     "traceback": [
      "\u001b[0;31m---------------------------------------------------------------------------\u001b[0m",
      "\u001b[0;31mNameError\u001b[0m                                 Traceback (most recent call last)",
      "\u001b[0;32m<ipython-input-32-9dde13ee6210>\u001b[0m in \u001b[0;36m<module>\u001b[0;34m\u001b[0m\n\u001b[0;32m----> 1\u001b[0;31m \u001b[0mn\u001b[0m\u001b[0;34m==\u001b[0m\u001b[0;36m1\u001b[0m\u001b[0;34m\u001b[0m\u001b[0;34m\u001b[0m\u001b[0m\n\u001b[0m",
      "\u001b[0;31mNameError\u001b[0m: name 'n' is not defined"
     ]
    }
   ],
   "source": [
   ]
  },
  {
   "cell_type": "code",
   "execution_count": 0,
   "metadata": {
    "collapsed": false
   },
   "outputs": [
   ],
   "source": [
   ]
  }
 ],
 "metadata": {
  "kernelspec": {
   "display_name": "Python 3 (system-wide)",
   "language": "python",
   "metadata": {
    "cocalc": {
     "description": "Python 3 programming language",
     "priority": 100,
     "url": "https://www.python.org/"
    }
   },
   "name": "python3",
   "resource_dir": "/ext/jupyter/kernels/python3"
  },
  "language_info": {
   "codemirror_mode": {
    "name": "ipython",
    "version": 3
   },
   "file_extension": ".py",
   "mimetype": "text/x-python",
   "name": "python",
   "nbconvert_exporter": "python",
   "pygments_lexer": "ipython3",
   "version": "3.8.5"
  }
 },
 "nbformat": 4,
 "nbformat_minor": 4
}