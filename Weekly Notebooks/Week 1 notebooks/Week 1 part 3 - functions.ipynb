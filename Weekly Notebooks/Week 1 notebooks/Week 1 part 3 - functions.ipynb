{
 "cells": [
  {
   "cell_type": "markdown",
   "metadata": {
    "collapsed": false
   },
   "source": [
    "# Functions\n",
    "\n",
    "We don't want to type out the same formula over and over again.  Python lets us define functions to avoid this.  Here's how to define the function that sends a number $x$ to $x^2$:"
   ]
  },
  {
   "cell_type": "code",
   "execution_count": 1,
   "metadata": {
    "collapsed": false
   },
   "outputs": [
   ],
   "source": [
    "def square(x):\n",
    "    return x ** 2"
   ]
  },
  {
   "cell_type": "markdown",
   "metadata": {
    "collapsed": false
   },
   "source": [
    "When you've made this definition (by executing the cell with shift-enter) you can evaluate (or *call*) the function with the input 2 by typing `square(2)`:"
   ]
  },
  {
   "cell_type": "code",
   "execution_count": 2,
   "metadata": {
    "collapsed": false
   },
   "outputs": [
    {
     "data": {
      "text/plain": [
       "4"
      ]
     },
     "execution_count": 2,
     "metadata": {
     },
     "output_type": "execute_result"
    }
   ],
   "source": [
    "square(2)"
   ]
  },
  {
   "cell_type": "markdown",
   "metadata": {
    "collapsed": false
   },
   "source": [
    "Again, if you get a `NameError` it is because you haven't clicked in the cell where the `square` function was defined and pressed shift-enter to run it.\n",
    "\n",
    "Python functions are similar to functions in maths: they have (zero or more) inputs and (zero or more) outputs.  To define your own function\n",
    "\n",
    "- first you write `def`,\n",
    "- then the name of your function,\n",
    "- then the inputs to the function in parentheses,\n",
    "- then a colon `:`\n",
    "\n",
    "Everything that is part of the definition of the function has to be **indented** by four spaces. That means there must be four spaces before each line which is part of the function definition.  In a Jupyter notebook, this happens automatically.\n",
    "\n",
    "Finally, you specify the output of the function using `return`.\n",
    "\n",
    "In the next cell we define a function with three inputs:"
   ]
  },
  {
   "cell_type": "code",
   "execution_count": 4,
   "metadata": {
    "collapsed": false
   },
   "outputs": [
   ],
   "source": [
    "def surface_area_of_cuboid(length, width, height):\n",
    "    first_area = length * width\n",
    "    second_area = length * height\n",
    "    third_area = height * width\n",
    "    return 2 * (first_area + second_area + third_area)\n"
   ]
  },
  {
   "cell_type": "markdown",
   "metadata": {
    "collapsed": false
   },
   "source": [
    "Notice that lines 2-5 are all indented by 4 spaces, because they are all part of the definition of the function `surface_area_of_cuboid`.\n",
    "\n",
    "Use the next cell to find the surface area of a cuboid with length 2, width 3, and height 4 using the function defined in the cell above."
   ]
  },
  {
   "cell_type": "code",
   "execution_count": 5,
   "metadata": {
    "collapsed": false
   },
   "outputs": [
    {
     "data": {
      "text/plain": [
       "52"
      ]
     },
     "execution_count": 5,
     "metadata": {
     },
     "output_type": "execute_result"
    }
   ],
   "source": [
    "surface_area_of_cuboid(2, 3, 4)"
   ]
  },
  {
   "cell_type": "markdown",
   "metadata": {
    "collapsed": false
   },
   "source": [
    "The volume of a sphere of radius $r$ is $\\frac{4}{3} \\pi r^3$.  **Complete the next code cell so that the function `volume_of_sphere` computes the volume of a sphere.**  You'll need to delete the `?????` and replace it with a Python expression that calculates $\\frac{4}{3} \\pi r^3$."
   ]
  },
  {
   "cell_type": "code",
   "execution_count": 6,
   "metadata": {
    "collapsed": false
   },
   "outputs": [
   ],
   "source": [
    "def volume_of_sphere(r):\n",
    "    pi = 3.141592653\n",
    "    return 4/3*pi*r**2"
   ]
  },
  {
   "cell_type": "code",
   "execution_count": 7,
   "metadata": {
    "collapsed": false
   },
   "outputs": [
    {
     "data": {
      "text/plain": [
       "16.755160816"
      ]
     },
     "execution_count": 7,
     "metadata": {
     },
     "output_type": "execute_result"
    }
   ],
   "source": [
    "volume__of_sphere(2)"
   ]
  },
  {
   "cell_type": "markdown",
   "metadata": {
    "collapsed": false
   },
   "source": [
    "Now write your own function to compute the volumn of a cuboid:"
   ]
  },
  {
   "cell_type": "code",
   "execution_count": 0,
   "metadata": {
    "collapsed": false
   },
   "outputs": [
   ],
   "source": [
    "def volume_of_cuboid(length, width, height):\n",
    "    ?????"
   ]
  },
  {
   "cell_type": "markdown",
   "metadata": {
    "collapsed": false
   },
   "source": [
    "## Comments\n",
    "\n",
    "If Python sees a `#` symbol, it ignores everything on that line after the `#`.  This allows you to add comments to your code explaining what it does, or to temporarily disable a line of code.\n",
    "\n",
    "There's another important way to write comments in Python, called a **docstring**.  Docstrings are just text written inside triple quotes: `\"\"\"triple quotes\"\"\"`.  These are ignored by Python but are often used to tell a human reader what the input and output of a function mean."
   ]
  },
  {
   "cell_type": "code",
   "execution_count": 8,
   "metadata": {
    "collapsed": false
   },
   "outputs": [
    {
     "data": {
      "text/plain": [
       "4"
      ]
     },
     "execution_count": 8,
     "metadata": {
     },
     "output_type": "execute_result"
    }
   ],
   "source": [
    "a = 1 # Python will ignore this \"comment\"\n",
    "2 + 2 # Hopefully the answer is four"
   ]
  },
  {
   "cell_type": "code",
   "execution_count": 9,
   "metadata": {
    "collapsed": false
   },
   "outputs": [
    {
     "name": "stdout",
     "output_type": "stream",
     "text": [
      "1 1 2 3 5 8 13\n"
     ]
    }
   ],
   "source": [
    "def fibonacci(n):\n",
    "    \"\"\"\n",
    "    Input: a positive whole number n\n",
    "    Output: the nth Fibonacci number\n",
    "    \"\"\"\n",
    "    phi = (1 + 5 ** 0.5) / 2  # phi is the golden ratio\n",
    "    #print(\"We're going to calculate Fibonacci number\", n)\n",
    "    r = (phi ** n) / (5 ** 0.5)\n",
    "    return round(r)  # round(r) is r rounded to a whole number\n",
    "\n",
    "# You can use print(x, y, z, ...) to print out the values of x, y, z, ...\n",
    "print(fibonacci(1), fibonacci(2), fibonacci(3), fibonacci(4), fibonacci(5), fibonacci(6), fibonacci(7))"
   ]
  },
  {
   "cell_type": "markdown",
   "metadata": {
    "collapsed": false
   },
   "source": [
    "# Unassessed exercises\n",
    "\n",
    "**Exercise 1.**  Write a function <code>depressed_cubic(p, q, x)</code> whose output is $x^3 + px + q$.  (Yes, \"depressed cubic\" is the real name.)"
   ]
  },
  {
   "cell_type": "code",
   "execution_count": 10,
   "metadata": {
    "collapsed": false
   },
   "outputs": [
   ],
   "source": [
    "def depressed_cubic(p, q, x):\n",
    "    return x**3+p*x+q"
   ]
  },
  {
   "cell_type": "markdown",
   "metadata": {
    "collapsed": false
   },
   "source": [
    "**Exercise 2.** If $f$ is a differentiable function and $x$ is a number then for small nonzero $h$,\n",
    "\n",
    "$$f'(x) \\approx \\frac{f(x+h) - f(x)}{h}. $$\n",
    "\n",
    "Write a function `approximate_derivative(f, x, h)` which returns this approximation to the derivative of the function `f` at the point `x`.\n",
    "\n",
    "Test your answer by calling `approximate_derivative(square, 1, 0.0001)`. (At the top of the notebook we defined `square` to be the function that sends `x` to `x ** 2`).  What should the output be, roughly?"
   ]
  },
  {
   "cell_type": "code",
   "execution_count": 14,
   "metadata": {
    "collapsed": false
   },
   "outputs": [
   ],
   "source": [
    "def approximate_derivative(f, x, h):\n",
    "    return (f(x+h)-f(x))/h"
   ]
  },
  {
   "cell_type": "code",
   "execution_count": 13,
   "metadata": {
    "collapsed": false
   },
   "outputs": [
    {
     "ename": "NameError",
     "evalue": "name 'square' is not defined",
     "output_type": "error",
     "traceback": [
      "\u001b[0;31m---------------------------------------------------------------------------\u001b[0m",
      "\u001b[0;31mNameError\u001b[0m                                 Traceback (most recent call last)",
      "\u001b[0;32m<ipython-input-13-8d18d70ba718>\u001b[0m in \u001b[0;36m<module>\u001b[0;34m\u001b[0m\n\u001b[0;32m----> 1\u001b[0;31m \u001b[0mapproximate_derivative\u001b[0m\u001b[0;34m(\u001b[0m\u001b[0msquare\u001b[0m\u001b[0;34m,\u001b[0m \u001b[0;36m1\u001b[0m\u001b[0;34m,\u001b[0m \u001b[0;36m0.0001\u001b[0m\u001b[0;34m)\u001b[0m\u001b[0;34m\u001b[0m\u001b[0;34m\u001b[0m\u001b[0m\n\u001b[0m",
      "\u001b[0;31mNameError\u001b[0m: name 'square' is not defined"
     ]
    }
   ],
   "source": [
    "approximate_derivative(square, 1, 0.0001)"
   ]
  },
  {
   "cell_type": "code",
   "execution_count": 0,
   "metadata": {
    "collapsed": false
   },
   "outputs": [
   ],
   "source": [
   ]
  }
 ],
 "metadata": {
  "kernelspec": {
   "display_name": "Python 3 (system-wide)",
   "language": "python",
   "metadata": {
    "cocalc": {
     "description": "Python 3 programming language",
     "priority": 100,
     "url": "https://www.python.org/"
    }
   },
   "name": "python3",
   "resource_dir": "/ext/jupyter/kernels/python3"
  },
  "language_info": {
   "codemirror_mode": {
    "name": "ipython",
    "version": 3
   },
   "file_extension": ".py",
   "mimetype": "text/x-python",
   "name": "python",
   "nbconvert_exporter": "python",
   "pygments_lexer": "ipython3",
   "version": "3.8.5"
  }
 },
 "nbformat": 4,
 "nbformat_minor": 4
}