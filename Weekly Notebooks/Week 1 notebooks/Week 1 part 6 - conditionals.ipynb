{
 "cells": [
  {
   "cell_type": "markdown",
   "metadata": {
    "collapsed": false
   },
   "source": [
    "# Conditionals\n",
    "\n",
    "In ordinary mathematical English a *conditional* is a statement like  \"if P is true, ...\".  Here P is something that might be true or false - a boolean.\n",
    "\n",
    "Conditionals also exist in Python and are used all the time to produce programs that behave in different ways according to whether or not some condition is true or false.  Here's an example"
   ]
  },
  {
   "cell_type": "code",
   "execution_count": 1,
   "metadata": {
    "collapsed": false
   },
   "outputs": [
    {
     "name": "stdout",
     "output_type": "stream",
     "text": [
      "x is positive\n"
     ]
    }
   ],
   "source": [
    "x = 5\n",
    "\n",
    "if x > 0:\n",
    "    print(\"x is positive\")"
   ]
  },
  {
   "cell_type": "markdown",
   "metadata": {
    "collapsed": false
   },
   "source": [
    "**Try changing the value of the variable `x` in the cell above to something negative and running it again.**\n",
    "\n",
    "The meaning of the code in the cell above is that if the *condition* (`x > 0`) is true, then the indented code after the line beginning with `if` (the *if clause*) will be executed.  If the condition `x > 0` is false, then the if clause will not be executed and instead Python continues execution with whatever code comes after the if clause.\n",
    "\n",
    "We can add an *else clause* to be executed if the condition was false.  Run the next code cell a few times and enter different numbers to see what happens."
   ]
  },
  {
   "cell_type": "code",
   "execution_count": 2,
   "metadata": {
    "collapsed": false
   },
   "outputs": [
    {
     "name": "stdout",
     "output_type": "stream",
     "text": [
      "not positive\n"
     ]
    }
   ],
   "source": [
    "x = -5\n",
    "\n",
    "if x > 0:\n",
    "    print(\"positive\")\n",
    "else:\n",
    "    print(\"not positive\")"
   ]
  },
  {
   "cell_type": "markdown",
   "metadata": {
    "collapsed": false
   },
   "source": [
    "Just like in function definitions, we use indentation by four spaces to show Python what should be executed if the condition is true.  This means that if you use conditionals inside a function definition, you will need *two* levels of indentation."
   ]
  },
  {
   "cell_type": "code",
   "execution_count": 3,
   "metadata": {
    "collapsed": false
   },
   "outputs": [
   ],
   "source": [
    "def bigger_than_zero(x):\n",
    "    if x > 0:\n",
    "        return True   # this line is indented twice as it is inside a conditional inside a function definition\n",
    "    else:\n",
    "        return False"
   ]
  },
  {
   "cell_type": "code",
   "execution_count": 4,
   "metadata": {
    "collapsed": false
   },
   "outputs": [
    {
     "data": {
      "text/plain": [
       "False"
      ]
     },
     "execution_count": 4,
     "metadata": {
     },
     "output_type": "execute_result"
    }
   ],
   "source": [
    "bigger_than_zero(-5)"
   ]
  },
  {
   "cell_type": "markdown",
   "metadata": {
    "collapsed": false
   },
   "source": [
    "Python conditionals can have several different conditions.  More conditions can be added using `elif:` which is short for \"else if\".\n",
    "\n",
    "Suppose we want to do something different if `x` is positive, negative, or zero.  We can add an `elif` to our previous code like this:"
   ]
  },
  {
   "cell_type": "code",
   "execution_count": 5,
   "metadata": {
    "collapsed": false
   },
   "outputs": [
    {
     "name": "stdout",
     "output_type": "stream",
     "text": [
      "positive\n"
     ]
    }
   ],
   "source": [
    "def pos_neg_zero(x):\n",
    "    if x > 0:\n",
    "        print(\"positive\")\n",
    "    elif x == 0:\n",
    "        print(\"zero\")\n",
    "    else:\n",
    "        print(\"negative\")\n",
    "\n",
    "pos_neg_zero(10)"
   ]
  },
  {
   "cell_type": "markdown",
   "metadata": {
    "collapsed": false
   },
   "source": [
    "The most general Python conditional is as follows:\n",
    "\n",
    "```python\n",
    "if condition1:\n",
    "    # code to be executed if condition1 is true\n",
    "elif condition2:\n",
    "    # code to be executed if condition1 was false but condition2 is true\n",
    "...\n",
    "elif conditionN:\n",
    "    # code to be executed if all the previous conditions were false, but conditionN is true\n",
    "else:\n",
    "    # code to be executed if all previous conditions were false\n",
    "```\n",
    "\n",
    "Here each `condition` must be an expression with a boolean value.\n",
    "\n",
    "The rule is that **only** the indented code following the **first** condition to be true gets executed. After that, Python continues with whatever comes after the conditional.  No other conditions are even checked.  Consider the following code:"
   ]
  },
  {
   "cell_type": "code",
   "execution_count": 6,
   "metadata": {
    "collapsed": false
   },
   "outputs": [
    {
     "name": "stdout",
     "output_type": "stream",
     "text": [
      "nonpositive\n"
     ]
    }
   ],
   "source": [
    "if x > 0:\n",
    "    print(\"positive\")\n",
    "elif x > 10:\n",
    "    print(\"bigger than 10\")\n",
    "else:\n",
    "    print(\"nonpositive\")"
   ]
  },
  {
   "cell_type": "markdown",
   "metadata": {
    "collapsed": false
   },
   "source": [
    "Line 4, the one following `elif x > 10:`, can **never** be executed.  If `x` is bigger than 10 then certainly it is bigger than 0, so the first condition `if x > 0:` is true.  Python will print \"positive\" and then continue with whatever comes after the conditional, never even checking whether `x > 10`."
   ]
  },
  {
   "cell_type": "markdown",
   "metadata": {
    "collapsed": false
   },
   "source": [
    "## Unassessed exercises\n",
    "\n",
    "**Exercise 1.** Here is a Python function which takes a number `x` as an input:"
   ]
  },
  {
   "cell_type": "code",
   "execution_count": 7,
   "metadata": {
    "collapsed": false
   },
   "outputs": [
   ],
   "source": [
    "def mystery_function(x):\n",
    "    if x > 0:\n",
    "        return x\n",
    "    return -x"
   ]
  },
  {
   "cell_type": "markdown",
   "metadata": {
    "collapsed": false
   },
   "source": [
    "What will `mystery_function(-1)` equal? What will `mystery_function(10)` equal? Which mathematical function is `mystery_function` computing?"
   ]
  },
  {
   "cell_type": "code",
   "execution_count": 9,
   "metadata": {
    "collapsed": false
   },
   "outputs": [
    {
     "data": {
      "text/plain": [
       "10"
      ]
     },
     "execution_count": 9,
     "metadata": {
     },
     "output_type": "execute_result"
    }
   ],
   "source": [
    "mystery_function(10)"
   ]
  },
  {
   "cell_type": "markdown",
   "metadata": {
    "collapsed": false
   },
   "source": [
    "**Exercise 2.** In the UK, the marks from the courses you take at university are usually combined into a single number `p` between 0 and 100.  [You are then given a *degree classification*](https://www.ucl.ac.uk/students/exams-and-assessments/certificates-results/uk-honours-degree-system-undergraduates) as follows:\n",
    " - if $p\\geq 70$ you get a first\n",
    " - if $60 \\leq p < 70$ you get a 2:1\n",
    " - if $50 \\leq p < 60$ you get a 2:2\n",
    " - if $40 \\leq p < 50$ you get a 3rd\n",
    " - otherwise you get a fail.\n",
    "\n",
    "**Write a function `classification(p)` which uses a conditional to print out which degree classification is awarded if you have a score `p`.**"
   ]
  },
  {
   "cell_type": "code",
   "execution_count": 0,
   "metadata": {
    "collapsed": false
   },
   "outputs": [
   ],
   "source": [
    "def classification(p):\n",
    "    # your code goes here"
   ]
  },
  {
   "cell_type": "markdown",
   "metadata": {
    "collapsed": false
   },
   "source": [
    "**Exercise 3.** \n",
    "\n",
    "Consider the following three functions. Are they the same, or could they ever behave differently?  Try experimenting in the blank code cell if you're not sure."
   ]
  },
  {
   "cell_type": "code",
   "execution_count": 0,
   "metadata": {
    "collapsed": false
   },
   "outputs": [
   ],
   "source": [
    "def bigger_than_zero(x):\n",
    "    if x > 0:\n",
    "        return True\n",
    "    else:\n",
    "        return False"
   ]
  },
  {
   "cell_type": "code",
   "execution_count": 0,
   "metadata": {
    "collapsed": false
   },
   "outputs": [
   ],
   "source": [
    "def bigger_than_zero_2(x):\n",
    "    if x > 0:\n",
    "        return True\n",
    "    return False"
   ]
  },
  {
   "cell_type": "code",
   "execution_count": 0,
   "metadata": {
    "collapsed": false
   },
   "outputs": [
   ],
   "source": [
    "def bigger_than_zero_3(x):\n",
    "    return x > 0"
   ]
  },
  {
   "cell_type": "code",
   "execution_count": 0,
   "metadata": {
    "collapsed": false
   },
   "outputs": [
   ],
   "source": [
   ]
  },
  {
   "cell_type": "markdown",
   "metadata": {
    "collapsed": false
   },
   "source": [
    "**Exercise 4.** Write a function `is_even(n)` which returns `True` if `n` is even and `False` if `n` is odd.  Remember that `n % 2` is the remainder on dividing `n` by `2`.\n",
    "\n",
    "You can assume the input to the function will be a whole number. Make sure to test your function on several different inputs to see if it works correctly."
   ]
  },
  {
   "cell_type": "code",
   "execution_count": 0,
   "metadata": {
    "collapsed": false
   },
   "outputs": [
   ],
   "source": [
    "def is_even(n):\n",
    "    # your code goes here"
   ]
  },
  {
   "cell_type": "markdown",
   "metadata": {
    "collapsed": false
   },
   "source": [
    "**Exercise 5.** Write the logical `implies` function.  It might help to recall from Algebra 1 that\n",
    "\n",
    "$$ A \\implies B \\equiv (¬ A) \\vee B. $$\n",
    "\n",
    "Again, you should always test your code.  There are only 4 possibilities: `implies(True, True)` should be `True`, `implies(True, False)` should be false, and so on, so you can test them all."
   ]
  },
  {
   "cell_type": "code",
   "execution_count": 0,
   "metadata": {
    "collapsed": false
   },
   "outputs": [
   ],
   "source": [
    "def implies(p, q):\n",
    "    # your code goes here"
   ]
  },
  {
   "cell_type": "code",
   "execution_count": 0,
   "metadata": {
    "collapsed": false
   },
   "outputs": [
   ],
   "source": [
   ]
  },
  {
   "cell_type": "markdown",
   "metadata": {
    "collapsed": false
   },
   "source": [
    "**Exercise 6.** A nice feature of functions in Python is that they can refer to themselves in their own definition - this is called *recursion*.  You have probably seen a recursive definition of the Fibonacci numbers: $f_1=f_2=1$ and\n",
    "\n",
    "$$ f_n = f_{n-1} + f_{n-2} $$\n",
    "\n",
    "for $n \\geq 3$.  Here's how to write that definition in Python:"
   ]
  },
  {
   "cell_type": "code",
   "execution_count": 7,
   "metadata": {
    "collapsed": false
   },
   "outputs": [
    {
     "name": "stdout",
     "output_type": "stream",
     "text": [
      "1 1 2 3 5 8\n"
     ]
    }
   ],
   "source": [
    "def f(n):\n",
    "    if (n == 1) or (n == 2):\n",
    "        return 1\n",
    "    else:\n",
    "        return f(n - 1) + f(n - 2)\n",
    "\n",
    "\n",
    "# Let's check that it works OK: the firs\n",
    "print(f(1), f(2), f(3), f(4), f(5), f(6))"
   ]
  },
  {
   "cell_type": "markdown",
   "metadata": {
    "collapsed": false
   },
   "source": [
    "The **Tribonacci numbers** $t_n$ are defined by $t_1=t_2=1, t_3=2$, and\n",
    "\n",
    "$$ t_n = t_{n-1} + t_{n-2} + t_{n-3} $$\n",
    "\n",
    "for $n \\geq 4$.  **Write a function `t(n)` which computes the `n`th Tribonacci number.**  You can assume the input `n` will always be a positive whole number."
   ]
  },
  {
   "cell_type": "code",
   "execution_count": 0,
   "metadata": {
    "collapsed": false
   },
   "outputs": [
   ],
   "source": [
   ]
  }
 ],
 "metadata": {
  "kernelspec": {
   "display_name": "Python 3 (system-wide)",
   "language": "python",
   "metadata": {
    "cocalc": {
     "description": "Python 3 programming language",
     "priority": 100,
     "url": "https://www.python.org/"
    }
   },
   "name": "python3",
   "resource_dir": "/ext/jupyter/kernels/python3"
  },
  "language_info": {
   "codemirror_mode": {
    "name": "ipython",
    "version": 3
   },
   "file_extension": ".py",
   "mimetype": "text/x-python",
   "name": "python",
   "nbconvert_exporter": "python",
   "pygments_lexer": "ipython3",
   "version": "3.8.5"
  }
 },
 "nbformat": 4,
 "nbformat_minor": 4
}