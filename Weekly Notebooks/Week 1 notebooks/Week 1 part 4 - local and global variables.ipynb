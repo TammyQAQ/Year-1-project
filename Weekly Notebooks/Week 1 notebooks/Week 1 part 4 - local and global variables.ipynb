{
 "cells": [
  {
   "cell_type": "markdown",
   "metadata": {
    "collapsed": false
   },
   "source": [
    "# Local and global variables\n",
    "\n",
    "A variable that you define *outside* any function definitions is called a **global variable**, because you can access it anywhere, including inside function definitions."
   ]
  },
  {
   "cell_type": "code",
   "execution_count": 1,
   "metadata": {
    "collapsed": false
   },
   "outputs": [
    {
     "data": {
      "text/plain": [
       "3"
      ]
     },
     "execution_count": 1,
     "metadata": {
     },
     "output_type": "execute_result"
    }
   ],
   "source": [
    "a = 2               # a is a global variable, defined outside any function definition\n",
    "\n",
    "def h(x):\n",
    "    return x + a    # we can use global variables anywhere, including inside functions\n",
    "\n",
    "h(1)                # this will output 3"
   ]
  },
  {
   "cell_type": "markdown",
   "metadata": {
    "collapsed": false
   },
   "source": [
    "A variable that you define inside a function definition is called a **local variable** for that function.  That means it is *not* accessible outside the function itself."
   ]
  },
  {
   "cell_type": "code",
   "execution_count": 5,
   "metadata": {
    "collapsed": false
   },
   "outputs": [
    {
     "data": {
      "text/plain": [
       "3"
      ]
     },
     "execution_count": 5,
     "metadata": {
     },
     "output_type": "execute_result"
    }
   ],
   "source": [
    "def k(x):\n",
    "    b = 2         # b is a local variable for the function k\n",
    "    return x + b\n",
    "\n",
    "k(1)              # this is fine and gives the result 3"
   ]
  },
  {
   "cell_type": "code",
   "execution_count": 3,
   "metadata": {
    "collapsed": false
   },
   "outputs": [
    {
     "ename": "NameError",
     "evalue": "name 'b' is not defined",
     "output_type": "error",
     "traceback": [
      "\u001b[0;31m---------------------------------------------------------------------------\u001b[0m",
      "\u001b[0;31mNameError\u001b[0m                                 Traceback (most recent call last)",
      "\u001b[0;32m<ipython-input-3-2d55da326cc6>\u001b[0m in \u001b[0;36m<module>\u001b[0;34m\u001b[0m\n\u001b[0;32m----> 1\u001b[0;31m \u001b[0mb\u001b[0m                 \u001b[0;31m# this is an error - the local variable b is not accessible outside the definition of k\u001b[0m\u001b[0;34m\u001b[0m\u001b[0;34m\u001b[0m\u001b[0m\n\u001b[0m",
      "\u001b[0;31mNameError\u001b[0m: name 'b' is not defined"
     ]
    }
   ],
   "source": [
    "b                 # this is an error - the local variable b is not accessible outside the definition of k"
   ]
  },
  {
   "cell_type": "markdown",
   "metadata": {
    "collapsed": false
   },
   "source": [
    "The code above causes an error \n",
    "\n",
    ">`NameError: name 'b' is not defined`. \n",
    "\n",
    "Don't define variables inside functions and expect them to be available elsewhere.\n",
    "\n",
    "Any variables you create inside a function are local to that function.  You can even create a local variable with the same name as a global variable, and the two will be kept separate:"
   ]
  },
  {
   "cell_type": "code",
   "execution_count": 4,
   "metadata": {
    "collapsed": false
   },
   "outputs": [
    {
     "name": "stdout",
     "output_type": "stream",
     "text": [
      "2\n",
      "3\n",
      "2\n"
     ]
    }
   ],
   "source": [
    "a = 2\n",
    "\n",
    "def h(x):\n",
    "    a = 3\n",
    "    return x + a\n",
    "\n",
    "print(a)\n",
    "print(h(0))\n",
    "print(a)"
   ]
  },
  {
   "cell_type": "markdown",
   "metadata": {
    "collapsed": false
   },
   "source": [
    "The variable `a` defined to be `3` inside the function `h` is different to the global variable `a` defined to be `2` on the first line.\n",
    "\n",
    "If you think this is confusing, you're right. Just because you can have local variables with the same names as globals doesn't mean you should! Avoid doing this wherever possible.\n",
    "\n",
    "Here's another way in which global variables can be confusing. What do you think will be printed when you run the next cell?"
   ]
  },
  {
   "cell_type": "code",
   "execution_count": 6,
   "metadata": {
    "collapsed": false
   },
   "outputs": [
    {
     "name": "stdout",
     "output_type": "stream",
     "text": [
      "4\n",
      "6\n"
     ]
    }
   ],
   "source": [
    "n = 3\n",
    "\n",
    "def k(x):\n",
    "    return x + n\n",
    "\n",
    "print(k(1))\n",
    "\n",
    "n = 5\n",
    "\n",
    "print(k(1))"
   ]
  },
  {
   "cell_type": "markdown",
   "metadata": {
    "collapsed": false
   },
   "source": [
    "The same function was called twice with the same input, and we got two different outputs!\n",
    "\n",
    "This doesn't mean that you should never use global variables - it's often essential -  but you should be careful when you do so. They make your code harder to reason about and can cause unexpected behaviour."
   ]
  }
 ],
 "metadata": {
  "kernelspec": {
   "display_name": "Python 3 (system-wide)",
   "language": "python",
   "metadata": {
    "cocalc": {
     "description": "Python 3 programming language",
     "priority": 100,
     "url": "https://www.python.org/"
    }
   },
   "name": "python3",
   "resource_dir": "/ext/jupyter/kernels/python3"
  },
  "language_info": {
   "codemirror_mode": {
    "name": "ipython",
    "version": 3
   },
   "file_extension": ".py",
   "mimetype": "text/x-python",
   "name": "python",
   "nbconvert_exporter": "python",
   "pygments_lexer": "ipython3",
   "version": "3.8.5"
  }
 },
 "nbformat": 4,
 "nbformat_minor": 4
}