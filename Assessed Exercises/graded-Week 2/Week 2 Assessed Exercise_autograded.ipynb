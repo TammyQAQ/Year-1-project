{
  "cells": [
    {
      "cell_type": "markdown",
      "metadata": {
        "collapsed": false,
        "deletable": false,
        "editable": false,
        "nbgrader": {
          "grade": false,
          "grade_id": "d3e24c",
          "locked": true,
          "schema_version": 3,
          "solution": false,
          "task": false
        }
      },
      "source": [
        "# Week 2 Assessed Exercise\n",
        "\n",
        "The deadline for both parts of this assessed exercise is Sunday 31st January 23:59 GMT Sunday.\n",
        "\n",
        "## Part 1\n",
        "\n",
        "Write a Python function `f` such that `f(n)` equals\n",
        "\n",
        "- 5, if n is divisible by 5 but not by 7\n",
        "- 7, if n is divisible by 7 but not by 5\n",
        "- 35, if n is divisible by 7 and by 5\n",
        "- 0 otherwise.\n",
        "\n",
        "You can assume that the input to `f` will always be a nonnegative integer.  The `%` operator will be helpful - look it up in last week's notebooks if you have forgotten."
      ]
    },
    {
      "cell_type": "code",
      "execution_count": 14,
      "metadata": {
        "collapsed": false,
        "deletable": false,
        "nbgrader": {
          "checksum": "7861975712baae627442ec8633fb0d97",
          "grade": false,
          "grade_id": "f85186",
          "locked": false,
          "schema_version": 3,
          "solution": true,
          "task": false
        }
      },
      "outputs": [],
      "source": [
        "def f(n):\n",
        "    \"\"\"\n",
        "    Return f(n), as described above.\n",
        "    You can assume the input n is a nonnegative integer\n",
        "    \"\"\"\n",
        "    # YOUR CODE HERE\n",
        "    if n%35==0:\n",
        "        return (35)\n",
        "    elif n%5==0:\n",
        "        return (5)\n",
        "    elif n%7==0:\n",
        "        return (7)\n",
        "    else:\n",
        "        return (0)"
      ]
    },
    {
      "cell_type": "code",
      "execution_count": 15,
      "metadata": {
        "collapsed": false,
        "nbgrader": {
          "grade": true,
          "grade_id": "6ffbbf",
          "locked": true,
          "points": 1,
          "schema_version": 3,
          "solution": false,
          "task": false
        }
      },
      "outputs": [
        {
          "name": "stdout",
          "text": "35\n0\n5\n7\n35\n"
        }
      ],
      "source": [
        "# This cell has some test cases you can use to check your function works correctly\n",
        "\n",
        "print(f(0)) # should be 35\n",
        "print(f(1)) # should be 0\n",
        "print(f(5)) # should be 5\n",
        "print(f(14)) # should be 7\n",
        "print(f(35)) # should be 35\n",
        "\n"
      ]
    },
    {
      "cell_type": "markdown",
      "metadata": {
        "collapsed": false
      },
      "source": [
        "## Part 2\n",
        "\n",
        "Write a function `k(a, b)` which returns a list consisting of the numbers `f(a), f(a+1), ..., f(b)` *in that order*, where `f` is the function from part 1.  You can assume that `a` and `b` are nonnegative integers with `a <= b`.\n",
        "\n",
        "For example, `k(4, 6)` should be the list [f(4), f(5), f(6)] which is [0, 5, 0]."
      ]
    },
    {
      "cell_type": "code",
      "execution_count": 16,
      "metadata": {
        "collapsed": false,
        "deletable": false,
        "nbgrader": {
          "checksum": "0c7f7ad5bd29ede51af31e8838c2fccb",
          "grade": false,
          "grade_id": "08769d",
          "locked": false,
          "schema_version": 3,
          "solution": true,
          "task": false
        }
      },
      "outputs": [],
      "source": [
        "def k(a, b):\n",
        "    \"\"\"\n",
        "    Return the list [f(a), ..., f(b)]. You can assume a and b are nonnegative integers with a <= b\n",
        "    \"\"\"\n",
        "    # YOUR CODE HERE\n",
        "    return [f(n) for n in range (a,b+1)]"
      ]
    },
    {
      "cell_type": "code",
      "execution_count": 17,
      "metadata": {
        "collapsed": false,
        "nbgrader": {
          "grade": true,
          "grade_id": "f4d784",
          "locked": true,
          "points": 1,
          "schema_version": 3,
          "solution": false,
          "task": false
        }
      },
      "outputs": [
        {
          "name": "stdout",
          "text": "[0, 5, 0]\n[35, 0, 0, 0, 0, 5, 0, 7, 0, 0, 5]\n"
        }
      ],
      "source": [
        "# This cell has some test cases you can use to check your function works correctly\n",
        "\n",
        "print(k(4, 6)) # should be [0, 5, 0]\n",
        "print(k(0, 10)) # should be [35, 0, 0, 0, 0, 5, 0, 7, 0, 0, 5]\n",
        "\n"
      ]
    },
    {
      "cell_type": "code",
      "execution_count": 0,
      "metadata": {
        "collapsed": false
      },
      "outputs": [],
      "source": []
    }
  ],
  "metadata": {
    "kernelspec": {
      "display_name": "Python 3 (system-wide)",
      "language": "python",
      "metadata": {
        "cocalc": {
          "description": "Python 3 programming language",
          "priority": 100,
          "url": "https://www.python.org/"
        }
      },
      "name": "python3",
      "resource_dir": "/ext/jupyter/kernels/python3"
    }
  },
  "nbformat": 4,
  "nbformat_minor": 4
}