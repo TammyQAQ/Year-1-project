{
 "cells": [
  {
   "cell_type": "markdown",
   "metadata": {
    "collapsed": false,
    "deletable": false,
    "editable": false,
    "nbgrader": {
     "grade": false,
     "grade_id": "c42ce5",
     "locked": true,
     "schema_version": 3,
     "solution": false,
     "task": false
    }
   },
   "source": [
    "# Week 4 assessed exercise\n",
    "\n",
    "This exercise must be completed by 23:59 GMT on Sunday 19th February.\n",
    "\n",
    "## Part 1 of 1\n",
    "\n",
    "Write a function `col(A, n)` which returns the `n`th column of the NumPy array `A` **as a two-dimensional column vector.**\n",
    "\n",
    "You can assume that the input `A` to your function is a two-dimensional NumPy array and the input `n` is an integer such that $0 \\leq n < k$, where $k$ is the number of columns `A` has.\n",
    "\n",
    "Your function must output a two-dimensional NumPy array whose shape is `(m, 1)` where `m` is the height of `A`.  You must not output a one-dimensional array.\n",
    "\n",
    "Examples are given in the test cell below."
   ]
  },
  {
   "cell_type": "code",
   "execution_count": 1,
   "metadata": {
    "collapsed": false,
    "deletable": false,
    "nbgrader": {
     "checksum": "4dfb4f85ca7ca7cbb01402165de8221f",
     "grade": false,
     "grade_id": "20c12e",
     "locked": false,
     "schema_version": 3,
     "solution": true,
     "task": false
    }
   },
   "outputs": [
   ],
   "source": [
    "import numpy as np\n",
    "\n",
    "def col(A, n):\n",
    "    \"\"\"\n",
    "    Return the nth column of the 2D array A as a 2D column vector\n",
    "    \"\"\"\n",
    "    # YOUR CODE HERE\n",
    "    a = A.shape[0]\n",
    "    return A[:a,n:n+1]"
   ]
  },
  {
   "cell_type": "code",
   "execution_count": 3,
   "metadata": {
    "collapsed": false,
    "deletable": false,
    "editable": false,
    "nbgrader": {
     "grade": true,
     "grade_id": "0652ab",
     "locked": true,
     "points": 1,
     "schema_version": 3,
     "solution": false,
     "task": false
    }
   },
   "outputs": [
    {
     "name": "stdout",
     "output_type": "stream",
     "text": [
      "(2, 1)\n",
      "(2, 1)\n",
      "[[1]\n",
      " [3]]\n",
      "[[2]\n",
      " [4]]\n"
     ]
    }
   ],
   "source": [
    "# Use this cell to check that your function returns the correct outputs for some sample inpus\n",
    "\n",
    "A = np.array([[1,2], [3,4]])\n",
    "c0 = col(A, 0)\n",
    "c1 = col(A, 1)\n",
    "print(c0.shape) # should be (2, 1)\n",
    "print(c1.shape) # should be (2, 1)\n",
    "print(c0) # should look like [[1]\n",
    "          #                   [3]]\n",
    "print(c1) # should look like [[2]\n",
    "          #                   [4]]\n",
    "\n"
   ]
  },
  {
   "cell_type": "code",
   "execution_count": 0,
   "metadata": {
    "collapsed": false
   },
   "outputs": [
   ],
   "source": [
   ]
  }
 ],
 "metadata": {
  "kernelspec": {
   "display_name": "Python 3 (system-wide)",
   "language": "python",
   "metadata": {
    "cocalc": {
     "description": "Python 3 programming language",
     "priority": 100,
     "url": "https://www.python.org/"
    }
   },
   "name": "python3",
   "resource_dir": "/ext/jupyter/kernels/python3"
  },
  "language_info": {
   "codemirror_mode": {
    "name": "ipython",
    "version": 3
   },
   "file_extension": ".py",
   "mimetype": "text/x-python",
   "name": "python",
   "nbconvert_exporter": "python",
   "pygments_lexer": "ipython3",
   "version": "3.8.5"
  }
 },
 "nbformat": 4,
 "nbformat_minor": 4
}