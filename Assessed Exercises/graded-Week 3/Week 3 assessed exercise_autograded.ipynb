{
  "cells": [
    {
      "cell_type": "markdown",
      "metadata": {
        "collapsed": false,
        "deletable": false,
        "editable": false,
        "nbgrader": {
          "grade": false,
          "grade_id": "856a59",
          "locked": true,
          "schema_version": 3,
          "solution": false,
          "task": false
        }
      },
      "source": [
        "# Week 3 assessed exercise\n",
        "\n",
        "Complete this exercise before 23:59 GMT on Sunday 7th February.\n",
        "\n",
        "## Part 1\n",
        "\n",
        "The cell below contains the definition of a Python `Fraction` class.  An object created with `Fraction(a, b)` represents the fraction $\\frac{a}{b}$.  Read the `__eq__` method carefully: it implements the usual rule that $\\frac{a}{b} = \\frac{c}{d}$ if and only if $ad = bc$.\n",
        "\n",
        "**Write the class method** `__mul__(self, other)` **which should return a** `Fraction` **representing the product of** `self` **and** `other`.\n",
        "\n",
        "For example, if `self` was `Fraction(1, 2)` and other was `Fraction(3, 7)` then the `__mul__` method should return a `Fraction` object equal (according to the `__eq__` method) to `Fraction(3, 14)`.\n",
        "\n",
        "You can assume that the numerator and denominator of a `Fraction` are integers and that the denominator is never zero."
      ]
    },
    {
      "cell_type": "code",
      "execution_count": 20,
      "metadata": {
        "collapsed": false,
        "deletable": false,
        "nbgrader": {
          "checksum": "54da82bdad0239e7280590b40a95228a",
          "grade": false,
          "grade_id": "5fdc47",
          "locked": false,
          "schema_version": 3,
          "solution": true,
          "task": false
        }
      },
      "outputs": [],
      "source": [
        "class Fraction:\n",
        "    def __init__(self, a, b):\n",
        "        self.numerator = a\n",
        "        self.denominator = b\n",
        "\n",
        "    def __eq__(self, other):\n",
        "        return self.numerator * other.denominator == self.denominator * other.numerator\n",
        "\n",
        "    def __str__(self):\n",
        "        return str(self.numerator) + \" / \" + str(self.denominator)\n",
        "\n",
        "    def __mul__(self, other):\n",
        "        # YOUR CODE HERE\n",
        "        c = self.numerator * other.numerator\n",
        "        d = other.denominator*self.denominator\n",
        "        return Fraction(c,d)"
      ]
    },
    {
      "cell_type": "code",
      "execution_count": 21,
      "metadata": {
        "collapsed": false,
        "nbgrader": {
          "grade": true,
          "grade_id": "59b4bc",
          "locked": true,
          "points": 1,
          "schema_version": 3,
          "solution": false,
          "task": false
        }
      },
      "outputs": [
        {
          "name": "stdout",
          "text": "1 / 4\n3 / 10\n"
        }
      ],
      "source": [
        "# Run these tests to see if your solution has an error\n",
        "x = Fraction(1, 2)\n",
        "y = Fraction(3, 5)\n",
        "print(x * x) # should be 1 / 4, or any fraction equal to this\n",
        "print(x * y) # should be 3 / 10, or any fraction equal to this\n",
        "\n"
      ]
    },
    {
      "cell_type": "markdown",
      "metadata": {
        "collapsed": false,
        "deletable": false,
        "editable": false,
        "nbgrader": {
          "grade": false,
          "grade_id": "324843",
          "locked": true,
          "remove": false,
          "schema_version": 3,
          "solution": false,
          "task": false
        }
      },
      "source": [
        "## Part 2\n",
        "\n",
        "**Write the class method** `__add__(self, other)` **which should return a** `Fraction` **representing the sum of** `self` **and** `other` using the formula\n",
        "\n",
        "$$ \\frac{a}{b} + \\frac c d = \\frac{ad + bc}{bd} $$\n",
        "\n",
        "For example, if `self` is `Fraction(1, 2)` and `other` is `Fraction(1, 3)` then `__add__(self, other)` should return a `Fraction` object equal (according to the `__eq__` method) to `Fraction(5, 6)`.\n"
      ]
    },
    {
      "cell_type": "code",
      "execution_count": 22,
      "metadata": {
        "collapsed": false,
        "deletable": false,
        "nbgrader": {
          "checksum": "0cbb81fe2ce96a2c3a48ff37f182d0a3",
          "grade": false,
          "grade_id": "45ec41",
          "locked": false,
          "schema_version": 3,
          "solution": true,
          "task": false
        }
      },
      "outputs": [],
      "source": [
        "class Fraction:\n",
        "    def __init__(self, a, b):\n",
        "        self.numerator = a\n",
        "        self.denominator = b\n",
        "\n",
        "    def __eq__(self, other):\n",
        "        return self.numerator * other.denominator == self.denominator * other.numerator\n",
        "\n",
        "    def __str__(self):\n",
        "        return str(self.numerator) + \" / \" + str(self.denominator)\n",
        "\n",
        "    def __add__(self, other):\n",
        "        # YOUR CODE HERE\n",
        "        c = (self.numerator * other.denominator) + (self.denominator * other.numerator)\n",
        "        d = self.denominator * other.denominator\n",
        "        return Fraction(c,d)"
      ]
    },
    {
      "cell_type": "code",
      "execution_count": 23,
      "metadata": {
        "collapsed": false,
        "nbgrader": {
          "grade": true,
          "grade_id": "793049",
          "locked": true,
          "points": 1,
          "schema_version": 3,
          "solution": false,
          "task": false
        }
      },
      "outputs": [
        {
          "name": "stdout",
          "text": "4 / 4\n11 / 10\n"
        }
      ],
      "source": [
        "# Run these tests to see if your solution has an error\n",
        "x = Fraction(1, 2)\n",
        "y = Fraction(3, 5)\n",
        "print(x + x) # should be 4 / 4, or any fraction equal to this\n",
        "print(x + y) # should be 11 / 10, or any fraction equal to this\n",
        "\n"
      ]
    },
    {
      "cell_type": "code",
      "execution_count": 0,
      "metadata": {
        "collapsed": false
      },
      "outputs": [],
      "source": []
    }
  ],
  "metadata": {
    "kernelspec": {
      "display_name": "Python 3 (system-wide)",
      "language": "python",
      "metadata": {
        "cocalc": {
          "description": "Python 3 programming language",
          "priority": 100,
          "url": "https://www.python.org/"
        }
      },
      "name": "python3",
      "resource_dir": "/ext/jupyter/kernels/python3"
    },
    "language_info": {
      "codemirror_mode": {
        "name": "ipython",
        "version": 3
      },
      "file_extension": ".py",
      "mimetype": "text/x-python",
      "name": "python",
      "nbconvert_exporter": "python",
      "pygments_lexer": "ipython3",
      "version": "3.8.5"
    }
  },
  "nbformat": 4,
  "nbformat_minor": 4
}