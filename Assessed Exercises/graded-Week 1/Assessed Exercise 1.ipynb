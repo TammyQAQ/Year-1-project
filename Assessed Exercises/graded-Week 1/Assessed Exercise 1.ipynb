{
 "cells": [
  {
   "cell_type": "markdown",
   "metadata": {
    "collapsed": false,
    "deletable": false,
    "editable": false,
    "nbgrader": {
     "grade": false,
     "grade_id": "cb6ddb",
     "locked": true,
     "schema_version": 3,
     "solution": false,
     "task": false
    }
   },
   "source": [
    "# Assessed exercise 1\n",
    "\n",
    "Both parts of this assessed exercise must be completed by 23:59 GMT on Sunday 24th January 2021.\n",
    "\n",
    "When you've answered both parts, just make sure the notebook is saved by trying to click on the green Save button at the top.  You do not need to submit it or do anything else.\n",
    "\n",
    "## Part 1\n",
    "\n",
    "For real numbers $p$ and $q$ we define $D(p, q) = p^3/27 + q^2/4$.\n",
    "\n",
    "Write a Python function `D(p, q)` which returns $p^3/27 + q^2/4$."
   ]
  },
  {
   "cell_type": "code",
   "execution_count": 12,
   "metadata": {
    "collapsed": false,
    "deletable": false,
    "nbgrader": {
     "cell_type": "code",
     "checksum": "b562018390b115bb9063eacf7fd891ff",
     "grade": false,
     "grade_id": "04a3d6",
     "locked": false,
     "schema_version": 3,
     "solution": true,
     "task": false
    }
   },
   "outputs": [
   ],
   "source": [
    "def D(p, q):\n",
    "    \"\"\"\n",
    "    Input: two numbers p and q\n",
    "    Output: the function D(p, q) defined above\n",
    "    \"\"\"\n",
    "    # YOUR CODE HERE\n",
    "    return p**3/27+q**2/4"
   ]
  },
  {
   "cell_type": "code",
   "execution_count": 13,
   "metadata": {
    "collapsed": false,
    "deletable": false,
    "editable": false,
    "nbgrader": {
     "grade": true,
     "grade_id": "dfa17f",
     "locked": true,
     "points": 1,
     "schema_version": 3,
     "solution": false,
     "task": false
    }
   },
   "outputs": [
    {
     "name": "stdout",
     "output_type": "stream",
     "text": [
      "0.0\n",
      "2.0\n",
      "0.0\n"
     ]
    }
   ],
   "source": [
    "# Once you've written the function D, this cell can be used for testing it\n",
    "\n",
    "print(D(0, 0)) # should be 0.0\n",
    "print(D(3, 2)) # should be 2.0\n",
    "print(D(-3, -2)) # should be 0.0\n"
   ]
  },
  {
   "cell_type": "markdown",
   "metadata": {
    "collapsed": false,
    "deletable": false,
    "editable": false,
    "nbgrader": {
     "grade": false,
     "grade_id": "7a14fe",
     "locked": true,
     "schema_version": 3,
     "solution": false,
     "task": false
    }
   },
   "source": [
    "## Part 2\n",
    "\n",
    "The number\n",
    "\n",
    "$$r(p, q) = \\sqrt[3]{ -\\frac{q}{2} + \\sqrt{D(p, q)}} + \\sqrt[3]{- \\frac{q}{2} - \\sqrt{D(p, q)}}$$\n",
    "\n",
    "is a root of the *depressed cubic* $x^3 + px + q$, where $D$ is the function defined above.\n",
    "\n",
    "Write a Python function `r(p, q)` which returns $r(p, q)$."
   ]
  },
  {
   "cell_type": "code",
   "execution_count": 10,
   "metadata": {
    "collapsed": false,
    "deletable": false,
    "nbgrader": {
     "cell_type": "code",
     "checksum": "087588ea1145d15f78770df56680373b",
     "grade": false,
     "grade_id": "3060f7",
     "locked": false,
     "schema_version": 3,
     "solution": true,
     "task": false
    }
   },
   "outputs": [
   ],
   "source": [
    "def r(p, q):\n",
    "    \"\"\"\n",
    "    Input: two real numbers p and q. You may assume D(p, q) >= 0.\n",
    "    Output: the function r(p, q) defined above\n",
    "    \"\"\"\n",
    "    # YOUR CODE HERE\n",
    "    return ((-q/2+(D(p, q))**(1/2))**(1/3)+(-q/2-(D(p, q))**(1/2))**(1/3))"
   ]
  },
  {
   "cell_type": "code",
   "execution_count": 14,
   "metadata": {
    "collapsed": false,
    "deletable": false,
    "editable": false,
    "nbgrader": {
     "grade": true,
     "grade_id": "6e85ae",
     "locked": true,
     "points": 1,
     "schema_version": 3,
     "solution": false,
     "task": false
    }
   },
   "outputs": [
    {
     "name": "stdout",
     "output_type": "stream",
     "text": [
      "0.0\n",
      "2.0\n",
      "3.0\n"
     ]
    }
   ],
   "source": [
    "# Once you've written the function r(p, q), this cell can be used for testing it\n",
    "\n",
    "print(r(0, 0)) # should be 0.0\n",
    "print(r(-3, -2)) # should be 2.0\n",
    "print(r(-4, -15)) # should be 3.0\n"
   ]
  },
  {
   "cell_type": "code",
   "execution_count": 0,
   "metadata": {
    "collapsed": false
   },
   "outputs": [
   ],
   "source": [
   ]
  }
 ],
 "metadata": {
  "kernelspec": {
   "display_name": "Python 3 (system-wide)",
   "language": "python",
   "metadata": {
    "cocalc": {
     "description": "Python 3 programming language",
     "priority": 100,
     "url": "https://www.python.org/"
    }
   },
   "name": "python3",
   "resource_dir": "/ext/jupyter/kernels/python3"
  },
  "language_info": {
   "codemirror_mode": {
    "name": "ipython",
    "version": 3
   },
   "file_extension": ".py",
   "mimetype": "text/x-python",
   "name": "python",
   "nbconvert_exporter": "python",
   "pygments_lexer": "ipython3",
   "version": "3.8.5"
  }
 },
 "nbformat": 4,
 "nbformat_minor": 4
}