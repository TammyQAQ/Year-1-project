{
 "cells": [
  {
   "cell_type": "markdown",
   "metadata": {
    "collapsed": false
   },
   "source": [
    "**Double click here and enter the student numbers for all minigroup members. Don't enter any names.**\n",
    "1. **First student number**\n",
    "2. **Second student number**\n",
    "3. **Third student number.**\n",
    "\n",
    "Before you start work on the project, **[click on this link to read the MATH0011 project instructions.](https://www.ucl.ac.uk/~ucahmto/0011/projectinstructions.html)**"
   ]
  },
  {
   "cell_type": "markdown",
   "metadata": {
    "collapsed": false
   },
   "source": [
    "# Project 4 - Prisoner's Dilemma\n",
    "\n",
    "This project is about a simple two-player game.  In the game each player has only two choices: they can **cooperate** or **cheat**.  They choose secretly, so they do not know what their opponent will do. Each player gets a score (or \"payoff\") as follows:\n",
    " - if both players cheat, they both get 0 points\n",
    " - if both players cooperate, they both get 2 points\n",
    " - if one player cooperates and one player cheats, the one who cheats gets 3 points and the one who cooperates gets -1 points.\n",
    "\n",
    "The game is played several times and whoever has the most points at the end is the winner.\n",
    "\n",
    "Many different versions of this game exist, and they form a fundamental example in [game theory](https://en.wikipedia.org/wiki/Game_theory).  You can learn more about game theory in the fourth year module [MATH0082](https://www.ucl.ac.uk/maths/sites/maths/files/math0082_1.pdf).\n",
    "\n",
    "In this project you will investigate how well various strategies do when they play this game.  You will simulate games with just two players as well as \"tournaments\" where many different players all play each other. Finally you will investigate the results of changing the payoffs on how well strategies perform. \n",
    "\n",
    "\n",
    "## Exercise 0 (optional, no marks)\n",
    "\n",
    "Play through [The Evolution of Trust](https://ncase.me/trust/), Nicky Case's web game about the iterated prisoner's dilemma."
   ]
  },
  {
   "cell_type": "markdown",
   "metadata": {
    "collapsed": false
   },
   "source": [
    "## Exercise 1\n",
    "\n",
    "Throughout this project we will represent cooperating by the number 0 and cheating by the number 1.  Run the next cell."
   ]
  },
  {
   "cell_type": "code",
   "execution_count": 0,
   "metadata": {
    "collapsed": false
   },
   "outputs": [
   ],
   "source": [
    "cooperate = 0\n",
    "cheat = 1"
   ]
  },
  {
   "cell_type": "markdown",
   "metadata": {
    "collapsed": false
   },
   "source": [
    "A playing strategy will be represented by a function which takes a single argument and outputs either `cooperate` or `cheat`.  The argument to the function will be a list `history` of the choices the opponent has made so far, starting with the first choice and ending with the most recent choice. For example, if no games have been played yet then `history` would be the empty list `[]`, and if three games have been played and the opponent cooperated in the first game and then cheated in the next two games, `history` would be equal to\n",
    "```\n",
    "[cooperate, cheat, cheat]\n",
    "```\n",
    "\n",
    "One of the simplest strategies is to ignore the history of moves the opponent has made and always cheat. This would be represented by the following function:"
   ]
  },
  {
   "cell_type": "code",
   "execution_count": 0,
   "metadata": {
    "collapsed": false
   },
   "outputs": [
   ],
   "source": [
    "def always_cheat(history):\n",
    "    return cheat"
   ]
  },
  {
   "cell_type": "markdown",
   "metadata": {
    "collapsed": false
   },
   "source": [
    "**Write functions implementing the following strategies.**\n",
    "1. Always cooperate.\n",
    "2. (\"tit for tat\") On the first game, cooperate. After that do whatever the opponent did in the previous game.\n",
    "3. (\"random choice\") In each game, cheat with probably 1/2, otherwise cooperate.\n",
    "4. (\"grudge\") If your opponent has ever cheated, cheat. Otherwise cooperate.\n",
    "\n",
    "For part 3, it may be helpful to `import random` and investigate `random.choice` or use to use the function `random.random()` which generates a uniform random number between 0 and 1."
   ]
  },
  {
   "cell_type": "code",
   "execution_count": 1,
   "metadata": {
    "collapsed": false
   },
   "outputs": [
   ],
   "source": [
    "def always_cooperate(history):\n",
    "    # your code here\n",
    "    return cooperate"
   ]
  },
  {
   "cell_type": "code",
   "execution_count": 0,
   "metadata": {
    "collapsed": false
   },
   "outputs": [
   ],
   "source": [
    "def tit_for_tat(history):\n",
    "    # your code here"
   ]
  },
  {
   "cell_type": "code",
   "execution_count": 0,
   "metadata": {
    "collapsed": false
   },
   "outputs": [
   ],
   "source": [
    "import random\n",
    "\n",
    "def random_choice(history):\n",
    "    # your code here"
   ]
  },
  {
   "cell_type": "code",
   "execution_count": 0,
   "metadata": {
    "collapsed": false
   },
   "outputs": [
   ],
   "source": [
    "def grudge(history):\n",
    "    # your code here"
   ]
  },
  {
   "cell_type": "markdown",
   "metadata": {
    "collapsed": false
   },
   "source": [
    "## Exercise 2\n",
    "\n",
    "Write a function `play_n_games(player1, player2, n)`. The arguments `player1` and `player2` should be strategy functions like the ones you wrote in Exercise 1.  The function should run `n` games between the two players, and should return a tuple `(score1, score2)` where `score1` is `player1`'s score after `n` games and `score2` is `player2`'s score after `n` games.\n",
    "\n",
    "You will need to keep lists `history1` and `history2` of the moves made by `player1` and `player2` to supply the arguments to the player functions, and update these lists each time a game is played.\n",
    "\n",
    "**Print the values of:**\n",
    "- `play_n_games(always_cooperate, tit_for_tat, 10)`\n",
    "- `play_n_games(always_cheat, tit_for_tat, 10)`\n",
    "- `play_n_games(grudge, tit_for_tat, 10)`\n",
    "- `play_n_games(grudge, always_cheat, 10)`\n",
    "\n",
    "\n",
    "The output of `play_n_games(always_cheat, always_cooperate, 10)` should be `(30, -10)` - if your function doesn't give this result, something is wrong."
   ]
  },
  {
   "cell_type": "code",
   "execution_count": 0,
   "metadata": {
    "collapsed": false
   },
   "outputs": [
   ],
   "source": [
   ]
  },
  {
   "cell_type": "markdown",
   "metadata": {
    "collapsed": false
   },
   "source": [
    "## Exercise 3\n",
    "\n",
    "Write a function `tournament(player_list)`.  The argument `player_list` will be a list of strategy functions `[player1, ..., playerN]`.  Every player should play every other player exactly ten times - that is, you need to call `play_n_games` once with `n=10` for each pair of distinct players from `player_list`.  The function should return a list `[score1, ..., scoreN]` of the *total* scores of each player.\n",
    "\n",
    "Print the output of\n",
    "- `tournament([always_cheat, always_cheat, always_cheat, always_cheat, tit_for_tat, tit_for_tat, tit_for_tat])`\n",
    "- `tournament([always_cheat, always_cooperate, tit_for_tat, tit_for_tat])`\n",
    "- `tournament([grudge, grudge, grudge, random_choice, always_cheat, always_cheat, tit_for_tat, tit_for_tat, tit_for_tat])`"
   ]
  },
  {
   "cell_type": "code",
   "execution_count": 0,
   "metadata": {
    "collapsed": false
   },
   "outputs": [
   ],
   "source": [
   ]
  },
  {
   "cell_type": "markdown",
   "metadata": {
    "collapsed": false
   },
   "source": [
    "## Exercise 4\n",
    "\n",
    "We will now change the payoffs so that\n",
    "\n",
    " - if both players cheat, they both get 0 points\n",
    " - if both players cooperate, they both get 1 point\n",
    " - if one player cooperates and one player cheats, the one who cheats gets 3 points and the one who cooperates gets 2 points.\n",
    "\n",
    "This changes the game in an important way.  In the old game, no matter what player 1 does, player 2 gets a better score by cheating.  In the new game if player 1 cheats then player 2 does better by cooperating (player 2 gets 2 points by cooperating instead of 0 if they cheat), but if player 1 cooperates then player 2 does better by cheating (player 2 gets 3 points if the cheat instead of 1 if they cooperate).\n",
    "\n",
    "With the new payoffs, **do the following**:\n",
    "\n",
    "- compute the results of 50000 games between a `random_choice` player 1 and a player 2 who cheats with probability `p=0/10`.\n",
    "- compute the results of 50000 games between a `random_choice` player 1 and a player 2 who cheats with probability `p=1/10`.\n",
    "- compute the results of 50000 games between a `random_choice` player 1 and a player 2 who cheats with probability `p=2/10`.\n",
    "- ...\n",
    "- compute the results of 50000 games between a `random_choice` player 1 and a player 2 who cheats with probability `p=10/10`.\n",
    "\n",
    "\n",
    "You should see that player 2 gets approximately the same score *no matter what the value of `p`* - this situation is called a [Nash equilibrium](https://en.wikipedia.org/wiki/Nash_equilibrium).\n",
    "\n",
    "It might be helpful to use the function `random.random()`, which produces a uniformly distributed random number between 0 and 1.  This means the probability that `random.random()` is less than `p` equals `p`."
   ]
  },
  {
   "cell_type": "code",
   "execution_count": 0,
   "metadata": {
    "collapsed": false
   },
   "outputs": [
   ],
   "source": [
   ]
  },
  {
   "cell_type": "markdown",
   "metadata": {
    "collapsed": false
   },
   "source": [
    "# Submitting your project\n",
    "\n",
    "Have you done all of the following things?\n",
    "\n",
    "0. Included **all** minigroup members' student numbers at the top of this notebook.\n",
    "1. Read through every exercise to check you have answered every part.\n",
    "1. Carefully read and followed all of the [MATH0011 project instructions](https://www.ucl.ac.uk/~ucahmto/0011/projectinstructions.html).\n",
    "2. Checked that all of the code in this notebook works correctly.\n",
    "\n",
    "If you have, you're ready to submit.  One minigroup member only should download the completed notebook (in CoCalc, click the File menu next to the green Save button, then click Download) and submit it on the MATH0011 Moodle.  Please submit **only one file per minigroup.**"
   ]
  }
 ],
 "metadata": {
  "kernelspec": {
   "display_name": "Python 3 (system-wide)",
   "language": "python",
   "metadata": {
    "cocalc": {
     "description": "Python 3 programming language",
     "priority": 100,
     "url": "https://www.python.org/"
    }
   },
   "name": "python3",
   "resource_dir": "/ext/jupyter/kernels/python3"
  },
  "language_info": {
   "codemirror_mode": {
    "name": "ipython",
    "version": 3
   },
   "file_extension": ".py",
   "mimetype": "text/x-python",
   "name": "python",
   "nbconvert_exporter": "python",
   "pygments_lexer": "ipython3",
   "version": "3.8.5"
  }
 },
 "nbformat": 4,
 "nbformat_minor": 4
}