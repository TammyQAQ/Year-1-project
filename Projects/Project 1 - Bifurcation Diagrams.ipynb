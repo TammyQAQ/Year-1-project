{
 "cells": [
  {
   "cell_type": "markdown",
   "metadata": {
    "collapsed": false
   },
   "source": [
    "**Double click here and enter the student numbers for all minigroup members. Don't enter any names.**\n",
    "1. 20018539\n",
    "2. 20015477\n",
    "3. 17023058\n",
    "\n",
    "Before you start work on the project, **[click on this link to read the MATH0011 project instructions.](https://www.ucl.ac.uk/~ucahmto/0011/projectinstructions.html)**"
   ]
  },
  {
   "cell_type": "markdown",
   "metadata": {
    "collapsed": false
   },
   "source": [
    "# Project 1 - Bifurcation Diagrams\n",
    "\n",
    "This project explores the behaviour of the sequence defined by $x_0 = 1/2$ and\n",
    "\n",
    "$$ x_{n+1} = \\gamma x_n (1 - \\tanh(x_n))$$\n",
    "\n",
    "for $n \\geq 0$. You will see that as $\\gamma$ increases the behaviour of the sequence $(x_n)$ changes in an interesting way.  For $\\gamma$ less than about 5, the sequence $x_n$ converges: e.g. if $\\gamma=4$ then\n",
    "$$ x_n \\to 0.9729550\\cdots \\textrm{ as } n \\to \\infty.$$\n",
    "\n",
    "When $5.1\\leq \\gamma \\leq 8$ the sequence doesn't converge to a limit, but instead tends to cycle between two values. For example, if $\\gamma=6$ then\n",
    "\n",
    "$$ x_{1000} = 0.6913336\\cdots, x_{1001} = 1.6640204\\cdots, x_{1002} = 0.6913336\\cdots, x_{1003} = 1.6640204\\cdots$$\n",
    "\n",
    "As $\\gamma$ increases the limiting behaviour becomes a cycle of 4 values, then of 8, then 16, and so on. For gamma around 9.4 stops tending to a cycle at all and becomes completely non-periodic, but there are larger values of $\\gamma$ at which the sequence again tends to a cycle.\n",
    "\n",
    "A [**bifurcation diagram**](https://en.wikipedia.org/wiki/Bifurcation_diagram) is a diagram which summarises this behaviour.  The horizontal axis is the value of $\\gamma$\n",
    "\n",
    "\n",
    "\n",
    "The first cell below imports some functions that you will need for plotting, and a matplotlib command to make plots work correctly in a notebook."
   ]
  },
  {
   "cell_type": "code",
   "execution_count": 2,
   "metadata": {
    "collapsed": false
   },
   "outputs": [
   ],
   "source": [
    "import math\n",
    "import matplotlib.pyplot as plt\n",
    "\n",
    "import numpy as np"
   ]
  },
  {
   "cell_type": "markdown",
   "metadata": {
    "collapsed": false
   },
   "source": [
    "## Exercise 1\n",
    "\n",
    "Write a Python function `G(x, g)` whose output is $gx (1- \\tanh(x))$."
   ]
  },
  {
   "cell_type": "code",
   "execution_count": 3,
   "metadata": {
    "collapsed": false
   },
   "outputs": [
   ],
   "source": [
    "def G(x, g):\n",
    "    return g * x *(1 - np.tanh(x))         #define a function about x and g"
   ]
  },
  {
   "cell_type": "markdown",
   "metadata": {
    "collapsed": false
   },
   "source": [
    "## Exercise 2\n",
    "\n",
    "If $f$ is a function, we define $f^{\\circ n}$ to be the function $f\\circ f \\circ \\cdots \\circ f$ obtained by composing $f$ with itself $n$ times.  Thus \n",
    "$$ \\begin{align*}f^{\\circ 1}(x) & = f(x)\\\\\n",
    "f^{\\circ 2}(x) &= f(f(x))\\\\\n",
    "f^{\\circ 3}(x) &= f(f(f(x)))\n",
    "\\end{align*} $$\n",
    "and so on.\n",
    "\n",
    "Write a function `iterate(f, x0, n)` which takes a function $f$, a number $x_0$, and a positive whole number $n$ and returns $f^{\\circ n}(x_0)$, \n"
   ]
  },
  {
   "cell_type": "code",
   "execution_count": 4,
   "metadata": {
    "collapsed": false
   },
   "outputs": [
   ],
   "source": [
    "def iterate(f,x0,n):\n",
    "    x = x0                    #start from initial value\n",
    "    for i in range(n):        #forloop to get iteration for composing f\n",
    "        x = f(x)              \n",
    "    return x"
   ]
  },
  {
   "cell_type": "markdown",
   "metadata": {
    "collapsed": false
   },
   "source": [
    "## Exercise 3\n",
    "\n",
    "The number $y_0$ is said to be $m$-periodic for the function $f$ if $m$ is the smallest positive whole number such that $y_0 = f^{\\circ m}(y_0)$. We'd like to check whether $y_0$ is $m$-periodic for some $m$, but because of rounding errors we can't expect $y_0$ to be exactly equal to $f^{\\circ m}(y_0)$.  For this reason we'll relax our definition a bit by allowing $f^{\\circ m}(y_0)$ to be within $\\epsilon$ of $y_0$, where $\\epsilon$ is some small number.\n",
    "\n",
    "Write a function `periodicity(y0, f, epsilon, max_iter)` which takes as input a number $y_0$, a function $f$, a number $\\epsilon$, and a positive whole number `max_iter`, and returns the smallest $m$ such that \n",
    "\n",
    "$$ | y_0 - f^{\\circ m}(y_0) | < \\epsilon $$\n",
    "\n",
    "if there is such an $m$ less than `max_iter`. If there is no such $m$ less than `max_iter` it should return $-1$."
   ]
  },
  {
   "cell_type": "code",
   "execution_count": 5,
   "metadata": {
    "collapsed": false
   },
   "outputs": [
   ],
   "source": [
    "def periodicity(y0, f, epsilon, max_iter):\n",
    "    m = 1                                             #start from m=1\n",
    "    while abs(y0 - iterate(f, y0, m)) >= epsilon:     #find m satisfying this condition\n",
    "        m = m + 1\n",
    "        if m < max_iter:                              #a condition to check relationship between m and max_iter\n",
    "            return m\n",
    "        else:\n",
    "            return -1"
   ]
  },
  {
   "cell_type": "code",
   "execution_count": 0,
   "metadata": {
    "collapsed": false
   },
   "outputs": [
   ],
   "source": [
   ]
  },
  {
   "cell_type": "markdown",
   "metadata": {
    "collapsed": false
   },
   "source": [
    "## Exercise 4\n",
    "\n",
    "In this exercise you are going to produce a bifurcation diagram for the function $G(x, \\gamma)$ for $\\gamma$ between 1 and 15.   \n",
    "\n",
    "To do this you will need to choose `N` (say) equally spaced values of $\\gamma$ between 1 and 15.  `N=5000` is a good choice for the finished diagram, but you might want to make `N` smaller to begin with to make the code run quickly.\n",
    "\n",
    "For each of these values of $\\gamma$, compute $y_0 = f^{\\circ M}(1/2)$ where $f(x)=G(x, \\gamma)$ and `M=1000` (again, using a smaller value initially will make your code faster but less accurate).  This allows the iterations to settle down to a cycle, if they're going to. If $y_0$ is $m$-periodic - which you can check using your solution to Exercise 3, with `epsilon = 0.0001` say - plot all the points with coordinates\n",
    "\n",
    "$$ (\\gamma, y_0), (\\gamma, f(y_0)), (\\gamma, f(f(y_0))), \\ldots, (\\gamma, f^{\\circ (m-1)}(y_0)) $$\n",
    "\n",
    "If $y_0$ isn't $m$-periodic for any $m < 1000$ plot all `L` points with coordinates\n",
    "\n",
    "$$ (\\gamma, y_0), (\\gamma, f(y_0)), (\\gamma, f(f(y_0))), \\ldots, (\\gamma, f^{\\circ (L-1)}(y_0)) $$\n",
    "\n",
    "where `L = 500` (say).\n",
    "\n",
    "Here are some suggestions to help you create the diagram.\n",
    " - [`np.linspace`](https://docs.scipy.org/doc/numpy/reference/generated/numpy.linspace.html) will be useful\n",
    " - One way to plot points is [plt.scatter](https://matplotlib.org/3.1.1/api/_as_gen/matplotlib.pyplot.scatter.html).  Given lists `xs = [a0, a1, a2,...]` of x-coordinates and `ys = [b0, b1, b2, ...]` of y-coordinates, `plt.scatter(xs, ys)` plots the points with coordinates `(a0, b0), (a1, b1), ...`.  You may need to use `plt.scatter(xs, ys, s = e, marker='.')` where `e` is some small number to get the plot looking good.\n",
    " - Experiment to see what looks best! Read the [`plt.scatter` documentation](https://matplotlib.org/3.1.1/api/_as_gen/matplotlib.pyplot.scatter.html) and try different options, change `L`, `M`, and `N`, ...\n",
    " - Start with smaller values of `L, M, N` so that the code runs quickly, and increase them when you're confident everything works correctly.\n",
    " - **Important.** Only call `plt.scatter` **once** - you should generate all of the points in your plot, then use `plt.scatter` to plot them.  If you call `plt.scatter` lots of times, your code will take a long time to run."
   ]
  },
  {
   "cell_type": "code",
   "execution_count": 6,
   "metadata": {
    "collapsed": false
   },
   "outputs": [
   ],
   "source": [
    "N = 5000\n",
    "M = 1000\n",
    "L = 500"
   ]
  },
  {
   "cell_type": "code",
   "execution_count": 7,
   "metadata": {
    "collapsed": false
   },
   "outputs": [
    {
     "ename": "SyntaxError",
     "evalue": "invalid syntax (465183160.py, line 6)",
     "output_type": "error",
     "traceback": [
      "\u001b[0;36m  File \u001b[0;32m\"/tmp/ipykernel_653/465183160.py\"\u001b[0;36m, line \u001b[0;32m6\u001b[0m\n\u001b[0;31m    else m < 1000:\u001b[0m\n\u001b[0m         ^\u001b[0m\n\u001b[0;31mSyntaxError\u001b[0m\u001b[0;31m:\u001b[0m invalid syntax\n"
     ]
    }
   ],
   "source": [
    "ga = np.linspace(1, 15, 5000)\n",
    "f = G(1/2,ga)\n",
    "m =  periodicity (1/2, f, 0.00001, 1000)\n",
    "if m == -1:\n",
    "    return iterate(f, 1/2, L-1)\n",
    "else m < 1000:\n",
    "    return iterate(f, 1/2, m-1)\n"
   ]
  },
  {
   "cell_type": "code",
   "execution_count": 0,
   "metadata": {
    "collapsed": false
   },
   "outputs": [
   ],
   "source": [
   ]
  },
  {
   "cell_type": "code",
   "execution_count": 8,
   "metadata": {
    "collapsed": false
   },
   "outputs": [
    {
     "ename": "NameError",
     "evalue": "name 'gamma' is not defined",
     "output_type": "error",
     "traceback": [
      "\u001b[0;31m---------------------------------------------------------------------------\u001b[0m",
      "\u001b[0;31mNameError\u001b[0m                                 Traceback (most recent call last)",
      "\u001b[0;32m/tmp/ipykernel_653/1869633386.py\u001b[0m in \u001b[0;36m<cell line: 2>\u001b[0;34m()\u001b[0m\n\u001b[1;32m      1\u001b[0m \u001b[0mxs\u001b[0m \u001b[0;34m=\u001b[0m \u001b[0;34m[\u001b[0m\u001b[0mnp\u001b[0m\u001b[0;34m.\u001b[0m\u001b[0mlinspace\u001b[0m\u001b[0;34m(\u001b[0m\u001b[0;36m1\u001b[0m\u001b[0;34m,\u001b[0m \u001b[0;36m15\u001b[0m\u001b[0;34m,\u001b[0m \u001b[0;36m30\u001b[0m\u001b[0;34m)\u001b[0m\u001b[0;34m]\u001b[0m\u001b[0;34m\u001b[0m\u001b[0;34m\u001b[0m\u001b[0m\n\u001b[0;32m----> 2\u001b[0;31m \u001b[0mys\u001b[0m \u001b[0;34m=\u001b[0m \u001b[0;34m[\u001b[0m\u001b[0miterate\u001b[0m\u001b[0;34m(\u001b[0m\u001b[0mG\u001b[0m\u001b[0;34m(\u001b[0m\u001b[0;36m1\u001b[0m\u001b[0;34m/\u001b[0m\u001b[0;36m2\u001b[0m\u001b[0;34m,\u001b[0m \u001b[0mgamma\u001b[0m\u001b[0;34m)\u001b[0m\u001b[0;34m,\u001b[0m\u001b[0;36m1\u001b[0m\u001b[0;34m/\u001b[0m\u001b[0;36m2\u001b[0m\u001b[0;34m,\u001b[0m\u001b[0mm\u001b[0m\u001b[0;34m)\u001b[0m \u001b[0;32mfor\u001b[0m \u001b[0mx\u001b[0m \u001b[0;32min\u001b[0m \u001b[0mxs\u001b[0m\u001b[0;34m]\u001b[0m\u001b[0;34m\u001b[0m\u001b[0;34m\u001b[0m\u001b[0m\n\u001b[0m\u001b[1;32m      3\u001b[0m \u001b[0mplt\u001b[0m\u001b[0;34m.\u001b[0m\u001b[0mscatter\u001b[0m\u001b[0;34m(\u001b[0m\u001b[0mxs\u001b[0m\u001b[0;34m,\u001b[0m \u001b[0mys\u001b[0m\u001b[0;34m)\u001b[0m\u001b[0;34m\u001b[0m\u001b[0;34m\u001b[0m\u001b[0m\n",
      "\u001b[0;32m/tmp/ipykernel_653/1869633386.py\u001b[0m in \u001b[0;36m<listcomp>\u001b[0;34m(.0)\u001b[0m\n\u001b[1;32m      1\u001b[0m \u001b[0mxs\u001b[0m \u001b[0;34m=\u001b[0m \u001b[0;34m[\u001b[0m\u001b[0mnp\u001b[0m\u001b[0;34m.\u001b[0m\u001b[0mlinspace\u001b[0m\u001b[0;34m(\u001b[0m\u001b[0;36m1\u001b[0m\u001b[0;34m,\u001b[0m \u001b[0;36m15\u001b[0m\u001b[0;34m,\u001b[0m \u001b[0;36m30\u001b[0m\u001b[0;34m)\u001b[0m\u001b[0;34m]\u001b[0m\u001b[0;34m\u001b[0m\u001b[0;34m\u001b[0m\u001b[0m\n\u001b[0;32m----> 2\u001b[0;31m \u001b[0mys\u001b[0m \u001b[0;34m=\u001b[0m \u001b[0;34m[\u001b[0m\u001b[0miterate\u001b[0m\u001b[0;34m(\u001b[0m\u001b[0mG\u001b[0m\u001b[0;34m(\u001b[0m\u001b[0;36m1\u001b[0m\u001b[0;34m/\u001b[0m\u001b[0;36m2\u001b[0m\u001b[0;34m,\u001b[0m \u001b[0mgamma\u001b[0m\u001b[0;34m)\u001b[0m\u001b[0;34m,\u001b[0m\u001b[0;36m1\u001b[0m\u001b[0;34m/\u001b[0m\u001b[0;36m2\u001b[0m\u001b[0;34m,\u001b[0m\u001b[0mm\u001b[0m\u001b[0;34m)\u001b[0m \u001b[0;32mfor\u001b[0m \u001b[0mx\u001b[0m \u001b[0;32min\u001b[0m \u001b[0mxs\u001b[0m\u001b[0;34m]\u001b[0m\u001b[0;34m\u001b[0m\u001b[0;34m\u001b[0m\u001b[0m\n\u001b[0m\u001b[1;32m      3\u001b[0m \u001b[0mplt\u001b[0m\u001b[0;34m.\u001b[0m\u001b[0mscatter\u001b[0m\u001b[0;34m(\u001b[0m\u001b[0mxs\u001b[0m\u001b[0;34m,\u001b[0m \u001b[0mys\u001b[0m\u001b[0;34m)\u001b[0m\u001b[0;34m\u001b[0m\u001b[0;34m\u001b[0m\u001b[0m\n",
      "\u001b[0;31mNameError\u001b[0m: name 'gamma' is not defined"
     ]
    }
   ],
   "source": [
    "xs = [np.linspace(1, 15, 30)]\n",
    "ys = [iterate(G(1/2, gamma),1/2,m) for x in xs]\n",
    "plt.scatter(xs, ys)"
   ]
  },
  {
   "cell_type": "code",
   "execution_count": 0,
   "metadata": {
    "collapsed": false
   },
   "outputs": [
   ],
   "source": [
   ]
  },
  {
   "cell_type": "code",
   "execution_count": 0,
   "metadata": {
    "collapsed": false
   },
   "outputs": [
   ],
   "source": [
   ]
  },
  {
   "cell_type": "markdown",
   "metadata": {
    "collapsed": false
   },
   "source": [
    "# Submitting your project\n",
    "\n",
    "Have you done all of the following things?\n",
    "\n",
    "0. Included **all** minigroup members' student numbers at the top of this notebook.\n",
    "1. Read through every exercise to check you have answered every part.\n",
    "1. Carefully read and followed all of the [MATH0011 project instructions](https://www.ucl.ac.uk/~ucahmto/0011/projectinstructions.html).\n",
    "2. Checked that all of the code in this notebook works correctly.\n",
    "\n",
    "If you have, you're ready to submit.  One minigroup member only should download the completed notebook (in CoCalc, click the File menu next to the green Save button, then click Download) and submit it on the MATH0011 Moodle.  Please submit **only one file per minigroup.**"
   ]
  },
  {
   "cell_type": "code",
   "execution_count": 0,
   "metadata": {
    "collapsed": false
   },
   "outputs": [
   ],
   "source": [
   ]
  },
  {
   "cell_type": "code",
   "execution_count": 0,
   "metadata": {
    "collapsed": false
   },
   "outputs": [
   ],
   "source": [
   ]
  },
  {
   "cell_type": "code",
   "execution_count": 0,
   "metadata": {
    "collapsed": false
   },
   "outputs": [
   ],
   "source": [
   ]
  },
  {
   "cell_type": "code",
   "execution_count": 0,
   "metadata": {
    "collapsed": false
   },
   "outputs": [
   ],
   "source": [
   ]
  },
  {
   "cell_type": "code",
   "execution_count": 0,
   "metadata": {
    "collapsed": false
   },
   "outputs": [
   ],
   "source": [
   ]
  }
 ],
 "metadata": {
  "kernelspec": {
   "display_name": "Python 3 (system-wide)",
   "language": "python",
   "metadata": {
    "cocalc": {
     "description": "Python 3 programming language",
     "priority": 100,
     "url": "https://www.python.org/"
    }
   },
   "name": "python3",
   "resource_dir": "/ext/jupyter/kernels/python3"
  },
  "language_info": {
   "codemirror_mode": {
    "name": "ipython",
    "version": 3
   },
   "file_extension": ".py",
   "mimetype": "text/x-python",
   "name": "python",
   "nbconvert_exporter": "python",
   "pygments_lexer": "ipython3",
   "version": "3.8.10"
  }
 },
 "nbformat": 4,
 "nbformat_minor": 4
}