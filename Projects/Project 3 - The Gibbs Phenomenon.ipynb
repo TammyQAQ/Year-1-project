{
 "cells": [
  {
   "cell_type": "markdown",
   "metadata": {
    "collapsed": false
   },
   "source": [
    "**Double click here and enter the student numbers for all minigroup members. Don't enter any names.**\n",
    "1. **First student number**\n",
    "2. **Second student number**\n",
    "3. **Third student number.**\n",
    "\n",
    "Before you start work on the project, **[click on this link to read the MATH0011 project instructions.](https://www.ucl.ac.uk/~ucahmto/0011/projectinstructions.html)**"
   ]
  },
  {
   "cell_type": "markdown",
   "metadata": {
    "collapsed": false
   },
   "source": [
    "# Project 3 - The Gibbs Phenomenon\n",
    "\n",
    "This project is about a strange occurence in the theory of [Fourier series](https://en.wikipedia.org/wiki/Fourier_series).  You don't need to have any previous knowledge of Fourier series (which are covered in [Methods 3](https://www.ucl.ac.uk/maths/sites/maths/files/math0016.pdf) next year) to complete this project.\n",
    "\n",
    "In your analysis modules you looked at power series representations for functions - for example, you can represent the function $f(x) = e^x$ by a series\n",
    "$$ \\sum_{i=0}^\\infty \\frac{x^i}{i!}.$$\n",
    "A power series for a function $f$ expresses $f(x)$ as a sum of multiples of powers of $x$.  Fourier series are similar, but they represent functions as sums of multiples of functions of the form $\\sin(nx)$ and $\\cos(mx)$.\n",
    "\n",
    "\n",
    "\n",
    "The first cell below imports some functions that you will need for plotting."
   ]
  },
  {
   "cell_type": "code",
   "execution_count": 0,
   "metadata": {
    "collapsed": false
   },
   "outputs": [
   ],
   "source": [
    "import math\n",
    "import matplotlib.pyplot as plt\n",
    "import numpy as np"
   ]
  },
  {
   "cell_type": "markdown",
   "metadata": {
    "collapsed": false
   },
   "source": [
    "## Exercise 1\n",
    "\n",
    "Write a function `partial_sum(x, n)` whose output is\n",
    "\n",
    "$$ \\sum_{i=0}^n \\frac{\\sin((2i+1)x)}{2i+1}. $$\n",
    "\n",
    "One way to do this is with a list comprehension producing\n",
    "\n",
    "$$[ \\sin(x), \\sin(3x)/3, \\sin(5x)/5, \\dots ] $$\n",
    "\n",
    "together with the `sum` function, but you can use any method you want."
   ]
  },
  {
   "cell_type": "code",
   "execution_count": 0,
   "metadata": {
    "collapsed": false
   },
   "outputs": [
   ],
   "source": [
   ]
  },
  {
   "cell_type": "markdown",
   "metadata": {
    "collapsed": false
   },
   "source": [
    "Your `partial_sum` function is an example of a partial sum of a Fourier series. Specifically, this is the Fourier series representation of the square wave function which you will plot in the next exercise."
   ]
  },
  {
   "cell_type": "markdown",
   "metadata": {
    "collapsed": false
   },
   "source": [
    "## Exercise 2\n",
    "\n",
    "The function `square_wave(x)` is defined by\n",
    "$$ \\mathtt{square\\_wave}(x) = \\begin{cases} \n",
    "-\\pi/4 & x < 0 \\\\\n",
    "\\pi/4 & 0 \\leq x \\leq \\pi \\\\\n",
    "-\\pi/4 & \\pi < x \\leq 2\\pi \\\\\n",
    "\\pi/4 & x \\geq 2\\pi\\end{cases}$$\n",
    "Plot the graph of `square_wave(x)` for $-0.2 \\leq x \\leq 2\\pi + 0.2$ using `plt.plot`.  On the same axes plot `partial_sum(x, n)` for `n = 3`, and `n=15`."
   ]
  },
  {
   "cell_type": "code",
   "execution_count": 0,
   "metadata": {
    "collapsed": false
   },
   "outputs": [
   ],
   "source": [
   ]
  },
  {
   "cell_type": "markdown",
   "metadata": {
    "collapsed": false
   },
   "source": [
    "You are familiar with the fact that power series don't always converge - that's why you spend so much time in Analysis 1 thinking about radii of convergence.  Fourier series also have interesting convergence behaviour.  Your plots should show a special behaviour of Fourier series called the *Gibbs phenomenon*, where the partial sums are larger than the value of `square_wave(x)` for values of $x$ near to where `square_wave(x)` jumps from positive to negative.  In the next exercise you will investigate exactly how large is the difference between the partial sums and the square wave."
   ]
  },
  {
   "cell_type": "markdown",
   "metadata": {
    "collapsed": false
   },
   "source": [
    "## Exercise 3\n",
    "\n",
    "**Compute an approximation to $I = \\int_0 ^\\pi \\operatorname{sinc}(t) \\mathrm{d}t$, where**\n",
    "\n",
    "$$ \\operatorname{sinc}(x) = \\begin{cases} 1 & x = 0 \\\\ \\frac{\\sin(x)}{x} & x \\neq 0 \\end{cases}.$$\n",
    "\n",
    "You can either do this by using the code for the rectangle rule from our weekly notebooks, or by importing a command from one of the modules included with Anaconda - try searching the online documentation for numpy and scipy.\n",
    "\n",
    "**Then, on the same axes, plot `partial_sum(x, 100)`, `square_wave(x)`, and the lines $y = \\pm \\frac I2$** for $-0.2 \\leq x \\leq 2\\pi + 0.2$.\n",
    "You should see that the straight lines $y = \\pm \\frac I2$ show exactly how much the partial sums of the Fourier series differ from the square wave near to the points where the square wave changes value.\n",
    "\n",
    "\n"
   ]
  },
  {
   "cell_type": "code",
   "execution_count": 0,
   "metadata": {
    "collapsed": false
   },
   "outputs": [
   ],
   "source": [
   ]
  },
  {
   "cell_type": "markdown",
   "metadata": {
    "collapsed": false
   },
   "source": [
    "## Exercise 4\n",
    "\n",
    "Multiplying the $i$th term in the partial sum\n",
    "\n",
    "$$\\sum_{i=0}^n \\frac{\\sin((2i+1)x)}{2i+1}$$\n",
    "\n",
    "by the  [*Lanczos  sigma factor*](http://mathworld.wolfram.com/LanczosSigmaFactor.html) $\\operatorname{sinc}\\left(\\frac{(2i+1)\\pi}{4n}\\right)$ gives a new function\n",
    "\n",
    "$$\\mathtt{lanczos\\_partial\\_sum}(x,n) = \\sum_{i=0}^n \\operatorname{sinc}\\left(\\frac{(2i+1)\\pi}{4n}\\right) \\frac{\\sin((2i+1)x)}{2i+1}.$$\n",
    "\n",
    "\n",
    "On the same axes, plot `lanczos_partial_sum(x, 100)`, `square_wave(x)`, and the lines $y = \\pm \\frac I2$.  You will see that the Gibbs phenomenon is reduced, but not eliminated."
   ]
  },
  {
   "cell_type": "code",
   "execution_count": 0,
   "metadata": {
    "collapsed": false
   },
   "outputs": [
   ],
   "source": [
   ]
  },
  {
   "cell_type": "markdown",
   "metadata": {
    "collapsed": false
   },
   "source": [
    "# Submitting your project\n",
    "\n",
    "Have you done all of the following things?\n",
    "\n",
    "0. Included **all** minigroup members' student numbers at the top of this notebook.\n",
    "1. Read through every exercise to check you have answered every part.\n",
    "1. Carefully read and followed all of the [MATH0011 project instructions](https://www.ucl.ac.uk/~ucahmto/0011/projectinstructions.html).\n",
    "2. Checked that all of the code in this notebook works correctly.\n",
    "\n",
    "If you have, you're ready to submit.  One minigroup member only should download the completed notebook (in CoCalc, click the File menu next to the green Save button, then click Download) and submit it on the MATH0011 Moodle.  Please submit **only one file per minigroup.**"
   ]
  }
 ],
 "metadata": {
  "kernelspec": {
   "display_name": "Python 3 (system-wide)",
   "language": "python",
   "metadata": {
    "cocalc": {
     "description": "Python 3 programming language",
     "priority": 100,
     "url": "https://www.python.org/"
    }
   },
   "name": "python3",
   "resource_dir": "/ext/jupyter/kernels/python3"
  },
  "language_info": {
   "codemirror_mode": {
    "name": "ipython",
    "version": 3
   },
   "file_extension": ".py",
   "mimetype": "text/x-python",
   "name": "python",
   "nbconvert_exporter": "python",
   "pygments_lexer": "ipython3",
   "version": "3.8.5"
  }
 },
 "nbformat": 4,
 "nbformat_minor": 4
}